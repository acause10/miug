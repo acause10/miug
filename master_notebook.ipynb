{
 "cells": [
  {
   "cell_type": "code",
   "execution_count": 1,
   "id": "a88c1750",
   "metadata": {},
   "outputs": [],
   "source": [
    "import pandas as pd\n",
    "import numpy as np\n",
    "import matplotlib.pyplot as plt\n",
    "import seaborn as sns\n",
    "import tensorflow as tf\n",
    "import pickle\n",
    "try:\n",
    "    import faiss\n",
    "except:\n",
    "    pass\n",
    "\n",
    "from sklearn.preprocessing import LabelEncoder\n",
    "from sklearn.model_selection import train_test_split, learning_curve\n",
    "from sklearn.preprocessing import StandardScaler\n",
    "from sklearn.neighbors import KNeighborsClassifier\n",
    "from sklearn.neural_network import MLPClassifier\n",
    "from sklearn.metrics import accuracy_score\n",
    "from sklearn.metrics import accuracy_score, confusion_matrix, ConfusionMatrixDisplay, plot_confusion_matrix"
   ]
  },
  {
   "cell_type": "code",
   "execution_count": 2,
   "id": "632f5eb5",
   "metadata": {},
   "outputs": [],
   "source": [
    "def plot_cm_subplots(cm_dict, suptitle=None):\n",
    "    \n",
    "    fig, axes = plt.subplots(1, len(cm_dict), figsize=(20, 5), sharey='row')\n",
    "        \n",
    "    for i, (key, cf_matrix) in enumerate(cm_dict.items()):\n",
    "        disp = ConfusionMatrixDisplay(cf_matrix, display_labels=['Arrest','No Action'])\n",
    "        disp.plot(ax=axes[i], xticks_rotation=45)\n",
    "        disp.ax_.set_title(f'Confusion matrix for the {key} set')\n",
    "        disp.im_.colorbar.remove()\n",
    "        disp.ax_.set_xlabel('')\n",
    "        if i!=0:\n",
    "            disp.ax_.set_ylabel('')\n",
    "            \n",
    "    plt.subplots_adjust(wspace=0.40, hspace=0.1)\n",
    "    fig.colorbar(disp.im_, ax=axes)\n",
    "\n",
    "    if len(cm_dict) % 2 != 0:\n",
    "        j = int(np.floor(len(cm_dict)/2))\n",
    "        ax_pos = axes[j].get_position()\n",
    "        x_pos = (ax_pos.x0 + ax_pos.x1) / 2\n",
    "    else:\n",
    "        j = int((len(cm_dict) / 2) - 1)\n",
    "        k = int(len(cm_dict) / 2)\n",
    "        ax_pos_1 = axes[j].get_position()\n",
    "        ax_pos_2 = axes[k].get_position()\n",
    "        x_pos_1 = ax_pos_1.x1\n",
    "        x_pos_2 = ax_pos_2.x0\n",
    "        x_pos = (x_pos_1 + x_pos_2) / 2\n",
    "            \n",
    "    fig.text(x_pos, 0, 'Predicted label', ha='center')\n",
    "\n",
    "    if suptitle != None:\n",
    "        fig.text(x_pos, 0.95, suptitle, ha='center', fontsize=20)\n",
    "    plt.show()"
   ]
  },
  {
   "cell_type": "markdown",
   "id": "b2597284",
   "metadata": {},
   "source": [
    "# Preprocessing"
   ]
  },
  {
   "cell_type": "code",
   "execution_count": 3,
   "id": "6703c38b",
   "metadata": {},
   "outputs": [
    {
     "name": "stdout",
     "output_type": "stream",
     "text": [
      "<class 'pandas.core.frame.DataFrame'>\n",
      "RangeIndex: 402087 entries, 0 to 402086\n",
      "Data columns (total 14 columns):\n",
      " #   Column              Non-Null Count   Dtype  \n",
      "---  ------              --------------   -----  \n",
      " 0   state               402087 non-null  object \n",
      " 1   stop_date           402087 non-null  object \n",
      " 2   driver_gender       402087 non-null  object \n",
      " 3   driver_age          401996 non-null  float64\n",
      " 4   driver_race_raw     402087 non-null  object \n",
      " 5   driver_race         402087 non-null  object \n",
      " 6   violation           402087 non-null  object \n",
      " 7   search_type         402087 non-null  object \n",
      " 8   contraband_found    402087 non-null  bool   \n",
      " 9   stop_outcome        402087 non-null  object \n",
      " 10  search_basis        402087 non-null  object \n",
      " 11  officer_id          402087 non-null  int64  \n",
      " 12  drugs_related_stop  4379 non-null    object \n",
      " 13  district            402049 non-null  object \n",
      "dtypes: bool(1), float64(1), int64(1), object(11)\n",
      "memory usage: 40.3+ MB\n"
     ]
    }
   ],
   "source": [
    "#read in data for preprocessing\n",
    "data = pd.read_csv(\"NC_policing.csv\")\n",
    "data.info()"
   ]
  },
  {
   "cell_type": "code",
   "execution_count": 4,
   "id": "6fe0defe",
   "metadata": {},
   "outputs": [
    {
     "data": {
      "text/html": [
       "<div>\n",
       "<style scoped>\n",
       "    .dataframe tbody tr th:only-of-type {\n",
       "        vertical-align: middle;\n",
       "    }\n",
       "\n",
       "    .dataframe tbody tr th {\n",
       "        vertical-align: top;\n",
       "    }\n",
       "\n",
       "    .dataframe thead th {\n",
       "        text-align: right;\n",
       "    }\n",
       "</style>\n",
       "<table border=\"1\" class=\"dataframe\">\n",
       "  <thead>\n",
       "    <tr style=\"text-align: right;\">\n",
       "      <th></th>\n",
       "      <th>state</th>\n",
       "      <th>stop_date</th>\n",
       "      <th>driver_gender</th>\n",
       "      <th>driver_age</th>\n",
       "      <th>driver_race_raw</th>\n",
       "      <th>driver_race</th>\n",
       "      <th>violation</th>\n",
       "      <th>search_type</th>\n",
       "      <th>contraband_found</th>\n",
       "      <th>stop_outcome</th>\n",
       "      <th>search_basis</th>\n",
       "      <th>officer_id</th>\n",
       "      <th>drugs_related_stop</th>\n",
       "      <th>district</th>\n",
       "      <th>stop_date:day_of_week</th>\n",
       "    </tr>\n",
       "  </thead>\n",
       "  <tbody>\n",
       "    <tr>\n",
       "      <th>0</th>\n",
       "      <td>NC</td>\n",
       "      <td>2000-07-31</td>\n",
       "      <td>M</td>\n",
       "      <td>23.0</td>\n",
       "      <td>W N</td>\n",
       "      <td>White</td>\n",
       "      <td>Speeding</td>\n",
       "      <td>No Search Conducted</td>\n",
       "      <td>False</td>\n",
       "      <td>Arrest</td>\n",
       "      <td>No Search Conducted</td>\n",
       "      <td>10606</td>\n",
       "      <td>NaN</td>\n",
       "      <td>E3</td>\n",
       "      <td>0</td>\n",
       "    </tr>\n",
       "    <tr>\n",
       "      <th>1</th>\n",
       "      <td>NC</td>\n",
       "      <td>2000-07-31</td>\n",
       "      <td>F</td>\n",
       "      <td>29.0</td>\n",
       "      <td>W N</td>\n",
       "      <td>White</td>\n",
       "      <td>Speeding</td>\n",
       "      <td>No Search Conducted</td>\n",
       "      <td>False</td>\n",
       "      <td>Arrest</td>\n",
       "      <td>No Search Conducted</td>\n",
       "      <td>10606</td>\n",
       "      <td>NaN</td>\n",
       "      <td>E3</td>\n",
       "      <td>0</td>\n",
       "    </tr>\n",
       "    <tr>\n",
       "      <th>2</th>\n",
       "      <td>NC</td>\n",
       "      <td>2000-07-31</td>\n",
       "      <td>F</td>\n",
       "      <td>49.0</td>\n",
       "      <td>B N</td>\n",
       "      <td>Black</td>\n",
       "      <td>Speeding</td>\n",
       "      <td>No Search Conducted</td>\n",
       "      <td>False</td>\n",
       "      <td>Arrest</td>\n",
       "      <td>No Search Conducted</td>\n",
       "      <td>10606</td>\n",
       "      <td>NaN</td>\n",
       "      <td>E3</td>\n",
       "      <td>0</td>\n",
       "    </tr>\n",
       "    <tr>\n",
       "      <th>3</th>\n",
       "      <td>NC</td>\n",
       "      <td>2000-07-31</td>\n",
       "      <td>M</td>\n",
       "      <td>29.0</td>\n",
       "      <td>B N</td>\n",
       "      <td>Black</td>\n",
       "      <td>Speeding</td>\n",
       "      <td>No Search Conducted</td>\n",
       "      <td>False</td>\n",
       "      <td>Arrest</td>\n",
       "      <td>No Search Conducted</td>\n",
       "      <td>10606</td>\n",
       "      <td>NaN</td>\n",
       "      <td>E3</td>\n",
       "      <td>0</td>\n",
       "    </tr>\n",
       "    <tr>\n",
       "      <th>4</th>\n",
       "      <td>NC</td>\n",
       "      <td>2000-07-31</td>\n",
       "      <td>M</td>\n",
       "      <td>24.0</td>\n",
       "      <td>U H</td>\n",
       "      <td>Hispanic</td>\n",
       "      <td>Speeding</td>\n",
       "      <td>No Search Conducted</td>\n",
       "      <td>False</td>\n",
       "      <td>Arrest</td>\n",
       "      <td>No Search Conducted</td>\n",
       "      <td>10606</td>\n",
       "      <td>NaN</td>\n",
       "      <td>E3</td>\n",
       "      <td>0</td>\n",
       "    </tr>\n",
       "  </tbody>\n",
       "</table>\n",
       "</div>"
      ],
      "text/plain": [
       "  state  stop_date driver_gender  driver_age driver_race_raw driver_race  \\\n",
       "0    NC 2000-07-31             M        23.0             W N       White   \n",
       "1    NC 2000-07-31             F        29.0             W N       White   \n",
       "2    NC 2000-07-31             F        49.0             B N       Black   \n",
       "3    NC 2000-07-31             M        29.0             B N       Black   \n",
       "4    NC 2000-07-31             M        24.0             U H    Hispanic   \n",
       "\n",
       "  violation          search_type  contraband_found stop_outcome  \\\n",
       "0  Speeding  No Search Conducted             False       Arrest   \n",
       "1  Speeding  No Search Conducted             False       Arrest   \n",
       "2  Speeding  No Search Conducted             False       Arrest   \n",
       "3  Speeding  No Search Conducted             False       Arrest   \n",
       "4  Speeding  No Search Conducted             False       Arrest   \n",
       "\n",
       "          search_basis  officer_id drugs_related_stop district  \\\n",
       "0  No Search Conducted       10606                NaN       E3   \n",
       "1  No Search Conducted       10606                NaN       E3   \n",
       "2  No Search Conducted       10606                NaN       E3   \n",
       "3  No Search Conducted       10606                NaN       E3   \n",
       "4  No Search Conducted       10606                NaN       E3   \n",
       "\n",
       "   stop_date:day_of_week  \n",
       "0                      0  \n",
       "1                      0  \n",
       "2                      0  \n",
       "3                      0  \n",
       "4                      0  "
      ]
     },
     "execution_count": 4,
     "metadata": {},
     "output_type": "execute_result"
    }
   ],
   "source": [
    "#changing 'stop_date' feature to datetime in order to extract days of week\n",
    "#as a feature. Instead of using \"dates\" we use \"days of week\"\n",
    "#idea behind it: there can be a trend regarding occurances of arrest on\n",
    "#specific days of week e.g. monday because it is first day of the week \n",
    "#and everyone is grumpy\n",
    "data['stop_date'] = pd.to_datetime(data['stop_date'], errors = 'coerce')\n",
    "data['stop_date:day_of_week'] = data['stop_date'].dt.day_of_week\n",
    "data.head()"
   ]
  },
  {
   "cell_type": "code",
   "execution_count": 4,
   "id": "bac002e3",
   "metadata": {},
   "outputs": [
    {
     "data": {
      "text/plain": [
       "state                         0\n",
       "stop_date                     0\n",
       "driver_gender                 0\n",
       "driver_age                   91\n",
       "driver_race_raw               0\n",
       "driver_race                   0\n",
       "violation                     0\n",
       "search_type                   0\n",
       "contraband_found              0\n",
       "stop_outcome                  0\n",
       "search_basis                  0\n",
       "officer_id                    0\n",
       "drugs_related_stop       397708\n",
       "district                     38\n",
       "stop_date:day_of_week         0\n",
       "dtype: int64"
      ]
     },
     "execution_count": 4,
     "metadata": {},
     "output_type": "execute_result"
    }
   ],
   "source": [
    "#check number of NaN values in each column\n",
    "data.isna().sum()"
   ]
  },
  {
   "cell_type": "code",
   "execution_count": 5,
   "id": "8e5a15e6",
   "metadata": {},
   "outputs": [
    {
     "name": "stdout",
     "output_type": "stream",
     "text": [
      "Average age: 41.878103264709104\n"
     ]
    },
    {
     "data": {
      "text/plain": [
       "state                    0\n",
       "stop_date                0\n",
       "driver_gender            0\n",
       "driver_age               0\n",
       "driver_race_raw          0\n",
       "driver_race              0\n",
       "violation                0\n",
       "search_type              0\n",
       "contraband_found         0\n",
       "stop_outcome             0\n",
       "search_basis             0\n",
       "officer_id               0\n",
       "drugs_related_stop       0\n",
       "district                 0\n",
       "stop_date:day_of_week    0\n",
       "dtype: int64"
      ]
     },
     "execution_count": 5,
     "metadata": {},
     "output_type": "execute_result"
    }
   ],
   "source": [
    "#fill missing values in \"drivers_age\" feature with mean of all values\n",
    "age_fill = data['driver_age'].mean()\n",
    "print(\"Average age:\", age_fill)\n",
    "\n",
    "#mean drivers age is 41.8, we round it to 42 since age can't be \n",
    "#looked at with decimal points\n",
    "data['driver_age'] = data['driver_age'].fillna(int(np.rint(age_fill)))\n",
    "\n",
    "#fill missing values in \"drugs_related_stop\" feature with false values\n",
    "#since the probability of finding drugs in someone's car is low\n",
    "data['drugs_related_stop'] = data['drugs_related_stop'].fillna(False)\n",
    "\n",
    "#fill missing values in \"district\" feature with G7 district\n",
    "#since its occurence in the feature column is the lowest and\n",
    "#it won't have any significant effect\n",
    "# data['district'] = data['district'].fillna('G7')\n",
    "data.dropna(axis=0, inplace=True)\n",
    "\n",
    "#check whether there are still missing values\n",
    "data.isna().sum()"
   ]
  },
  {
   "cell_type": "code",
   "execution_count": 6,
   "id": "6f005cd1",
   "metadata": {},
   "outputs": [
    {
     "name": "stdout",
     "output_type": "stream",
     "text": [
      "['NC']\n",
      "['2000-07-31T00:00:00.000000000' '2000-08-01T00:00:00.000000000'\n",
      " '2000-08-02T00:00:00.000000000' ... '2015-12-29T00:00:00.000000000'\n",
      " '2015-12-30T00:00:00.000000000' '2015-12-31T00:00:00.000000000']\n",
      "['M' 'F']\n",
      "[23. 29. 49. 24. 21. 33. 16. 28. 39. 68. 20. 40. 50. 57. 38. 46. 34. 44.\n",
      " 22. 36. 53. 32. 15. 27. 26. 41. 48. 25. 47. 42. 52. 17. 76. 61. 31. 30.\n",
      " 64. 37. 19. 51. 18. 35. 59. 73. 43. 45. 66. 65. 54. 58. 55. 75. 63. 56.\n",
      " 60. 81. 62. 77. 67. 69. 87. 70. 71. 78. 74. 85. 72. 79. 93. 80. 89. 82.\n",
      " 84. 91. 83. 90. 88. 86. 92. 98. 99. 94. 96.]\n",
      "['W N' 'B N' 'U H' 'W H' 'I N' 'U N' 'A N' 'A H' 'B H' 'I H']\n",
      "['White' 'Black' 'Hispanic' 'Other' 'Asian']\n",
      "['Speeding' 'DUI' 'Equipment' 'Seat belt' 'Other' 'Registration/plates'\n",
      " 'Safe movement' 'Stop sign/light']\n",
      "['No Search Conducted' 'Protective Frisk' 'Incident to Arrest' 'Consent'\n",
      " 'Probable Cause' 'Warrant']\n",
      "[False  True]\n",
      "['Arrest' 'No Action']\n",
      "['No Search Conducted' 'Observation Suspected Contraband'\n",
      " 'Erratic Suspicious Behaviour' 'Other Official Info'\n",
      " 'Suspicious Movement' 'Witness Observation' 'Informant Tip'\n",
      " 'Observation Suspected Contraband,Other Official Info'\n",
      " 'Erratic Suspicious Behaviour,Witness Observation'\n",
      " 'Erratic Suspicious Behaviour,Observation Suspected Contraband'\n",
      " 'Erratic Suspicious Behaviour,Other Official Info'\n",
      " 'Other Official Info,Witness Observation'\n",
      " 'Observation Suspected Contraband,Witness Observation'\n",
      " 'Erratic Suspicious Behaviour,Observation Suspected Contraband,Other Official Info'\n",
      " 'Erratic Suspicious Behaviour,Observation Suspected Contraband,Other Official Info,Suspicious Movement'\n",
      " 'Observation Suspected Contraband,Informant Tip'\n",
      " 'Observation Suspected Contraband,Other Official Info,Suspicious Movement,Informant Tip,Witness Observation'\n",
      " 'Erratic Suspicious Behaviour,Other Official Info,Informant Tip,Witness Observation'\n",
      " 'Erratic Suspicious Behaviour,Informant Tip'\n",
      " 'Other Official Info,Suspicious Movement'\n",
      " 'Observation Suspected Contraband,Suspicious Movement'\n",
      " 'Erratic Suspicious Behaviour,Other Official Info,Suspicious Movement'\n",
      " 'Informant Tip,Witness Observation'\n",
      " 'Erratic Suspicious Behaviour,Suspicious Movement'\n",
      " 'Erratic Suspicious Behaviour,Observation Suspected Contraband,Suspicious Movement'\n",
      " 'Erratic Suspicious Behaviour,Informant Tip,Suspicious Movement'\n",
      " 'Other Official Info,Observation Suspected Contraband'\n",
      " 'Erratic Suspicious Behaviour,Other Official Info,Observation Suspected Contraband'\n",
      " 'Other Official Info,Observation Suspected Contraband,Suspicious Movement'\n",
      " 'Erratic Suspicious Behaviour,Other Official Info,Informant Tip,Observation Suspected Contraband'\n",
      " 'Other Official Info,Informant Tip'\n",
      " 'Informant Tip,Observation Suspected Contraband'\n",
      " 'Erratic Suspicious Behaviour,Other Official Info,Observation Suspected Contraband,Suspicious Movement']\n",
      "[10606 10241 10233 ... 21879 21884 21873]\n",
      "[False  True]\n",
      "['E3' 'E2' 'C6' 'A1' 'F1' 'A2' 'A5' 'B1' 'A9' 'B6' 'G3' 'C5' 'C7' 'B4'\n",
      " 'A4' 'H3' 'D4' 'C3' 'A7' 'A6' 'H1' 'H5' 'D3' 'H2' 'F5' 'A3' 'G4' 'D2'\n",
      " 'C4' 'D6' 'F4' 'G7' 'E1' 'B3' 'H6' 'F2' 'E4' 'C1' 'D1' 'G1' 'B8' 'G5'\n",
      " 'B5' 'F3' 'B2' 'H4' 'E5' 'C2' 'A8' 'B7' 'D5' 'G2' 'E6' 'G6' 'C8' 'E7'\n",
      " 'D7']\n",
      "[0 1 2 3 4 5 6]\n"
     ]
    }
   ],
   "source": [
    "#see which unique values do the columns of our dataset hold\n",
    "for col in data:\n",
    "    print(data[col].unique())"
   ]
  },
  {
   "cell_type": "code",
   "execution_count": 7,
   "id": "4b11bf0a",
   "metadata": {},
   "outputs": [
    {
     "data": {
      "text/html": [
       "<div>\n",
       "<style scoped>\n",
       "    .dataframe tbody tr th:only-of-type {\n",
       "        vertical-align: middle;\n",
       "    }\n",
       "\n",
       "    .dataframe tbody tr th {\n",
       "        vertical-align: top;\n",
       "    }\n",
       "\n",
       "    .dataframe thead th {\n",
       "        text-align: right;\n",
       "    }\n",
       "</style>\n",
       "<table border=\"1\" class=\"dataframe\">\n",
       "  <thead>\n",
       "    <tr style=\"text-align: right;\">\n",
       "      <th></th>\n",
       "      <th>state</th>\n",
       "      <th>stop_date</th>\n",
       "      <th>driver_gender</th>\n",
       "      <th>driver_age</th>\n",
       "      <th>driver_race_raw</th>\n",
       "      <th>driver_race</th>\n",
       "      <th>violation</th>\n",
       "      <th>search_type</th>\n",
       "      <th>contraband_found</th>\n",
       "      <th>stop_outcome</th>\n",
       "      <th>search_basis</th>\n",
       "      <th>officer_id</th>\n",
       "      <th>drugs_related_stop</th>\n",
       "      <th>district</th>\n",
       "      <th>stop_date:day_of_week</th>\n",
       "    </tr>\n",
       "  </thead>\n",
       "  <tbody>\n",
       "    <tr>\n",
       "      <th>0</th>\n",
       "      <td>NC</td>\n",
       "      <td>2000-07-31</td>\n",
       "      <td>M</td>\n",
       "      <td>23.0</td>\n",
       "      <td>W N</td>\n",
       "      <td>White</td>\n",
       "      <td>Speeding</td>\n",
       "      <td>No Search Conducted</td>\n",
       "      <td>False</td>\n",
       "      <td>Arrest</td>\n",
       "      <td>No Search Conducted</td>\n",
       "      <td>10606</td>\n",
       "      <td>False</td>\n",
       "      <td>E3</td>\n",
       "      <td>0</td>\n",
       "    </tr>\n",
       "    <tr>\n",
       "      <th>1</th>\n",
       "      <td>NC</td>\n",
       "      <td>2000-07-31</td>\n",
       "      <td>F</td>\n",
       "      <td>29.0</td>\n",
       "      <td>W N</td>\n",
       "      <td>White</td>\n",
       "      <td>Speeding</td>\n",
       "      <td>No Search Conducted</td>\n",
       "      <td>False</td>\n",
       "      <td>Arrest</td>\n",
       "      <td>No Search Conducted</td>\n",
       "      <td>10606</td>\n",
       "      <td>False</td>\n",
       "      <td>E3</td>\n",
       "      <td>0</td>\n",
       "    </tr>\n",
       "    <tr>\n",
       "      <th>2</th>\n",
       "      <td>NC</td>\n",
       "      <td>2000-07-31</td>\n",
       "      <td>F</td>\n",
       "      <td>49.0</td>\n",
       "      <td>B N</td>\n",
       "      <td>Black</td>\n",
       "      <td>Speeding</td>\n",
       "      <td>No Search Conducted</td>\n",
       "      <td>False</td>\n",
       "      <td>Arrest</td>\n",
       "      <td>No Search Conducted</td>\n",
       "      <td>10606</td>\n",
       "      <td>False</td>\n",
       "      <td>E3</td>\n",
       "      <td>0</td>\n",
       "    </tr>\n",
       "    <tr>\n",
       "      <th>3</th>\n",
       "      <td>NC</td>\n",
       "      <td>2000-07-31</td>\n",
       "      <td>M</td>\n",
       "      <td>29.0</td>\n",
       "      <td>B N</td>\n",
       "      <td>Black</td>\n",
       "      <td>Speeding</td>\n",
       "      <td>No Search Conducted</td>\n",
       "      <td>False</td>\n",
       "      <td>Arrest</td>\n",
       "      <td>No Search Conducted</td>\n",
       "      <td>10606</td>\n",
       "      <td>False</td>\n",
       "      <td>E3</td>\n",
       "      <td>0</td>\n",
       "    </tr>\n",
       "    <tr>\n",
       "      <th>4</th>\n",
       "      <td>NC</td>\n",
       "      <td>2000-07-31</td>\n",
       "      <td>M</td>\n",
       "      <td>24.0</td>\n",
       "      <td>U H</td>\n",
       "      <td>Hispanic</td>\n",
       "      <td>Speeding</td>\n",
       "      <td>No Search Conducted</td>\n",
       "      <td>False</td>\n",
       "      <td>Arrest</td>\n",
       "      <td>No Search Conducted</td>\n",
       "      <td>10606</td>\n",
       "      <td>False</td>\n",
       "      <td>E3</td>\n",
       "      <td>0</td>\n",
       "    </tr>\n",
       "  </tbody>\n",
       "</table>\n",
       "</div>"
      ],
      "text/plain": [
       "  state  stop_date driver_gender  driver_age driver_race_raw driver_race  \\\n",
       "0    NC 2000-07-31             M        23.0             W N       White   \n",
       "1    NC 2000-07-31             F        29.0             W N       White   \n",
       "2    NC 2000-07-31             F        49.0             B N       Black   \n",
       "3    NC 2000-07-31             M        29.0             B N       Black   \n",
       "4    NC 2000-07-31             M        24.0             U H    Hispanic   \n",
       "\n",
       "  violation          search_type  contraband_found stop_outcome  \\\n",
       "0  Speeding  No Search Conducted             False       Arrest   \n",
       "1  Speeding  No Search Conducted             False       Arrest   \n",
       "2  Speeding  No Search Conducted             False       Arrest   \n",
       "3  Speeding  No Search Conducted             False       Arrest   \n",
       "4  Speeding  No Search Conducted             False       Arrest   \n",
       "\n",
       "          search_basis  officer_id  drugs_related_stop district  \\\n",
       "0  No Search Conducted       10606               False       E3   \n",
       "1  No Search Conducted       10606               False       E3   \n",
       "2  No Search Conducted       10606               False       E3   \n",
       "3  No Search Conducted       10606               False       E3   \n",
       "4  No Search Conducted       10606               False       E3   \n",
       "\n",
       "   stop_date:day_of_week  \n",
       "0                      0  \n",
       "1                      0  \n",
       "2                      0  \n",
       "3                      0  \n",
       "4                      0  "
      ]
     },
     "execution_count": 7,
     "metadata": {},
     "output_type": "execute_result"
    }
   ],
   "source": [
    "# After dropping some columns\n",
    "data.head()"
   ]
  },
  {
   "cell_type": "code",
   "execution_count": 8,
   "id": "6b8d77b1",
   "metadata": {},
   "outputs": [
    {
     "data": {
      "text/html": [
       "<div>\n",
       "<style scoped>\n",
       "    .dataframe tbody tr th:only-of-type {\n",
       "        vertical-align: middle;\n",
       "    }\n",
       "\n",
       "    .dataframe tbody tr th {\n",
       "        vertical-align: top;\n",
       "    }\n",
       "\n",
       "    .dataframe thead th {\n",
       "        text-align: right;\n",
       "    }\n",
       "</style>\n",
       "<table border=\"1\" class=\"dataframe\">\n",
       "  <thead>\n",
       "    <tr style=\"text-align: right;\">\n",
       "      <th></th>\n",
       "      <th>driver_gender</th>\n",
       "      <th>driver_age</th>\n",
       "      <th>driver_race</th>\n",
       "      <th>violation</th>\n",
       "      <th>search_type</th>\n",
       "      <th>contraband_found</th>\n",
       "      <th>search_basis</th>\n",
       "      <th>officer_id</th>\n",
       "      <th>drugs_related_stop</th>\n",
       "      <th>district</th>\n",
       "      <th>stop_date:day_of_week</th>\n",
       "    </tr>\n",
       "  </thead>\n",
       "  <tbody>\n",
       "    <tr>\n",
       "      <th>0</th>\n",
       "      <td>M</td>\n",
       "      <td>23.0</td>\n",
       "      <td>White</td>\n",
       "      <td>Speeding</td>\n",
       "      <td>No Search Conducted</td>\n",
       "      <td>False</td>\n",
       "      <td>No Search Conducted</td>\n",
       "      <td>10606</td>\n",
       "      <td>False</td>\n",
       "      <td>E3</td>\n",
       "      <td>0</td>\n",
       "    </tr>\n",
       "    <tr>\n",
       "      <th>1</th>\n",
       "      <td>F</td>\n",
       "      <td>29.0</td>\n",
       "      <td>White</td>\n",
       "      <td>Speeding</td>\n",
       "      <td>No Search Conducted</td>\n",
       "      <td>False</td>\n",
       "      <td>No Search Conducted</td>\n",
       "      <td>10606</td>\n",
       "      <td>False</td>\n",
       "      <td>E3</td>\n",
       "      <td>0</td>\n",
       "    </tr>\n",
       "    <tr>\n",
       "      <th>2</th>\n",
       "      <td>F</td>\n",
       "      <td>49.0</td>\n",
       "      <td>Black</td>\n",
       "      <td>Speeding</td>\n",
       "      <td>No Search Conducted</td>\n",
       "      <td>False</td>\n",
       "      <td>No Search Conducted</td>\n",
       "      <td>10606</td>\n",
       "      <td>False</td>\n",
       "      <td>E3</td>\n",
       "      <td>0</td>\n",
       "    </tr>\n",
       "    <tr>\n",
       "      <th>3</th>\n",
       "      <td>M</td>\n",
       "      <td>29.0</td>\n",
       "      <td>Black</td>\n",
       "      <td>Speeding</td>\n",
       "      <td>No Search Conducted</td>\n",
       "      <td>False</td>\n",
       "      <td>No Search Conducted</td>\n",
       "      <td>10606</td>\n",
       "      <td>False</td>\n",
       "      <td>E3</td>\n",
       "      <td>0</td>\n",
       "    </tr>\n",
       "    <tr>\n",
       "      <th>4</th>\n",
       "      <td>M</td>\n",
       "      <td>24.0</td>\n",
       "      <td>Hispanic</td>\n",
       "      <td>Speeding</td>\n",
       "      <td>No Search Conducted</td>\n",
       "      <td>False</td>\n",
       "      <td>No Search Conducted</td>\n",
       "      <td>10606</td>\n",
       "      <td>False</td>\n",
       "      <td>E3</td>\n",
       "      <td>0</td>\n",
       "    </tr>\n",
       "    <tr>\n",
       "      <th>...</th>\n",
       "      <td>...</td>\n",
       "      <td>...</td>\n",
       "      <td>...</td>\n",
       "      <td>...</td>\n",
       "      <td>...</td>\n",
       "      <td>...</td>\n",
       "      <td>...</td>\n",
       "      <td>...</td>\n",
       "      <td>...</td>\n",
       "      <td>...</td>\n",
       "      <td>...</td>\n",
       "    </tr>\n",
       "    <tr>\n",
       "      <th>402082</th>\n",
       "      <td>M</td>\n",
       "      <td>18.0</td>\n",
       "      <td>White</td>\n",
       "      <td>Speeding</td>\n",
       "      <td>Probable Cause</td>\n",
       "      <td>True</td>\n",
       "      <td>Observation Suspected Contraband</td>\n",
       "      <td>21715</td>\n",
       "      <td>True</td>\n",
       "      <td>G3</td>\n",
       "      <td>3</td>\n",
       "    </tr>\n",
       "    <tr>\n",
       "      <th>402083</th>\n",
       "      <td>F</td>\n",
       "      <td>21.0</td>\n",
       "      <td>Black</td>\n",
       "      <td>Registration/plates</td>\n",
       "      <td>Incident to Arrest</td>\n",
       "      <td>False</td>\n",
       "      <td>Other Official Info</td>\n",
       "      <td>10592</td>\n",
       "      <td>False</td>\n",
       "      <td>G5</td>\n",
       "      <td>3</td>\n",
       "    </tr>\n",
       "    <tr>\n",
       "      <th>402084</th>\n",
       "      <td>F</td>\n",
       "      <td>29.0</td>\n",
       "      <td>White</td>\n",
       "      <td>Speeding</td>\n",
       "      <td>Incident to Arrest</td>\n",
       "      <td>False</td>\n",
       "      <td>Observation Suspected Contraband</td>\n",
       "      <td>21848</td>\n",
       "      <td>False</td>\n",
       "      <td>E1</td>\n",
       "      <td>3</td>\n",
       "    </tr>\n",
       "    <tr>\n",
       "      <th>402085</th>\n",
       "      <td>F</td>\n",
       "      <td>18.0</td>\n",
       "      <td>White</td>\n",
       "      <td>Other</td>\n",
       "      <td>Probable Cause</td>\n",
       "      <td>True</td>\n",
       "      <td>Observation Suspected Contraband</td>\n",
       "      <td>11887</td>\n",
       "      <td>True</td>\n",
       "      <td>F5</td>\n",
       "      <td>3</td>\n",
       "    </tr>\n",
       "    <tr>\n",
       "      <th>402086</th>\n",
       "      <td>M</td>\n",
       "      <td>31.0</td>\n",
       "      <td>Hispanic</td>\n",
       "      <td>Other</td>\n",
       "      <td>Incident to Arrest</td>\n",
       "      <td>False</td>\n",
       "      <td>Other Official Info</td>\n",
       "      <td>21553</td>\n",
       "      <td>False</td>\n",
       "      <td>D5</td>\n",
       "      <td>3</td>\n",
       "    </tr>\n",
       "  </tbody>\n",
       "</table>\n",
       "<p>402049 rows × 11 columns</p>\n",
       "</div>"
      ],
      "text/plain": [
       "       driver_gender  driver_age driver_race            violation  \\\n",
       "0                  M        23.0       White             Speeding   \n",
       "1                  F        29.0       White             Speeding   \n",
       "2                  F        49.0       Black             Speeding   \n",
       "3                  M        29.0       Black             Speeding   \n",
       "4                  M        24.0    Hispanic             Speeding   \n",
       "...              ...         ...         ...                  ...   \n",
       "402082             M        18.0       White             Speeding   \n",
       "402083             F        21.0       Black  Registration/plates   \n",
       "402084             F        29.0       White             Speeding   \n",
       "402085             F        18.0       White                Other   \n",
       "402086             M        31.0    Hispanic                Other   \n",
       "\n",
       "                search_type  contraband_found  \\\n",
       "0       No Search Conducted             False   \n",
       "1       No Search Conducted             False   \n",
       "2       No Search Conducted             False   \n",
       "3       No Search Conducted             False   \n",
       "4       No Search Conducted             False   \n",
       "...                     ...               ...   \n",
       "402082       Probable Cause              True   \n",
       "402083   Incident to Arrest             False   \n",
       "402084   Incident to Arrest             False   \n",
       "402085       Probable Cause              True   \n",
       "402086   Incident to Arrest             False   \n",
       "\n",
       "                            search_basis  officer_id  drugs_related_stop  \\\n",
       "0                    No Search Conducted       10606               False   \n",
       "1                    No Search Conducted       10606               False   \n",
       "2                    No Search Conducted       10606               False   \n",
       "3                    No Search Conducted       10606               False   \n",
       "4                    No Search Conducted       10606               False   \n",
       "...                                  ...         ...                 ...   \n",
       "402082  Observation Suspected Contraband       21715                True   \n",
       "402083               Other Official Info       10592               False   \n",
       "402084  Observation Suspected Contraband       21848               False   \n",
       "402085  Observation Suspected Contraband       11887                True   \n",
       "402086               Other Official Info       21553               False   \n",
       "\n",
       "       district  stop_date:day_of_week  \n",
       "0            E3                      0  \n",
       "1            E3                      0  \n",
       "2            E3                      0  \n",
       "3            E3                      0  \n",
       "4            E3                      0  \n",
       "...         ...                    ...  \n",
       "402082       G3                      3  \n",
       "402083       G5                      3  \n",
       "402084       E1                      3  \n",
       "402085       F5                      3  \n",
       "402086       D5                      3  \n",
       "\n",
       "[402049 rows x 11 columns]"
      ]
     },
     "execution_count": 8,
     "metadata": {},
     "output_type": "execute_result"
    }
   ],
   "source": [
    "#data['district'].value_counts()\n",
    "#previous row shows the number of value-occurances in column\n",
    "\n",
    "#since we can't work with string values for machine learning \n",
    "#we have to convert all non-numerical features to numerical ones\n",
    "#especially features labeled as sensitive: gender, race, ...\n",
    "\n",
    "#we drop the features not going to be used for ML\n",
    "X = data.drop(columns=[\"state\", \"stop_date\", \"driver_race_raw\", \"stop_outcome\"])\n",
    "columns = X.columns\n",
    "X"
   ]
  },
  {
   "cell_type": "code",
   "execution_count": 9,
   "id": "87b1d8e7",
   "metadata": {
    "scrolled": true
   },
   "outputs": [
    {
     "data": {
      "text/html": [
       "<div>\n",
       "<style scoped>\n",
       "    .dataframe tbody tr th:only-of-type {\n",
       "        vertical-align: middle;\n",
       "    }\n",
       "\n",
       "    .dataframe tbody tr th {\n",
       "        vertical-align: top;\n",
       "    }\n",
       "\n",
       "    .dataframe thead th {\n",
       "        text-align: right;\n",
       "    }\n",
       "</style>\n",
       "<table border=\"1\" class=\"dataframe\">\n",
       "  <thead>\n",
       "    <tr style=\"text-align: right;\">\n",
       "      <th></th>\n",
       "      <th>driver_gender</th>\n",
       "      <th>driver_age</th>\n",
       "      <th>driver_race</th>\n",
       "      <th>violation</th>\n",
       "      <th>search_type</th>\n",
       "      <th>contraband_found</th>\n",
       "      <th>search_basis</th>\n",
       "      <th>officer_id</th>\n",
       "      <th>drugs_related_stop</th>\n",
       "      <th>district</th>\n",
       "      <th>stop_date:day_of_week</th>\n",
       "    </tr>\n",
       "  </thead>\n",
       "  <tbody>\n",
       "    <tr>\n",
       "      <th>0</th>\n",
       "      <td>1</td>\n",
       "      <td>23.0</td>\n",
       "      <td>White</td>\n",
       "      <td>6</td>\n",
       "      <td>2</td>\n",
       "      <td>0</td>\n",
       "      <td>18</td>\n",
       "      <td>722</td>\n",
       "      <td>0</td>\n",
       "      <td>34</td>\n",
       "      <td>0</td>\n",
       "    </tr>\n",
       "    <tr>\n",
       "      <th>1</th>\n",
       "      <td>0</td>\n",
       "      <td>29.0</td>\n",
       "      <td>White</td>\n",
       "      <td>6</td>\n",
       "      <td>2</td>\n",
       "      <td>0</td>\n",
       "      <td>18</td>\n",
       "      <td>722</td>\n",
       "      <td>0</td>\n",
       "      <td>34</td>\n",
       "      <td>0</td>\n",
       "    </tr>\n",
       "    <tr>\n",
       "      <th>2</th>\n",
       "      <td>0</td>\n",
       "      <td>49.0</td>\n",
       "      <td>Black</td>\n",
       "      <td>6</td>\n",
       "      <td>2</td>\n",
       "      <td>0</td>\n",
       "      <td>18</td>\n",
       "      <td>722</td>\n",
       "      <td>0</td>\n",
       "      <td>34</td>\n",
       "      <td>0</td>\n",
       "    </tr>\n",
       "    <tr>\n",
       "      <th>3</th>\n",
       "      <td>1</td>\n",
       "      <td>29.0</td>\n",
       "      <td>Black</td>\n",
       "      <td>6</td>\n",
       "      <td>2</td>\n",
       "      <td>0</td>\n",
       "      <td>18</td>\n",
       "      <td>722</td>\n",
       "      <td>0</td>\n",
       "      <td>34</td>\n",
       "      <td>0</td>\n",
       "    </tr>\n",
       "    <tr>\n",
       "      <th>4</th>\n",
       "      <td>1</td>\n",
       "      <td>24.0</td>\n",
       "      <td>Hispanic</td>\n",
       "      <td>6</td>\n",
       "      <td>2</td>\n",
       "      <td>0</td>\n",
       "      <td>18</td>\n",
       "      <td>722</td>\n",
       "      <td>0</td>\n",
       "      <td>34</td>\n",
       "      <td>0</td>\n",
       "    </tr>\n",
       "  </tbody>\n",
       "</table>\n",
       "</div>"
      ],
      "text/plain": [
       "   driver_gender  driver_age driver_race  violation  search_type  \\\n",
       "0              1        23.0       White          6            2   \n",
       "1              0        29.0       White          6            2   \n",
       "2              0        49.0       Black          6            2   \n",
       "3              1        29.0       Black          6            2   \n",
       "4              1        24.0    Hispanic          6            2   \n",
       "\n",
       "   contraband_found  search_basis  officer_id  drugs_related_stop  district  \\\n",
       "0                 0            18         722                   0        34   \n",
       "1                 0            18         722                   0        34   \n",
       "2                 0            18         722                   0        34   \n",
       "3                 0            18         722                   0        34   \n",
       "4                 0            18         722                   0        34   \n",
       "\n",
       "   stop_date:day_of_week  \n",
       "0                      0  \n",
       "1                      0  \n",
       "2                      0  \n",
       "3                      0  \n",
       "4                      0  "
      ]
     },
     "execution_count": 9,
     "metadata": {},
     "output_type": "execute_result"
    }
   ],
   "source": [
    "#encode all features except driver's age, officer id and day of the week\n",
    "le = LabelEncoder()\n",
    "\n",
    "for col in X:\n",
    "    if col=='driver_age' or col=='stop_date:day_of_week' or col=='driver_race':\n",
    "        pass\n",
    "    else:\n",
    "        X[col] = le.fit_transform(X[col])\n",
    "\n",
    "X.head()"
   ]
  },
  {
   "cell_type": "code",
   "execution_count": 10,
   "id": "1a25f1c3",
   "metadata": {},
   "outputs": [
    {
     "data": {
      "text/html": [
       "<div>\n",
       "<style scoped>\n",
       "    .dataframe tbody tr th:only-of-type {\n",
       "        vertical-align: middle;\n",
       "    }\n",
       "\n",
       "    .dataframe tbody tr th {\n",
       "        vertical-align: top;\n",
       "    }\n",
       "\n",
       "    .dataframe thead th {\n",
       "        text-align: right;\n",
       "    }\n",
       "</style>\n",
       "<table border=\"1\" class=\"dataframe\">\n",
       "  <thead>\n",
       "    <tr style=\"text-align: right;\">\n",
       "      <th></th>\n",
       "      <th>driver_gender</th>\n",
       "      <th>driver_age</th>\n",
       "      <th>violation</th>\n",
       "      <th>search_type</th>\n",
       "      <th>contraband_found</th>\n",
       "      <th>search_basis</th>\n",
       "      <th>officer_id</th>\n",
       "      <th>drugs_related_stop</th>\n",
       "      <th>district</th>\n",
       "      <th>stop_date:day_of_week</th>\n",
       "      <th>driver_race_Asian</th>\n",
       "      <th>driver_race_Black</th>\n",
       "      <th>driver_race_Hispanic</th>\n",
       "      <th>driver_race_Other</th>\n",
       "      <th>driver_race_White</th>\n",
       "    </tr>\n",
       "  </thead>\n",
       "  <tbody>\n",
       "    <tr>\n",
       "      <th>0</th>\n",
       "      <td>1</td>\n",
       "      <td>23.0</td>\n",
       "      <td>6</td>\n",
       "      <td>2</td>\n",
       "      <td>0</td>\n",
       "      <td>18</td>\n",
       "      <td>722</td>\n",
       "      <td>0</td>\n",
       "      <td>34</td>\n",
       "      <td>0</td>\n",
       "      <td>0</td>\n",
       "      <td>0</td>\n",
       "      <td>0</td>\n",
       "      <td>0</td>\n",
       "      <td>1</td>\n",
       "    </tr>\n",
       "    <tr>\n",
       "      <th>1</th>\n",
       "      <td>0</td>\n",
       "      <td>29.0</td>\n",
       "      <td>6</td>\n",
       "      <td>2</td>\n",
       "      <td>0</td>\n",
       "      <td>18</td>\n",
       "      <td>722</td>\n",
       "      <td>0</td>\n",
       "      <td>34</td>\n",
       "      <td>0</td>\n",
       "      <td>0</td>\n",
       "      <td>0</td>\n",
       "      <td>0</td>\n",
       "      <td>0</td>\n",
       "      <td>1</td>\n",
       "    </tr>\n",
       "    <tr>\n",
       "      <th>2</th>\n",
       "      <td>0</td>\n",
       "      <td>49.0</td>\n",
       "      <td>6</td>\n",
       "      <td>2</td>\n",
       "      <td>0</td>\n",
       "      <td>18</td>\n",
       "      <td>722</td>\n",
       "      <td>0</td>\n",
       "      <td>34</td>\n",
       "      <td>0</td>\n",
       "      <td>0</td>\n",
       "      <td>1</td>\n",
       "      <td>0</td>\n",
       "      <td>0</td>\n",
       "      <td>0</td>\n",
       "    </tr>\n",
       "    <tr>\n",
       "      <th>3</th>\n",
       "      <td>1</td>\n",
       "      <td>29.0</td>\n",
       "      <td>6</td>\n",
       "      <td>2</td>\n",
       "      <td>0</td>\n",
       "      <td>18</td>\n",
       "      <td>722</td>\n",
       "      <td>0</td>\n",
       "      <td>34</td>\n",
       "      <td>0</td>\n",
       "      <td>0</td>\n",
       "      <td>1</td>\n",
       "      <td>0</td>\n",
       "      <td>0</td>\n",
       "      <td>0</td>\n",
       "    </tr>\n",
       "    <tr>\n",
       "      <th>4</th>\n",
       "      <td>1</td>\n",
       "      <td>24.0</td>\n",
       "      <td>6</td>\n",
       "      <td>2</td>\n",
       "      <td>0</td>\n",
       "      <td>18</td>\n",
       "      <td>722</td>\n",
       "      <td>0</td>\n",
       "      <td>34</td>\n",
       "      <td>0</td>\n",
       "      <td>0</td>\n",
       "      <td>0</td>\n",
       "      <td>1</td>\n",
       "      <td>0</td>\n",
       "      <td>0</td>\n",
       "    </tr>\n",
       "    <tr>\n",
       "      <th>...</th>\n",
       "      <td>...</td>\n",
       "      <td>...</td>\n",
       "      <td>...</td>\n",
       "      <td>...</td>\n",
       "      <td>...</td>\n",
       "      <td>...</td>\n",
       "      <td>...</td>\n",
       "      <td>...</td>\n",
       "      <td>...</td>\n",
       "      <td>...</td>\n",
       "      <td>...</td>\n",
       "      <td>...</td>\n",
       "      <td>...</td>\n",
       "      <td>...</td>\n",
       "      <td>...</td>\n",
       "    </tr>\n",
       "    <tr>\n",
       "      <th>402082</th>\n",
       "      <td>1</td>\n",
       "      <td>18.0</td>\n",
       "      <td>6</td>\n",
       "      <td>3</td>\n",
       "      <td>1</td>\n",
       "      <td>19</td>\n",
       "      <td>2632</td>\n",
       "      <td>1</td>\n",
       "      <td>46</td>\n",
       "      <td>3</td>\n",
       "      <td>0</td>\n",
       "      <td>0</td>\n",
       "      <td>0</td>\n",
       "      <td>0</td>\n",
       "      <td>1</td>\n",
       "    </tr>\n",
       "    <tr>\n",
       "      <th>402083</th>\n",
       "      <td>0</td>\n",
       "      <td>21.0</td>\n",
       "      <td>3</td>\n",
       "      <td>1</td>\n",
       "      <td>0</td>\n",
       "      <td>25</td>\n",
       "      <td>711</td>\n",
       "      <td>0</td>\n",
       "      <td>48</td>\n",
       "      <td>3</td>\n",
       "      <td>0</td>\n",
       "      <td>1</td>\n",
       "      <td>0</td>\n",
       "      <td>0</td>\n",
       "      <td>0</td>\n",
       "    </tr>\n",
       "    <tr>\n",
       "      <th>402084</th>\n",
       "      <td>0</td>\n",
       "      <td>29.0</td>\n",
       "      <td>6</td>\n",
       "      <td>1</td>\n",
       "      <td>0</td>\n",
       "      <td>19</td>\n",
       "      <td>2738</td>\n",
       "      <td>0</td>\n",
       "      <td>32</td>\n",
       "      <td>3</td>\n",
       "      <td>0</td>\n",
       "      <td>0</td>\n",
       "      <td>0</td>\n",
       "      <td>0</td>\n",
       "      <td>1</td>\n",
       "    </tr>\n",
       "    <tr>\n",
       "      <th>402085</th>\n",
       "      <td>0</td>\n",
       "      <td>18.0</td>\n",
       "      <td>2</td>\n",
       "      <td>3</td>\n",
       "      <td>1</td>\n",
       "      <td>19</td>\n",
       "      <td>1873</td>\n",
       "      <td>1</td>\n",
       "      <td>43</td>\n",
       "      <td>3</td>\n",
       "      <td>0</td>\n",
       "      <td>0</td>\n",
       "      <td>0</td>\n",
       "      <td>0</td>\n",
       "      <td>1</td>\n",
       "    </tr>\n",
       "    <tr>\n",
       "      <th>402086</th>\n",
       "      <td>1</td>\n",
       "      <td>31.0</td>\n",
       "      <td>2</td>\n",
       "      <td>1</td>\n",
       "      <td>0</td>\n",
       "      <td>25</td>\n",
       "      <td>2494</td>\n",
       "      <td>0</td>\n",
       "      <td>29</td>\n",
       "      <td>3</td>\n",
       "      <td>0</td>\n",
       "      <td>0</td>\n",
       "      <td>1</td>\n",
       "      <td>0</td>\n",
       "      <td>0</td>\n",
       "    </tr>\n",
       "  </tbody>\n",
       "</table>\n",
       "<p>402049 rows × 15 columns</p>\n",
       "</div>"
      ],
      "text/plain": [
       "        driver_gender  driver_age  violation  search_type  contraband_found  \\\n",
       "0                   1        23.0          6            2                 0   \n",
       "1                   0        29.0          6            2                 0   \n",
       "2                   0        49.0          6            2                 0   \n",
       "3                   1        29.0          6            2                 0   \n",
       "4                   1        24.0          6            2                 0   \n",
       "...               ...         ...        ...          ...               ...   \n",
       "402082              1        18.0          6            3                 1   \n",
       "402083              0        21.0          3            1                 0   \n",
       "402084              0        29.0          6            1                 0   \n",
       "402085              0        18.0          2            3                 1   \n",
       "402086              1        31.0          2            1                 0   \n",
       "\n",
       "        search_basis  officer_id  drugs_related_stop  district  \\\n",
       "0                 18         722                   0        34   \n",
       "1                 18         722                   0        34   \n",
       "2                 18         722                   0        34   \n",
       "3                 18         722                   0        34   \n",
       "4                 18         722                   0        34   \n",
       "...              ...         ...                 ...       ...   \n",
       "402082            19        2632                   1        46   \n",
       "402083            25         711                   0        48   \n",
       "402084            19        2738                   0        32   \n",
       "402085            19        1873                   1        43   \n",
       "402086            25        2494                   0        29   \n",
       "\n",
       "        stop_date:day_of_week  driver_race_Asian  driver_race_Black  \\\n",
       "0                           0                  0                  0   \n",
       "1                           0                  0                  0   \n",
       "2                           0                  0                  1   \n",
       "3                           0                  0                  1   \n",
       "4                           0                  0                  0   \n",
       "...                       ...                ...                ...   \n",
       "402082                      3                  0                  0   \n",
       "402083                      3                  0                  1   \n",
       "402084                      3                  0                  0   \n",
       "402085                      3                  0                  0   \n",
       "402086                      3                  0                  0   \n",
       "\n",
       "        driver_race_Hispanic  driver_race_Other  driver_race_White  \n",
       "0                          0                  0                  1  \n",
       "1                          0                  0                  1  \n",
       "2                          0                  0                  0  \n",
       "3                          0                  0                  0  \n",
       "4                          1                  0                  0  \n",
       "...                      ...                ...                ...  \n",
       "402082                     0                  0                  1  \n",
       "402083                     0                  0                  0  \n",
       "402084                     0                  0                  1  \n",
       "402085                     0                  0                  1  \n",
       "402086                     1                  0                  0  \n",
       "\n",
       "[402049 rows x 15 columns]"
      ]
     },
     "execution_count": 10,
     "metadata": {},
     "output_type": "execute_result"
    }
   ],
   "source": [
    "tmp = X[['driver_race']]\n",
    "tmp = pd.get_dummies(tmp)\n",
    "X = X.drop(columns=['driver_race'])\n",
    "X = pd.concat([X, tmp], axis=1)\n",
    "X"
   ]
  },
  {
   "cell_type": "code",
   "execution_count": 11,
   "id": "2445a524",
   "metadata": {},
   "outputs": [
    {
     "data": {
      "text/html": [
       "<div>\n",
       "<style scoped>\n",
       "    .dataframe tbody tr th:only-of-type {\n",
       "        vertical-align: middle;\n",
       "    }\n",
       "\n",
       "    .dataframe tbody tr th {\n",
       "        vertical-align: top;\n",
       "    }\n",
       "\n",
       "    .dataframe thead th {\n",
       "        text-align: right;\n",
       "    }\n",
       "</style>\n",
       "<table border=\"1\" class=\"dataframe\">\n",
       "  <thead>\n",
       "    <tr style=\"text-align: right;\">\n",
       "      <th></th>\n",
       "      <th>Coding</th>\n",
       "    </tr>\n",
       "  </thead>\n",
       "  <tbody>\n",
       "    <tr>\n",
       "      <th>Arrest</th>\n",
       "      <td>0</td>\n",
       "    </tr>\n",
       "    <tr>\n",
       "      <th>No Action</th>\n",
       "      <td>1</td>\n",
       "    </tr>\n",
       "  </tbody>\n",
       "</table>\n",
       "</div>"
      ],
      "text/plain": [
       "           Coding\n",
       "Arrest          0\n",
       "No Action       1"
      ]
     },
     "execution_count": 11,
     "metadata": {},
     "output_type": "execute_result"
    }
   ],
   "source": [
    "#target variable y to classify arrest, encoded\n",
    "y = data[\"stop_outcome\"]\n",
    "y_encoded = le.fit_transform(y)\n",
    "\n",
    "#show coding\n",
    "pd.DataFrame(data=le.transform(le.classes_),index=le.classes_,columns=[\"Coding\"])"
   ]
  },
  {
   "cell_type": "code",
   "execution_count": 12,
   "id": "0c563bcc",
   "metadata": {},
   "outputs": [],
   "source": [
    "#for standard scaling later, we convert all data types to float32\n",
    "X = X.astype(np.float32)\n",
    "\n",
    "# Split the data into training and test set\n",
    "# test_size=0.2: 60% training set, 20% test set, 20% CV\n",
    "# random_state=350: fix the random set to get the same result every time you run the code (for tutorial purposes)\n",
    "X_tmp, X_test, y_tmp, y_test = train_test_split(X, y_encoded, test_size=0.2, random_state=350)\n",
    "X_train, X_val, y_train, y_val = train_test_split(X_tmp, y_tmp, test_size=0.25, random_state=350)"
   ]
  },
  {
   "cell_type": "code",
   "execution_count": 14,
   "id": "701f3dde",
   "metadata": {},
   "outputs": [
    {
     "name": "stdout",
     "output_type": "stream",
     "text": [
      "(241229, 15)\n",
      "(80410, 15)\n",
      "(80410, 15)\n"
     ]
    }
   ],
   "source": [
    "print(X_train.shape)\n",
    "print(X_test.shape)\n",
    "print(X_val.shape)"
   ]
  },
  {
   "cell_type": "markdown",
   "id": "ce48e783",
   "metadata": {},
   "source": [
    "### Standardizing the data"
   ]
  },
  {
   "cell_type": "code",
   "execution_count": 15,
   "id": "f0ece5b5",
   "metadata": {},
   "outputs": [
    {
     "data": {
      "text/html": [
       "<div>\n",
       "<style scoped>\n",
       "    .dataframe tbody tr th:only-of-type {\n",
       "        vertical-align: middle;\n",
       "    }\n",
       "\n",
       "    .dataframe tbody tr th {\n",
       "        vertical-align: top;\n",
       "    }\n",
       "\n",
       "    .dataframe thead th {\n",
       "        text-align: right;\n",
       "    }\n",
       "</style>\n",
       "<table border=\"1\" class=\"dataframe\">\n",
       "  <thead>\n",
       "    <tr style=\"text-align: right;\">\n",
       "      <th></th>\n",
       "      <th>driver_gender</th>\n",
       "      <th>driver_age</th>\n",
       "      <th>violation</th>\n",
       "      <th>search_type</th>\n",
       "      <th>contraband_found</th>\n",
       "      <th>search_basis</th>\n",
       "      <th>officer_id</th>\n",
       "      <th>drugs_related_stop</th>\n",
       "      <th>district</th>\n",
       "      <th>stop_date:day_of_week</th>\n",
       "      <th>driver_race_Asian</th>\n",
       "      <th>driver_race_Black</th>\n",
       "      <th>driver_race_Hispanic</th>\n",
       "      <th>driver_race_Other</th>\n",
       "      <th>driver_race_White</th>\n",
       "    </tr>\n",
       "  </thead>\n",
       "  <tbody>\n",
       "    <tr>\n",
       "      <th>376090</th>\n",
       "      <td>0.323003</td>\n",
       "      <td>0.315311</td>\n",
       "      <td>-0.170781</td>\n",
       "      <td>0.180831</td>\n",
       "      <td>-0.130247</td>\n",
       "      <td>0.088705</td>\n",
       "      <td>0.049197</td>\n",
       "      <td>-0.104827</td>\n",
       "      <td>0.079392</td>\n",
       "      <td>0.641341</td>\n",
       "      <td>-0.066466</td>\n",
       "      <td>-0.587797</td>\n",
       "      <td>-0.287442</td>\n",
       "      <td>-0.144067</td>\n",
       "      <td>0.746479</td>\n",
       "    </tr>\n",
       "    <tr>\n",
       "      <th>381498</th>\n",
       "      <td>0.323003</td>\n",
       "      <td>-0.222630</td>\n",
       "      <td>-0.170781</td>\n",
       "      <td>0.180831</td>\n",
       "      <td>-0.130247</td>\n",
       "      <td>0.088705</td>\n",
       "      <td>0.165899</td>\n",
       "      <td>-0.104827</td>\n",
       "      <td>0.807083</td>\n",
       "      <td>0.110470</td>\n",
       "      <td>-0.066466</td>\n",
       "      <td>-0.587797</td>\n",
       "      <td>-0.287442</td>\n",
       "      <td>-0.144067</td>\n",
       "      <td>0.746479</td>\n",
       "    </tr>\n",
       "    <tr>\n",
       "      <th>155966</th>\n",
       "      <td>0.323003</td>\n",
       "      <td>-0.991118</td>\n",
       "      <td>-0.170781</td>\n",
       "      <td>0.180831</td>\n",
       "      <td>-0.130247</td>\n",
       "      <td>0.088705</td>\n",
       "      <td>1.038166</td>\n",
       "      <td>-0.104827</td>\n",
       "      <td>0.503878</td>\n",
       "      <td>-0.420400</td>\n",
       "      <td>-0.066466</td>\n",
       "      <td>-0.587797</td>\n",
       "      <td>-0.287442</td>\n",
       "      <td>-0.144067</td>\n",
       "      <td>0.746479</td>\n",
       "    </tr>\n",
       "    <tr>\n",
       "      <th>148275</th>\n",
       "      <td>0.323003</td>\n",
       "      <td>-1.067967</td>\n",
       "      <td>-0.170781</td>\n",
       "      <td>0.180831</td>\n",
       "      <td>-0.130247</td>\n",
       "      <td>0.088705</td>\n",
       "      <td>-0.847009</td>\n",
       "      <td>-0.104827</td>\n",
       "      <td>0.140033</td>\n",
       "      <td>-0.420400</td>\n",
       "      <td>-0.066466</td>\n",
       "      <td>1.701267</td>\n",
       "      <td>-0.287442</td>\n",
       "      <td>-0.144067</td>\n",
       "      <td>-1.339623</td>\n",
       "    </tr>\n",
       "    <tr>\n",
       "      <th>344347</th>\n",
       "      <td>0.323003</td>\n",
       "      <td>-0.606874</td>\n",
       "      <td>-0.170781</td>\n",
       "      <td>0.180831</td>\n",
       "      <td>-0.130247</td>\n",
       "      <td>0.088705</td>\n",
       "      <td>0.613253</td>\n",
       "      <td>-0.104827</td>\n",
       "      <td>0.564519</td>\n",
       "      <td>1.703081</td>\n",
       "      <td>-0.066466</td>\n",
       "      <td>-0.587797</td>\n",
       "      <td>-0.287442</td>\n",
       "      <td>-0.144067</td>\n",
       "      <td>0.746479</td>\n",
       "    </tr>\n",
       "    <tr>\n",
       "      <th>...</th>\n",
       "      <td>...</td>\n",
       "      <td>...</td>\n",
       "      <td>...</td>\n",
       "      <td>...</td>\n",
       "      <td>...</td>\n",
       "      <td>...</td>\n",
       "      <td>...</td>\n",
       "      <td>...</td>\n",
       "      <td>...</td>\n",
       "      <td>...</td>\n",
       "      <td>...</td>\n",
       "      <td>...</td>\n",
       "      <td>...</td>\n",
       "      <td>...</td>\n",
       "      <td>...</td>\n",
       "    </tr>\n",
       "    <tr>\n",
       "      <th>340621</th>\n",
       "      <td>0.323003</td>\n",
       "      <td>-0.068933</td>\n",
       "      <td>-0.170781</td>\n",
       "      <td>0.180831</td>\n",
       "      <td>-0.130247</td>\n",
       "      <td>0.088705</td>\n",
       "      <td>0.435209</td>\n",
       "      <td>-0.104827</td>\n",
       "      <td>0.807083</td>\n",
       "      <td>-0.420400</td>\n",
       "      <td>-0.066466</td>\n",
       "      <td>-0.587797</td>\n",
       "      <td>-0.287442</td>\n",
       "      <td>-0.144067</td>\n",
       "      <td>0.746479</td>\n",
       "    </tr>\n",
       "    <tr>\n",
       "      <th>106869</th>\n",
       "      <td>0.323003</td>\n",
       "      <td>-0.299479</td>\n",
       "      <td>-0.170781</td>\n",
       "      <td>0.180831</td>\n",
       "      <td>-0.130247</td>\n",
       "      <td>0.088705</td>\n",
       "      <td>0.786809</td>\n",
       "      <td>-0.104827</td>\n",
       "      <td>-0.284453</td>\n",
       "      <td>-1.482141</td>\n",
       "      <td>-0.066466</td>\n",
       "      <td>-0.587797</td>\n",
       "      <td>3.478958</td>\n",
       "      <td>-0.144067</td>\n",
       "      <td>-1.339623</td>\n",
       "    </tr>\n",
       "    <tr>\n",
       "      <th>92828</th>\n",
       "      <td>0.323003</td>\n",
       "      <td>-0.530026</td>\n",
       "      <td>-0.170781</td>\n",
       "      <td>0.180831</td>\n",
       "      <td>-0.130247</td>\n",
       "      <td>0.088705</td>\n",
       "      <td>-1.316806</td>\n",
       "      <td>-0.104827</td>\n",
       "      <td>0.867724</td>\n",
       "      <td>-0.951271</td>\n",
       "      <td>-0.066466</td>\n",
       "      <td>-0.587797</td>\n",
       "      <td>-0.287442</td>\n",
       "      <td>-0.144067</td>\n",
       "      <td>0.746479</td>\n",
       "    </tr>\n",
       "    <tr>\n",
       "      <th>37632</th>\n",
       "      <td>0.323003</td>\n",
       "      <td>-1.144816</td>\n",
       "      <td>-0.170781</td>\n",
       "      <td>0.180831</td>\n",
       "      <td>-0.130247</td>\n",
       "      <td>0.088705</td>\n",
       "      <td>1.005250</td>\n",
       "      <td>-0.104827</td>\n",
       "      <td>1.110287</td>\n",
       "      <td>-0.951271</td>\n",
       "      <td>-0.066466</td>\n",
       "      <td>-0.587797</td>\n",
       "      <td>-0.287442</td>\n",
       "      <td>-0.144067</td>\n",
       "      <td>0.746479</td>\n",
       "    </tr>\n",
       "    <tr>\n",
       "      <th>176919</th>\n",
       "      <td>0.323003</td>\n",
       "      <td>0.315311</td>\n",
       "      <td>0.497020</td>\n",
       "      <td>0.180831</td>\n",
       "      <td>-0.130247</td>\n",
       "      <td>0.088705</td>\n",
       "      <td>1.044150</td>\n",
       "      <td>-0.104827</td>\n",
       "      <td>1.231569</td>\n",
       "      <td>0.641341</td>\n",
       "      <td>-0.066466</td>\n",
       "      <td>-0.587797</td>\n",
       "      <td>-0.287442</td>\n",
       "      <td>-0.144067</td>\n",
       "      <td>0.746479</td>\n",
       "    </tr>\n",
       "  </tbody>\n",
       "</table>\n",
       "<p>241229 rows × 15 columns</p>\n",
       "</div>"
      ],
      "text/plain": [
       "        driver_gender  driver_age  violation  search_type  contraband_found  \\\n",
       "376090       0.323003    0.315311  -0.170781     0.180831         -0.130247   \n",
       "381498       0.323003   -0.222630  -0.170781     0.180831         -0.130247   \n",
       "155966       0.323003   -0.991118  -0.170781     0.180831         -0.130247   \n",
       "148275       0.323003   -1.067967  -0.170781     0.180831         -0.130247   \n",
       "344347       0.323003   -0.606874  -0.170781     0.180831         -0.130247   \n",
       "...               ...         ...        ...          ...               ...   \n",
       "340621       0.323003   -0.068933  -0.170781     0.180831         -0.130247   \n",
       "106869       0.323003   -0.299479  -0.170781     0.180831         -0.130247   \n",
       "92828        0.323003   -0.530026  -0.170781     0.180831         -0.130247   \n",
       "37632        0.323003   -1.144816  -0.170781     0.180831         -0.130247   \n",
       "176919       0.323003    0.315311   0.497020     0.180831         -0.130247   \n",
       "\n",
       "        search_basis  officer_id  drugs_related_stop  district  \\\n",
       "376090      0.088705    0.049197           -0.104827  0.079392   \n",
       "381498      0.088705    0.165899           -0.104827  0.807083   \n",
       "155966      0.088705    1.038166           -0.104827  0.503878   \n",
       "148275      0.088705   -0.847009           -0.104827  0.140033   \n",
       "344347      0.088705    0.613253           -0.104827  0.564519   \n",
       "...              ...         ...                 ...       ...   \n",
       "340621      0.088705    0.435209           -0.104827  0.807083   \n",
       "106869      0.088705    0.786809           -0.104827 -0.284453   \n",
       "92828       0.088705   -1.316806           -0.104827  0.867724   \n",
       "37632       0.088705    1.005250           -0.104827  1.110287   \n",
       "176919      0.088705    1.044150           -0.104827  1.231569   \n",
       "\n",
       "        stop_date:day_of_week  driver_race_Asian  driver_race_Black  \\\n",
       "376090               0.641341          -0.066466          -0.587797   \n",
       "381498               0.110470          -0.066466          -0.587797   \n",
       "155966              -0.420400          -0.066466          -0.587797   \n",
       "148275              -0.420400          -0.066466           1.701267   \n",
       "344347               1.703081          -0.066466          -0.587797   \n",
       "...                       ...                ...                ...   \n",
       "340621              -0.420400          -0.066466          -0.587797   \n",
       "106869              -1.482141          -0.066466          -0.587797   \n",
       "92828               -0.951271          -0.066466          -0.587797   \n",
       "37632               -0.951271          -0.066466          -0.587797   \n",
       "176919               0.641341          -0.066466          -0.587797   \n",
       "\n",
       "        driver_race_Hispanic  driver_race_Other  driver_race_White  \n",
       "376090             -0.287442          -0.144067           0.746479  \n",
       "381498             -0.287442          -0.144067           0.746479  \n",
       "155966             -0.287442          -0.144067           0.746479  \n",
       "148275             -0.287442          -0.144067          -1.339623  \n",
       "344347             -0.287442          -0.144067           0.746479  \n",
       "...                      ...                ...                ...  \n",
       "340621             -0.287442          -0.144067           0.746479  \n",
       "106869              3.478958          -0.144067          -1.339623  \n",
       "92828              -0.287442          -0.144067           0.746479  \n",
       "37632              -0.287442          -0.144067           0.746479  \n",
       "176919             -0.287442          -0.144067           0.746479  \n",
       "\n",
       "[241229 rows x 15 columns]"
      ]
     },
     "execution_count": 15,
     "metadata": {},
     "output_type": "execute_result"
    }
   ],
   "source": [
    "# Creating a scaler object (here with default settings)\n",
    "scaler = StandardScaler()\n",
    "\n",
    "# Replacing the values in our X_train by the normalized ones\n",
    "X_train_norm = X_train.copy()\n",
    "X_train_norm.values[:] = scaler.fit_transform(X_train)\n",
    "# Replacing the values in our X_test by the normalized ones\n",
    "X_test_norm = X_test.copy()\n",
    "X_test_norm.values[:] = scaler.transform(X_test)\n",
    "# Replacing the values in our X_val by the normalized ones\n",
    "X_val_norm = X_test.copy()\n",
    "X_val_norm.values[:] = scaler.transform(X_val)\n",
    "\n",
    "X_train_norm"
   ]
  },
  {
   "cell_type": "markdown",
   "id": "c4bd06ef",
   "metadata": {},
   "source": [
    "# Plotting"
   ]
  },
  {
   "cell_type": "code",
   "execution_count": 15,
   "id": "294e222d",
   "metadata": {},
   "outputs": [
    {
     "data": {
      "image/png": "[encoded data removed]",
      "text/plain": [
       "<Figure size 720x720 with 2 Axes>"
      ]
     },
     "metadata": {
      "needs_background": "light"
     },
     "output_type": "display_data"
    }
   ],
   "source": [
    "#creating correlation matrix for feature selection\n",
    "corr = X.corr()\n",
    "plt.figure(figsize=(10, 10))\n",
    "sns.heatmap(corr, linewidths=0.1, square=True, annot=True, cmap='YlGnBu',\n",
    "            linecolor=\"white\", fmt='.2f')\n",
    "plt.title('Correlation between features')\n",
    "plt.show()"
   ]
  },
  {
   "cell_type": "code",
   "execution_count": 16,
   "id": "fd12e2fc",
   "metadata": {},
   "outputs": [
    {
     "data": {
      "image/png": "[encoded data removed]",
      "text/plain": [
       "<Figure size 504x360 with 1 Axes>"
      ]
     },
     "metadata": {
      "needs_background": "light"
     },
     "output_type": "display_data"
    }
   ],
   "source": [
    "#representation of certain groups in the dataset\n",
    "plt.figure(figsize=(7,5))\n",
    "# Calculate the necessary number of bins for a better display\n",
    "bins = np.arange(data['driver_race'].nunique()+1) - 0.5\n",
    "\n",
    "plt.hist(data['driver_race'], bins=bins, rwidth=0.8, label='Race')\n",
    "plt.xlabel('Ethnicity')\n",
    "plt.ylabel('Number of occasions')\n",
    "plt.title('Distribution of ethnicity in dataset')\n",
    "plt.legend()\n",
    "plt.xticks(rotation=60)\n",
    "plt.show()"
   ]
  },
  {
   "cell_type": "code",
   "execution_count": 17,
   "id": "52fd99fa",
   "metadata": {},
   "outputs": [
    {
     "data": {
      "image/png": "[encoded data removed]",
      "text/plain": [
       "<Figure size 504x360 with 1 Axes>"
      ]
     },
     "metadata": {
      "needs_background": "light"
     },
     "output_type": "display_data"
    }
   ],
   "source": [
    "#representation of certain groups in the dataset\n",
    "plt.figure(figsize=(7,5))\n",
    "# Calculate the necessary number of bins for a better display\n",
    "bins = np.arange(data['driver_age'].nunique()+1) - 0.5\n",
    "\n",
    "plt.hist(data['driver_age'], bins=bins, rwidth=0.8, label='Age')\n",
    "plt.xlabel('Age')\n",
    "plt.ylabel('Number of occasions')\n",
    "plt.title('Distribution of age in dataset')\n",
    "plt.legend()\n",
    "plt.xticks(rotation=60)\n",
    "plt.show()"
   ]
  },
  {
   "cell_type": "code",
   "execution_count": 18,
   "id": "a18a94bc",
   "metadata": {},
   "outputs": [],
   "source": [
    "#number of arrestments among black and white people\n",
    "data_race = data[['driver_race','stop_outcome']]\n",
    "black_arr = data_race[data_race['driver_race']=='Black']\n",
    "white_arr = data_race[data_race['driver_race']=='White']\n",
    "hispanic_arr = data_race[data_race['driver_race']=='Hispanic']\n",
    "asian_arr = data_race[data_race['driver_race']=='Asian']\n",
    "other_arr = data_race[data_race['driver_race']=='Other']"
   ]
  },
  {
   "cell_type": "code",
   "execution_count": 19,
   "id": "2f3838ef",
   "metadata": {},
   "outputs": [
    {
     "data": {
      "image/png": "[encoded data removed]",
      "text/plain": [
       "<Figure size 504x360 with 1 Axes>"
      ]
     },
     "metadata": {
      "needs_background": "light"
     },
     "output_type": "display_data"
    }
   ],
   "source": [
    "# Calculate the necessary number of bins for a better display\n",
    "bins = np.arange(data_race['stop_outcome'].nunique()+1) - 0.5\n",
    "\n",
    "plt.figure(figsize=(7,5))\n",
    "# plt.hist([data_race['stop_outcome'], white_arr['stop_outcome'], black_arr['stop_outcome'], hispanic_arr['stop_outcome'], asian_arr['stop_outcome'], other_arr['stop_outcome']],\n",
    "#          bins, label=['Overall','White','Black', 'Hispanic', 'Asian', 'Other'], rwidth=0.8, stacked=True)\n",
    "plt.hist([white_arr['stop_outcome'], black_arr['stop_outcome'], hispanic_arr['stop_outcome'], asian_arr['stop_outcome'], other_arr['stop_outcome']],\n",
    "         bins, label=['White','Black', 'Hispanic', 'Asian', 'Other'], rwidth=0.8, stacked=True)\n",
    "plt.xlabel('Actions')\n",
    "plt.ylabel('Number of occasions')\n",
    "plt.title('Distribution of arrested people among the groups')\n",
    "plt.legend(loc='upper left')\n",
    "plt.xticks(rotation=60)\n",
    "plt.show()"
   ]
  },
  {
   "cell_type": "code",
   "execution_count": 20,
   "id": "1a2c0fa8",
   "metadata": {},
   "outputs": [
    {
     "data": {
      "image/png": "[encoded data removed]",
      "text/plain": [
       "<Figure size 504x504 with 1 Axes>"
      ]
     },
     "metadata": {
      "needs_background": "light"
     },
     "output_type": "display_data"
    }
   ],
   "source": [
    "#scatter plot driver age against gender, frequency of arrestments\n",
    "plt.figure(figsize=(7,7))\n",
    "sns.scatterplot(x='driver_gender',y='driver_age',hue=data['stop_outcome'],data=data)\n",
    "plt.legend(loc='center')\n",
    "plt.show()"
   ]
  },
  {
   "cell_type": "code",
   "execution_count": 21,
   "id": "39053cbd",
   "metadata": {},
   "outputs": [
    {
     "data": {
      "image/png": "[encoded data removed]",
      "text/plain": [
       "<Figure size 504x504 with 1 Axes>"
      ]
     },
     "metadata": {
      "needs_background": "light"
     },
     "output_type": "display_data"
    }
   ],
   "source": [
    "#scatter plot type of violation against driver age, frequency of arrestments\n",
    "plt.figure(figsize=(7,7))\n",
    "sns.scatterplot(x='violation',y='driver_age',hue=data['stop_outcome'],data=data)\n",
    "plt.legend(loc='upper right')\n",
    "plt.xticks(rotation=60)\n",
    "plt.show()"
   ]
  },
  {
   "cell_type": "code",
   "execution_count": 22,
   "id": "93e8a417",
   "metadata": {},
   "outputs": [
    {
     "data": {
      "image/png": "[encoded data removed]",
      "text/plain": [
       "<Figure size 432x288 with 1 Axes>"
      ]
     },
     "metadata": {
      "needs_background": "light"
     },
     "output_type": "display_data"
    },
    {
     "data": {
      "image/png": "[encoded data removed]",
      "text/plain": [
       "<Figure size 432x288 with 1 Axes>"
      ]
     },
     "metadata": {
      "needs_background": "light"
     },
     "output_type": "display_data"
    }
   ],
   "source": [
    "#kde to show on which day of the week does each type of\n",
    "#violation occur the most\n",
    "feat = data[['stop_date:day_of_week']]\n",
    "for i,(column,color) in enumerate(zip(feat.columns,sns.color_palette())):\n",
    "    plt.figure(i)\n",
    "    sns.kdeplot(x=column,fill=True,hue=data.violation,data=data,color=color)\n",
    "plt.show()\n",
    "    \n",
    "#kde to show the which type of violation mostly occurs\n",
    "#by people of different ages\n",
    "feat = data[['driver_age']]\n",
    "for i,(column,color) in enumerate(zip(feat.columns,sns.color_palette())):\n",
    "    plt.figure(i)\n",
    "    sns.kdeplot(x=column,fill=True,hue=data.violation,data=data,color=color)\n",
    "plt.show()"
   ]
  },
  {
   "cell_type": "markdown",
   "id": "5fa328e4",
   "metadata": {},
   "source": [
    "# Classifiers"
   ]
  },
  {
   "cell_type": "markdown",
   "id": "e154882f",
   "metadata": {},
   "source": [
    "Two types of classifiers are implemented\n",
    "\n",
    "- K-Nearest Neighbors\n",
    "- Neural Network"
   ]
  },
  {
   "cell_type": "markdown",
   "id": "d11266df",
   "metadata": {},
   "source": [
    "## k-NN Classifier"
   ]
  },
  {
   "cell_type": "markdown",
   "id": "02ac0167",
   "metadata": {},
   "source": [
    "### Finding the optimal k-value"
   ]
  },
  {
   "cell_type": "markdown",
   "id": "57f5487d",
   "metadata": {},
   "source": [
    "Defining the classifier using the faiss library for fast computation"
   ]
  },
  {
   "cell_type": "code",
   "execution_count": 17,
   "id": "ff0d85bc",
   "metadata": {},
   "outputs": [],
   "source": [
    "# Use an external library from Facebook to speed up the computation\n",
    "# Source: https://towardsdatascience.com/make-knn-300-times-faster-than-scikit-learns-in-20-lines-5e29d74e76bb\n",
    "# git: https://github.com/facebookresearch/faiss/blob/master/INSTALL.md\n",
    "class FaissKNeighbors:\n",
    "    def __init__(self, k=5):\n",
    "        self.index = None\n",
    "        self.y = None\n",
    "        self.k = k\n",
    "\n",
    "    def fit(self, X, y):\n",
    "        self.index = faiss.IndexFlatL2(X.shape[1])\n",
    "        self.index.add(X)\n",
    "        self.y = y\n",
    "\n",
    "    def predict(self, X):\n",
    "        distances, indices = self.index.search(X, k=self.k)\n",
    "        votes = self.y[indices]\n",
    "        predictions = np.array([np.argmax(np.bincount(x)) for x in votes])\n",
    "        return predictions"
   ]
  },
  {
   "cell_type": "markdown",
   "id": "0c9fdef6",
   "metadata": {},
   "source": [
    "Iterating over different k-values and testing the accuracy on the validation set"
   ]
  },
  {
   "cell_type": "code",
   "execution_count": 58,
   "id": "73d30ade",
   "metadata": {},
   "outputs": [
    {
     "name": "stdout",
     "output_type": "stream",
     "text": [
      "Entering loop\n",
      "k=1\n",
      "Created class\n",
      "Created an instance of KNN\n",
      "Fitting complete\n",
      "Training prediction complete\n",
      "Validation prediction complete\n",
      "Accuracy score calculated\n",
      "\n",
      "k=2\n",
      "Created class\n",
      "Created an instance of KNN\n",
      "Fitting complete\n",
      "Training prediction complete\n",
      "Validation prediction complete\n",
      "Accuracy score calculated\n",
      "\n",
      "k=3\n",
      "Created class\n",
      "Created an instance of KNN\n",
      "Fitting complete\n",
      "Training prediction complete\n",
      "Validation prediction complete\n",
      "Accuracy score calculated\n",
      "\n",
      "k=4\n",
      "Created class\n",
      "Created an instance of KNN\n",
      "Fitting complete\n",
      "Training prediction complete\n",
      "Validation prediction complete\n",
      "Accuracy score calculated\n",
      "\n",
      "k=5\n",
      "Created class\n",
      "Created an instance of KNN\n",
      "Fitting complete\n",
      "Training prediction complete\n",
      "Validation prediction complete\n",
      "Accuracy score calculated\n",
      "\n",
      "k=6\n",
      "Created class\n",
      "Created an instance of KNN\n",
      "Fitting complete\n",
      "Training prediction complete\n",
      "Validation prediction complete\n",
      "Accuracy score calculated\n",
      "\n",
      "k=7\n",
      "Created class\n",
      "Created an instance of KNN\n",
      "Fitting complete\n",
      "Training prediction complete\n",
      "Validation prediction complete\n",
      "Accuracy score calculated\n",
      "\n",
      "k=8\n",
      "Created class\n",
      "Created an instance of KNN\n",
      "Fitting complete\n",
      "Training prediction complete\n",
      "Validation prediction complete\n",
      "Accuracy score calculated\n",
      "\n",
      "k=9\n",
      "Created class\n",
      "Created an instance of KNN\n",
      "Fitting complete\n",
      "Training prediction complete\n",
      "Validation prediction complete\n",
      "Accuracy score calculated\n",
      "\n",
      "k=10\n",
      "Created class\n",
      "Created an instance of KNN\n",
      "Fitting complete\n",
      "Training prediction complete\n",
      "Validation prediction complete\n",
      "Accuracy score calculated\n",
      "\n",
      "k=11\n",
      "Created class\n",
      "Created an instance of KNN\n",
      "Fitting complete\n",
      "Training prediction complete\n",
      "Validation prediction complete\n",
      "Accuracy score calculated\n",
      "\n",
      "k=12\n",
      "Created class\n",
      "Created an instance of KNN\n",
      "Fitting complete\n",
      "Training prediction complete\n",
      "Validation prediction complete\n",
      "Accuracy score calculated\n",
      "\n",
      "k=13\n",
      "Created class\n",
      "Created an instance of KNN\n",
      "Fitting complete\n",
      "Training prediction complete\n",
      "Validation prediction complete\n",
      "Accuracy score calculated\n",
      "\n",
      "k=14\n",
      "Created class\n",
      "Created an instance of KNN\n",
      "Fitting complete\n",
      "Training prediction complete\n",
      "Validation prediction complete\n",
      "Accuracy score calculated\n",
      "\n",
      "k=15\n",
      "Created class\n",
      "Created an instance of KNN\n",
      "Fitting complete\n",
      "Training prediction complete\n",
      "Validation prediction complete\n",
      "Accuracy score calculated\n",
      "\n",
      "k=16\n",
      "Created class\n",
      "Created an instance of KNN\n",
      "Fitting complete\n",
      "Training prediction complete\n",
      "Validation prediction complete\n",
      "Accuracy score calculated\n",
      "\n",
      "k=17\n",
      "Created class\n",
      "Created an instance of KNN\n",
      "Fitting complete\n",
      "Training prediction complete\n",
      "Validation prediction complete\n",
      "Accuracy score calculated\n",
      "\n",
      "k=18\n",
      "Created class\n",
      "Created an instance of KNN\n",
      "Fitting complete\n",
      "Training prediction complete\n",
      "Validation prediction complete\n",
      "Accuracy score calculated\n",
      "\n",
      "k=19\n",
      "Created class\n",
      "Created an instance of KNN\n",
      "Fitting complete\n",
      "Training prediction complete\n",
      "Validation prediction complete\n",
      "Accuracy score calculated\n",
      "\n",
      "k=20\n",
      "Created class\n",
      "Created an instance of KNN\n",
      "Fitting complete\n",
      "Training prediction complete\n",
      "Validation prediction complete\n",
      "Accuracy score calculated\n",
      "\n"
     ]
    }
   ],
   "source": [
    "# List to store the accuracy scores\n",
    "pred_score_knn_train = []\n",
    "pred_score_knn_val = []\n",
    "# k-values to try out\n",
    "k_range = range(1, 21)\n",
    "\n",
    "print(\"Entering loop\")\n",
    "# Iterate over all the k-values in the list\n",
    "for i in k_range:\n",
    "    print(f'k={i}')\n",
    "\n",
    "    print(\"Created class\")\n",
    "\n",
    "    # Create an instance of sped up KNN with n_neighbors=i\n",
    "    knn = FaissKNeighbors(k=i)\n",
    "    print(\"Created an instance of KNN\")\n",
    "\n",
    "    # Train the model on the training set with the encoded labels\n",
    "    # The classifier only accepts contiguous arrays\n",
    "    tmp_train = np.ascontiguousarray(X_train_norm.to_numpy())\n",
    "    knn.fit(tmp_train, y_train)\n",
    "    print(\"Fitting complete\")\n",
    "    y_pred_train = knn.predict(tmp_train)\n",
    "    print(\"Training prediction complete\")\n",
    "    \n",
    "    # The classifier only accepts contiguous arrays\n",
    "    tmp_val = np.ascontiguousarray(X_val_norm.to_numpy())\n",
    "    y_pred_val = knn.predict(tmp_val)\n",
    "    print(\"Validation prediction complete\")\n",
    "\n",
    "    # Append the accuracy scores to the list\n",
    "    pred_score_knn_train.append(accuracy_score(y_train, y_pred_train))\n",
    "    pred_score_knn_val.append(accuracy_score(y_val, y_pred_val))\n",
    "    print(\"Accuracy score calculated\")\n",
    "\n",
    "    print()"
   ]
  },
  {
   "cell_type": "code",
   "execution_count": 82,
   "id": "0eb8f99f",
   "metadata": {},
   "outputs": [],
   "source": [
    "# Save the accuracy scores\n",
    "# pickle.dump(pred_score_knn_train, open('pred_score_knn_train.sav', 'wb'))\n",
    "# pickle.dump(pred_score_knn_val, open('pred_score_knn_val.sav', 'wb'))"
   ]
  },
  {
   "cell_type": "markdown",
   "id": "488ced12",
   "metadata": {},
   "source": [
    "Plot the pre-computed result"
   ]
  },
  {
   "cell_type": "code",
   "execution_count": 85,
   "id": "234d84ae",
   "metadata": {},
   "outputs": [
    {
     "data": {
      "image/png": "[encoded data removed]",
      "text/plain": [
       "<Figure size 432x288 with 1 Axes>"
      ]
     },
     "metadata": {
      "needs_background": "light"
     },
     "output_type": "display_data"
    }
   ],
   "source": [
    "# Range of k-values for plotting purposes\n",
    "k_range = range(1, 21)\n",
    "# Load the pre-computed pred_score\n",
    "pred_score_knn_train = pickle.load(open('pred_score_knn_train.sav', 'rb'))\n",
    "pred_score_knn_val = pickle.load(open('pred_score_knn_val.sav', 'rb'))\n",
    "# Convert the list to an array and multiply with 100 to get percentages\n",
    "pred_score_knn_train = np.array(pred_score_knn_train) * 100\n",
    "pred_score_knn_val = np.array(pred_score_knn_val) * 100\n",
    "# Plot the results\n",
    "plt.plot(k_range, pred_score_knn_train, label='Training prediction')\n",
    "plt.plot(k_range, pred_score_knn_val, label='Validation prediction')\n",
    "plt.xlabel(\"k values\")\n",
    "plt.ylabel(\"Accuracy\")\n",
    "plt.xticks(k_range)\n",
    "plt.legend()\n",
    "plt.grid()\n",
    "plt.show()"
   ]
  },
  {
   "cell_type": "markdown",
   "id": "b892ac25",
   "metadata": {},
   "source": [
    "### Measuring k-NN Classifier Performance"
   ]
  },
  {
   "cell_type": "markdown",
   "id": "acdc920c",
   "metadata": {},
   "source": [
    "Pick k = 5 and train the standard classifier from scikit-learn "
   ]
  },
  {
   "cell_type": "markdown",
   "id": "a57a5825",
   "metadata": {},
   "source": [
    "#### Scikit-Learn"
   ]
  },
  {
   "cell_type": "code",
   "execution_count": 26,
   "id": "bfe93a13",
   "metadata": {},
   "outputs": [],
   "source": [
    "# Load the pre-computed results\n",
    "knn_sklearn = pickle.load(open('knn_sklearn.sav', 'rb'))\n",
    "y_pred_train_knn_sklearn = pickle.load(open('y_pred_train_knn_sklearn.sav', 'rb'))\n",
    "y_pred_val_knn_sklearn = pickle.load(open('y_pred_val_knn_sklearn.sav', 'rb'))\n",
    "y_pred_test_knn_sklearn = pickle.load(open('y_pred_test_knn_sklearn.sav', 'rb'))"
   ]
  },
  {
   "cell_type": "code",
   "execution_count": 30,
   "id": "a07c4fcc",
   "metadata": {},
   "outputs": [
    {
     "name": "stdout",
     "output_type": "stream",
     "text": [
      "Created an instance of KNN\n"
     ]
    }
   ],
   "source": [
    "# Create an instance of KNN with n_neighbors=5\n",
    "knn_sklearn = KNeighborsClassifier(n_neighbors=5, n_jobs=-1)\n",
    "print(\"Created an instance of KNN\")"
   ]
  },
  {
   "cell_type": "code",
   "execution_count": 31,
   "id": "fa33eed4",
   "metadata": {},
   "outputs": [
    {
     "name": "stdout",
     "output_type": "stream",
     "text": [
      "Fitting complete\n"
     ]
    }
   ],
   "source": [
    "# Train the model on the training set with the encoded labels\n",
    "knn_sklearn.fit(X_train_norm, y_train)\n",
    "print(\"Fitting complete\")"
   ]
  },
  {
   "cell_type": "code",
   "execution_count": 32,
   "id": "43a10dc5",
   "metadata": {},
   "outputs": [
    {
     "name": "stdout",
     "output_type": "stream",
     "text": [
      "Training prediction complete\n",
      "Validation prediction complete\n",
      "Test prediction complete\n"
     ]
    }
   ],
   "source": [
    "#Predictions for training, validation and test set\n",
    "\n",
    "y_pred_train_knn_sklearn = knn_sklearn.predict(X_train_norm)\n",
    "print(\"Training prediction complete\")\n",
    "\n",
    "y_pred_val_knn_sklearn = knn_sklearn.predict(X_val_norm)\n",
    "print(\"Validation prediction complete\")\n",
    "\n",
    "y_pred_test_knn_sklearn = knn_sklearn.predict(X_test_norm)\n",
    "print(\"Test prediction complete\")"
   ]
  },
  {
   "cell_type": "code",
   "execution_count": null,
   "id": "3537a25f",
   "metadata": {},
   "outputs": [],
   "source": [
    "# Save the classifier and the variables to disk\n",
    "# pickle.dump(knn_sklearn, open('knn_sklearn.sav', 'wb'))\n",
    "# pickle.dump(y_pred_train_knn_sklearn, open('y_pred_train_knn_sklearn.sav', 'wb'))\n",
    "# pickle.dump(y_pred_val_knn_sklearn, open('y_pred_val_knn_sklearn.sav', 'wb'))\n",
    "# pickle.dump(y_pred_test_knn_sklearn, open('y_pred_test_knn_sklearn.sav', 'wb'))"
   ]
  },
  {
   "cell_type": "markdown",
   "id": "1be77e22",
   "metadata": {},
   "source": [
    "Plotting the confusion matrices"
   ]
  },
  {
   "cell_type": "code",
   "execution_count": null,
   "id": "a7d42c1f",
   "metadata": {},
   "outputs": [],
   "source": [
    "cm_train_knn_sklearn = confusion_matrix(y_train, y_pred_train_knn_sklearn)\n",
    "cm_val_knn_sklearn = confusion_matrix(y_val, y_pred_val_knn_sklearn)\n",
    "cm_test_knn_sklearn = confusion_matrix(y_test, y_pred_test_knn_sklearn)"
   ]
  },
  {
   "cell_type": "code",
   "execution_count": null,
   "id": "3d1f7f33",
   "metadata": {},
   "outputs": [],
   "source": [
    "tmp_dict = {'training': cm_train_knn_sklearn, 'validation': cm_val_knn_sklearn, 'test': cm_test_knn_sklearn}\n",
    "plot_cm_subplots(tmp_dict, 'kNN classifier')"
   ]
  },
  {
   "cell_type": "markdown",
   "id": "8366ecd0",
   "metadata": {},
   "source": [
    "#### Faiss"
   ]
  },
  {
   "cell_type": "markdown",
   "id": "9a50430e",
   "metadata": {},
   "source": [
    "The same thing for faiss"
   ]
  },
  {
   "cell_type": "code",
   "execution_count": 24,
   "id": "86844304",
   "metadata": {},
   "outputs": [],
   "source": [
    "# Run faiss initalization first\n",
    "knn_faiss = pickle.load(open('knn_faiss.sav', 'rb'))\n",
    "y_pred_train_knn_faiss = pickle.load(open('y_pred_train_knn_faiss.sav', 'rb'))\n",
    "y_pred_val_knn_faiss = pickle.load(open('y_pred_val_knn_faiss.sav', 'rb'))\n",
    "y_pred_test_knn_faiss = pickle.load(open('y_pred_test_knn_faiss.sav', 'rb'))"
   ]
  },
  {
   "cell_type": "markdown",
   "id": "fd1695e1",
   "metadata": {},
   "source": [
    "Fitting and prediction for k-NN from faiss"
   ]
  },
  {
   "cell_type": "code",
   "execution_count": null,
   "id": "a31a2906",
   "metadata": {
    "scrolled": true
   },
   "outputs": [],
   "source": [
    "knn_faiss = FaissKNeighbors(k=5) #not interpreted as classifier by plotting functions\n",
    "print(\"Created an instance of KNN\")\n",
    "\n",
    "tmp_train = np.ascontiguousarray(X_train_norm.to_numpy())\n",
    "knn_faiss.fit(tmp_train, y_train)\n",
    "print(\"Fitting complete\")\n",
    "\n",
    "y_pred_train_knn_faiss = knn_faiss.predict(tmp_train)\n",
    "print(\"Training prediction complete\")\n",
    "\n",
    "tmp_val = np.ascontiguousarray(X_val_norm.to_numpy())\n",
    "y_pred_val_knn_faiss = knn_faiss.predict(tmp_val)\n",
    "print(\"Validation prediction complete\")\n",
    "\n",
    "tmp_test = np.ascontiguousarray(X_test_norm.to_numpy())\n",
    "y_pred_test_knn_faiss = knn_faiss.predict(tmp_test)\n",
    "print(\"Test prediction complete\")"
   ]
  },
  {
   "cell_type": "code",
   "execution_count": null,
   "id": "80ef3b54",
   "metadata": {},
   "outputs": [],
   "source": [
    "# Save the classifier and the variables to disk\n",
    "# pickle.dump(knn_faiss, open('knn_faiss.sav', 'wb'))\n",
    "# pickle.dump(y_pred_train_knn_faiss, open('y_pred_train_knn_faiss.sav', 'wb'))\n",
    "# pickle.dump(y_pred_val_knn_faiss, open('y_pred_val_knn_faiss.sav', 'wb'))\n",
    "# pickle.dump(y_pred_test_knn_faiss, open('y_pred_test_knn_faiss.sav', 'wb'))"
   ]
  },
  {
   "cell_type": "markdown",
   "id": "65d1ab1e",
   "metadata": {},
   "source": [
    "### Dummy Classifier"
   ]
  },
  {
   "cell_type": "code",
   "execution_count": 31,
   "id": "4a1ce682",
   "metadata": {},
   "outputs": [],
   "source": [
    "# Create an array with the length of y_test that always has the value 0 (Arrest)\n",
    "y_train_dummy = np.zeros(len(y_train))\n",
    "y_val_dummy = np.zeros(len(y_val))\n",
    "y_test_dummy = np.zeros(len(y_test))"
   ]
  },
  {
   "cell_type": "code",
   "execution_count": 32,
   "id": "ed22d987",
   "metadata": {},
   "outputs": [
    {
     "name": "stdout",
     "output_type": "stream",
     "text": [
      "Accuracy on training set: 0.307264\n"
     ]
    },
    {
     "data": {
      "text/plain": [
       "<Figure size 432x288 with 0 Axes>"
      ]
     },
     "metadata": {},
     "output_type": "display_data"
    },
    {
     "data": {
      "image/png": "[encoded data removed]",
      "text/plain": [
       "<Figure size 432x288 with 2 Axes>"
      ]
     },
     "metadata": {
      "needs_background": "light"
     },
     "output_type": "display_data"
    },
    {
     "name": "stdout",
     "output_type": "stream",
     "text": [
      "Accuracy on training set: 0.309937\n"
     ]
    },
    {
     "data": {
      "text/plain": [
       "<Figure size 432x288 with 0 Axes>"
      ]
     },
     "metadata": {},
     "output_type": "display_data"
    },
    {
     "data": {
      "image/png": "[encoded data removed]",
      "text/plain": [
       "<Figure size 432x288 with 2 Axes>"
      ]
     },
     "metadata": {
      "needs_background": "light"
     },
     "output_type": "display_data"
    },
    {
     "name": "stdout",
     "output_type": "stream",
     "text": [
      "Accuracy on test set: 0.307810\n"
     ]
    },
    {
     "data": {
      "text/plain": [
       "<Figure size 432x288 with 0 Axes>"
      ]
     },
     "metadata": {},
     "output_type": "display_data"
    },
    {
     "data": {
      "image/png": "[encoded data removed]",
      "text/plain": [
       "<Figure size 432x288 with 2 Axes>"
      ]
     },
     "metadata": {
      "needs_background": "light"
     },
     "output_type": "display_data"
    }
   ],
   "source": [
    "#Measuring Accuracy Score\n",
    "\n",
    "cm_train_dummy = confusion_matrix(y_train, y_train_dummy)\n",
    "cm_val_dummy = confusion_matrix(y_test, y_val_dummy)\n",
    "cm_test_dummy = confusion_matrix(y_test, y_test_dummy)\n",
    "\n",
    "print(\"Accuracy on training set: %f\" %accuracy_score(y_train, y_train_dummy))\n",
    "plt.figure()\n",
    "disp = ConfusionMatrixDisplay(confusion_matrix=cm_train_dummy, display_labels=['Arrest','No Action'])\n",
    "disp.plot()\n",
    "plt.grid(False)\n",
    "plt.title(\"Confusion matrix for training data\")\n",
    "plt.show()\n",
    "\n",
    "print(\"Accuracy on training set: %f\" %accuracy_score(y_val, y_val_dummy))\n",
    "plt.figure()\n",
    "disp = ConfusionMatrixDisplay(confusion_matrix=cm_val_dummy, display_labels=['Arrest','No Action'])\n",
    "disp.plot()\n",
    "plt.grid(False)\n",
    "plt.title(\"Confusion matrix for training data\")\n",
    "plt.show()\n",
    "\n",
    "print(\"Accuracy on test set: %f\" % accuracy_score(y_test, y_test_dummy))\n",
    "plt.figure()\n",
    "disp = ConfusionMatrixDisplay(confusion_matrix=cm_test_dummy, display_labels=['Arrest','No Action'])\n",
    "disp.plot()\n",
    "plt.grid(False)\n",
    "plt.title(\"Confusion matrix for test data\")\n",
    "plt.show()"
   ]
  },
  {
   "cell_type": "markdown",
   "id": "c7999995",
   "metadata": {},
   "source": [
    "## Neural Network"
   ]
  },
  {
   "cell_type": "markdown",
   "id": "f4cbfdb4",
   "metadata": {},
   "source": [
    "### Finding the optimal number of hidden units"
   ]
  },
  {
   "cell_type": "code",
   "execution_count": 121,
   "id": "647f7ad1",
   "metadata": {},
   "outputs": [
    {
     "name": "stdout",
     "output_type": "stream",
     "text": [
      "Entering loop\n",
      "k=105\n",
      "Created an instance of NN\n",
      "Fitting complete\n",
      "Training prediction complete\n",
      "Validation prediction complete\n",
      "Training accuracy score calculated\n",
      "Validation accuracy score calculated\n",
      "\n",
      "k=110\n",
      "Created an instance of NN\n",
      "Fitting complete\n",
      "Training prediction complete\n",
      "Validation prediction complete\n",
      "Training accuracy score calculated\n",
      "Validation accuracy score calculated\n",
      "\n",
      "k=115\n",
      "Created an instance of NN\n",
      "Fitting complete\n",
      "Training prediction complete\n",
      "Validation prediction complete\n",
      "Training accuracy score calculated\n",
      "Validation accuracy score calculated\n",
      "\n",
      "k=120\n",
      "Created an instance of NN\n",
      "Fitting complete\n",
      "Training prediction complete\n",
      "Validation prediction complete\n",
      "Training accuracy score calculated\n",
      "Validation accuracy score calculated\n",
      "\n",
      "k=125\n",
      "Created an instance of NN\n",
      "Fitting complete\n",
      "Training prediction complete\n",
      "Validation prediction complete\n",
      "Training accuracy score calculated\n",
      "Validation accuracy score calculated\n",
      "\n",
      "k=130\n",
      "Created an instance of NN\n",
      "Fitting complete\n",
      "Training prediction complete\n",
      "Validation prediction complete\n",
      "Training accuracy score calculated\n",
      "Validation accuracy score calculated\n",
      "\n",
      "k=135\n",
      "Created an instance of NN\n",
      "Fitting complete\n",
      "Training prediction complete\n",
      "Validation prediction complete\n",
      "Training accuracy score calculated\n",
      "Validation accuracy score calculated\n",
      "\n",
      "k=140\n",
      "Created an instance of NN\n",
      "Fitting complete\n",
      "Training prediction complete\n",
      "Validation prediction complete\n",
      "Training accuracy score calculated\n",
      "Validation accuracy score calculated\n",
      "\n",
      "k=145\n",
      "Created an instance of NN\n",
      "Fitting complete\n",
      "Training prediction complete\n",
      "Validation prediction complete\n",
      "Training accuracy score calculated\n",
      "Validation accuracy score calculated\n",
      "\n",
      "k=150\n",
      "Created an instance of NN\n",
      "Fitting complete\n",
      "Training prediction complete\n",
      "Validation prediction complete\n",
      "Training accuracy score calculated\n",
      "Validation accuracy score calculated\n",
      "\n",
      "k=155\n",
      "Created an instance of NN\n",
      "Fitting complete\n",
      "Training prediction complete\n",
      "Validation prediction complete\n",
      "Training accuracy score calculated\n",
      "Validation accuracy score calculated\n",
      "\n",
      "k=160\n",
      "Created an instance of NN\n",
      "Fitting complete\n",
      "Training prediction complete\n",
      "Validation prediction complete\n",
      "Training accuracy score calculated\n",
      "Validation accuracy score calculated\n",
      "\n",
      "k=165\n",
      "Created an instance of NN\n",
      "Fitting complete\n",
      "Training prediction complete\n",
      "Validation prediction complete\n",
      "Training accuracy score calculated\n",
      "Validation accuracy score calculated\n",
      "\n",
      "k=170\n",
      "Created an instance of NN\n",
      "Fitting complete\n",
      "Training prediction complete\n",
      "Validation prediction complete\n",
      "Training accuracy score calculated\n",
      "Validation accuracy score calculated\n",
      "\n",
      "k=175\n",
      "Created an instance of NN\n",
      "Fitting complete\n",
      "Training prediction complete\n",
      "Validation prediction complete\n",
      "Training accuracy score calculated\n",
      "Validation accuracy score calculated\n",
      "\n",
      "k=180\n",
      "Created an instance of NN\n",
      "Fitting complete\n",
      "Training prediction complete\n",
      "Validation prediction complete\n",
      "Training accuracy score calculated\n",
      "Validation accuracy score calculated\n",
      "\n",
      "k=185\n",
      "Created an instance of NN\n",
      "Fitting complete\n",
      "Training prediction complete\n",
      "Validation prediction complete\n",
      "Training accuracy score calculated\n",
      "Validation accuracy score calculated\n",
      "\n",
      "k=190\n",
      "Created an instance of NN\n",
      "Fitting complete\n",
      "Training prediction complete\n",
      "Validation prediction complete\n",
      "Training accuracy score calculated\n",
      "Validation accuracy score calculated\n",
      "\n",
      "k=195\n",
      "Created an instance of NN\n",
      "Fitting complete\n",
      "Training prediction complete\n",
      "Validation prediction complete\n",
      "Training accuracy score calculated\n",
      "Validation accuracy score calculated\n",
      "\n",
      "k=200\n",
      "Created an instance of NN\n",
      "Fitting complete\n",
      "Training prediction complete\n",
      "Validation prediction complete\n",
      "Training accuracy score calculated\n",
      "Validation accuracy score calculated\n",
      "\n"
     ]
    }
   ],
   "source": [
    "# List to store the accuracy scores\n",
    "pred_score_nn_train = []\n",
    "pred_score_nn_val = []\n",
    "# k-values to try out\n",
    "num_hids_range = np.arange(5, 205, 5)\n",
    "\n",
    "print(\"Entering loop\")\n",
    "# Iterate over all the k-values in the list\n",
    "for i in num_hids_range:\n",
    "    print(f'k={i}')\n",
    "\n",
    "    # Create an instance of NN with hidden_layer_sizes=(i,)\n",
    "    nn_sklearn = MLPClassifier(solver='adam', alpha=1e-5,\n",
    "                    hidden_layer_sizes=(i,), random_state=1, max_iter=1000)\n",
    "    print(\"Created an instance of NN\")\n",
    "\n",
    "    # Train the model on the training set with the encoded labels\n",
    "    nn_sklearn.fit(X_train_norm, y_train)\n",
    "    print(\"Fitting complete\")\n",
    "    \n",
    "    # Make predictions on the training set\n",
    "    y_pred_train_nn_sklearn = nn_sklearn.predict(X_train_norm)\n",
    "    print(\"Training prediction complete\")\n",
    "    \n",
    "    # Make predictions on the validation set\n",
    "    y_pred_val_nn_sklearn = nn_sklearn.predict(X_val_norm)\n",
    "    print(\"Validation prediction complete\")\n",
    "\n",
    "    # Append the accuracy scores to the list\n",
    "    pred_score_nn_train.append(accuracy_score(y_train, y_pred_train_nn_sklearn))\n",
    "    print(\"Training accuracy score calculated\")\n",
    "    pred_score_nn_val.append(accuracy_score(y_val, y_pred_val_nn_sklearn))\n",
    "    print(\"Validation accuracy score calculated\")\n",
    "\n",
    "    print()"
   ]
  },
  {
   "cell_type": "code",
   "execution_count": 156,
   "id": "84da3c1a",
   "metadata": {},
   "outputs": [],
   "source": [
    "# Save the accuracy scores\n",
    "# pickle.dump(pred_score_nn_train, open('pred_score_nn_train.sav', 'wb'))\n",
    "# pickle.dump(pred_score_nn_val, open('pred_score_nn_val.sav', 'wb'))"
   ]
  },
  {
   "cell_type": "code",
   "execution_count": 158,
   "id": "b8b4f8b9",
   "metadata": {
    "scrolled": false
   },
   "outputs": [
    {
     "data": {
      "image/png": "[encoded data removed]",
      "text/plain": [
       "<Figure size 432x288 with 1 Axes>"
      ]
     },
     "metadata": {
      "needs_background": "light"
     },
     "output_type": "display_data"
    }
   ],
   "source": [
    "# Range of k-values for plotting purposes\n",
    "num_hids_range = np.arange(5, 205, 5)\n",
    "# Load the pre-computed pred_score\n",
    "pred_score_nn_train = pickle.load(open('pred_score_nn_train.sav', 'rb'))\n",
    "pred_score_nn_val = pickle.load(open('pred_score_nn_val.sav', 'rb'))\n",
    "# Convert the list to an array and multiply with 100 to get percentages\n",
    "pred_score_nn_train = np.array(pred_score_nn_train) * 100\n",
    "pred_score_nn_val = np.array(pred_score_nn_val) * 100\n",
    "# Plot the results\n",
    "plt.plot(num_hids_range, pred_score_nn_train, label='Training accuracy')\n",
    "plt.plot(num_hids_range, pred_score_nn_val, label='Validation accuracy')\n",
    "plt.xlabel(\"Number of hidden units\")\n",
    "plt.ylabel(\"Accuracy\")\n",
    "plt.legend()\n",
    "plt.grid()\n",
    "plt.show()"
   ]
  },
  {
   "cell_type": "code",
   "execution_count": 163,
   "id": "76b9a12b",
   "metadata": {},
   "outputs": [
    {
     "data": {
      "text/plain": [
       "array([92.77201332, 92.89844919, 92.98757612, 93.04685589, 93.16831724,\n",
       "       93.09991751, 93.14634642, 93.24749512, 93.2047971 , 93.32791663,\n",
       "       93.36812738, 93.27775682, 93.51238864, 93.46595973, 93.31174942,\n",
       "       93.66784259, 93.44937798, 93.56379208, 93.64421359, 93.57581385,\n",
       "       93.65333355, 93.63343545, 93.82412562, 93.73872959, 93.5998574 ,\n",
       "       93.85355824, 93.77894034, 93.83863466, 93.85687459, 93.81749292,\n",
       "       93.84153647, 93.86599455, 93.80049662, 93.81749292, 93.84236555,\n",
       "       93.85314369, 93.78225669, 93.8900381 , 93.8929399 , 93.85521641])"
      ]
     },
     "execution_count": 163,
     "metadata": {},
     "output_type": "execute_result"
    }
   ],
   "source": [
    "pred_score_nn_train"
   ]
  },
  {
   "cell_type": "markdown",
   "id": "cb1de2bb",
   "metadata": {},
   "source": [
    "### Measuring NN performance\n"
   ]
  },
  {
   "cell_type": "code",
   "execution_count": null,
   "id": "041a971b",
   "metadata": {},
   "outputs": [],
   "source": [
    "nn_sklearn = pickle.load(open('nn_sklearn.sav', 'rb'))\n",
    "y_pred_train_nn_sklearn = pickle.load(open('y_pred_train_nn_sklearn.sav', 'rb'))\n",
    "y_pred_val_nn_sklearn = pickle.load(open('y_pred_val_nn_sklearn.sav', 'rb'))\n",
    "y_pred_test_nn_sklearn = pickle.load(open('y_pred_test_nn_sklearn.sav', 'rb'))"
   ]
  },
  {
   "cell_type": "code",
   "execution_count": 168,
   "id": "c78357e8",
   "metadata": {},
   "outputs": [],
   "source": [
    "nn_sklearn = MLPClassifier(solver='adam', alpha=1e-5,\n",
    "                    hidden_layer_sizes=(20,), random_state=1, max_iter=1000)"
   ]
  },
  {
   "cell_type": "code",
   "execution_count": 169,
   "id": "cbadad99",
   "metadata": {},
   "outputs": [
    {
     "data": {
      "text/plain": [
       "MLPClassifier(alpha=1e-05, hidden_layer_sizes=(20,), max_iter=1000,\n",
       "              random_state=1)"
      ]
     },
     "execution_count": 169,
     "metadata": {},
     "output_type": "execute_result"
    }
   ],
   "source": [
    "nn_sklearn.fit(X_train_norm, y_train)"
   ]
  },
  {
   "cell_type": "code",
   "execution_count": 170,
   "id": "32e60f6c",
   "metadata": {},
   "outputs": [
    {
     "name": "stdout",
     "output_type": "stream",
     "text": [
      "Training prediction complete\n",
      "Validation prediction complete\n",
      "Test prediction complete\n"
     ]
    }
   ],
   "source": [
    "y_pred_train_nn_sklearn = nn_sklearn.predict(X_train_norm)\n",
    "print(\"Training prediction complete\")\n",
    "y_pred_val_nn_sklearn = nn_sklearn.predict(X_val_norm)\n",
    "print(\"Validation prediction complete\")\n",
    "y_pred_test_nn_sklearn = nn_sklearn.predict(X_test_norm)\n",
    "print(\"Test prediction complete\")"
   ]
  },
  {
   "cell_type": "code",
   "execution_count": 171,
   "id": "c746b520",
   "metadata": {},
   "outputs": [],
   "source": [
    "# Save the classifier to disk\n",
    "# pickle.dump(nn_sklearn, open('nn_sklearn.sav', 'wb'))\n",
    "# pickle.dump(y_pred_train_nn_sklearn, open('y_pred_train_nn_sklearn.sav', 'wb'))\n",
    "# pickle.dump(y_pred_val_nn_sklearn, open('y_pred_val_nn_sklearn.sav', 'wb'))\n",
    "# pickle.dump(y_pred_test_nn_sklearn, open('y_pred_test_nn_sklearn.sav', 'wb'))"
   ]
  },
  {
   "cell_type": "markdown",
   "id": "78f2ac4d",
   "metadata": {},
   "source": [
    "WITH EPOCHS VISUALIZATION"
   ]
  },
  {
   "cell_type": "code",
   "execution_count": 42,
   "id": "38b7c49b",
   "metadata": {},
   "outputs": [],
   "source": [
    "#input shape = 121 because X has 121 columns\n",
    "\n",
    "model = tf.keras.Sequential([\n",
    "    tf.keras.layers.Dense(7, input_shape=(15,), activation='relu'), \n",
    "    tf.keras.layers.Dense(1, activation='sigmoid')\n",
    "])"
   ]
  },
  {
   "cell_type": "code",
   "execution_count": 43,
   "id": "d3e66952",
   "metadata": {},
   "outputs": [
    {
     "name": "stdout",
     "output_type": "stream",
     "text": [
      "Model: \"sequential_1\"\n",
      "_________________________________________________________________\n",
      "Layer (type)                 Output Shape              Param #   \n",
      "=================================================================\n",
      "dense_2 (Dense)              (None, 1)                 16        \n",
      "_________________________________________________________________\n",
      "dense_3 (Dense)              (None, 1)                 2         \n",
      "=================================================================\n",
      "Total params: 18\n",
      "Trainable params: 18\n",
      "Non-trainable params: 0\n",
      "_________________________________________________________________\n",
      "('You must install pydot (`pip install pydot`) and install graphviz (see instructions at https://graphviz.gitlab.io/download/) ', 'for plot_model/model_to_dot to work.')\n",
      "Model: \"sequential_2\"\n",
      "_________________________________________________________________\n",
      "Layer (type)                 Output Shape              Param #   \n",
      "=================================================================\n",
      "dense_4 (Dense)              (None, 2)                 32        \n",
      "_________________________________________________________________\n",
      "dense_5 (Dense)              (None, 1)                 3         \n",
      "=================================================================\n",
      "Total params: 35\n",
      "Trainable params: 35\n",
      "Non-trainable params: 0\n",
      "_________________________________________________________________\n",
      "('You must install pydot (`pip install pydot`) and install graphviz (see instructions at https://graphviz.gitlab.io/download/) ', 'for plot_model/model_to_dot to work.')\n",
      "Model: \"sequential_3\"\n",
      "_________________________________________________________________\n",
      "Layer (type)                 Output Shape              Param #   \n",
      "=================================================================\n",
      "dense_6 (Dense)              (None, 3)                 48        \n",
      "_________________________________________________________________\n",
      "dense_7 (Dense)              (None, 1)                 4         \n",
      "=================================================================\n",
      "Total params: 52\n",
      "Trainable params: 52\n",
      "Non-trainable params: 0\n",
      "_________________________________________________________________\n",
      "('You must install pydot (`pip install pydot`) and install graphviz (see instructions at https://graphviz.gitlab.io/download/) ', 'for plot_model/model_to_dot to work.')\n",
      "Model: \"sequential_4\"\n",
      "_________________________________________________________________\n",
      "Layer (type)                 Output Shape              Param #   \n",
      "=================================================================\n",
      "dense_8 (Dense)              (None, 4)                 64        \n",
      "_________________________________________________________________\n",
      "dense_9 (Dense)              (None, 1)                 5         \n",
      "=================================================================\n",
      "Total params: 69\n",
      "Trainable params: 69\n",
      "Non-trainable params: 0\n",
      "_________________________________________________________________\n",
      "('You must install pydot (`pip install pydot`) and install graphviz (see instructions at https://graphviz.gitlab.io/download/) ', 'for plot_model/model_to_dot to work.')\n",
      "Model: \"sequential_5\"\n",
      "_________________________________________________________________\n",
      "Layer (type)                 Output Shape              Param #   \n",
      "=================================================================\n",
      "dense_10 (Dense)             (None, 5)                 80        \n",
      "_________________________________________________________________\n",
      "dense_11 (Dense)             (None, 1)                 6         \n",
      "=================================================================\n",
      "Total params: 86\n",
      "Trainable params: 86\n",
      "Non-trainable params: 0\n",
      "_________________________________________________________________\n",
      "('You must install pydot (`pip install pydot`) and install graphviz (see instructions at https://graphviz.gitlab.io/download/) ', 'for plot_model/model_to_dot to work.')\n",
      "Model: \"sequential_6\"\n",
      "_________________________________________________________________\n",
      "Layer (type)                 Output Shape              Param #   \n",
      "=================================================================\n",
      "dense_12 (Dense)             (None, 6)                 96        \n",
      "_________________________________________________________________\n",
      "dense_13 (Dense)             (None, 1)                 7         \n",
      "=================================================================\n",
      "Total params: 103\n",
      "Trainable params: 103\n",
      "Non-trainable params: 0\n",
      "_________________________________________________________________\n",
      "('You must install pydot (`pip install pydot`) and install graphviz (see instructions at https://graphviz.gitlab.io/download/) ', 'for plot_model/model_to_dot to work.')\n",
      "Model: \"sequential_7\"\n",
      "_________________________________________________________________\n",
      "Layer (type)                 Output Shape              Param #   \n",
      "=================================================================\n",
      "dense_14 (Dense)             (None, 7)                 112       \n",
      "_________________________________________________________________\n",
      "dense_15 (Dense)             (None, 1)                 8         \n",
      "=================================================================\n",
      "Total params: 120\n",
      "Trainable params: 120\n",
      "Non-trainable params: 0\n",
      "_________________________________________________________________\n",
      "('You must install pydot (`pip install pydot`) and install graphviz (see instructions at https://graphviz.gitlab.io/download/) ', 'for plot_model/model_to_dot to work.')\n",
      "Model: \"sequential_8\"\n",
      "_________________________________________________________________\n",
      "Layer (type)                 Output Shape              Param #   \n",
      "=================================================================\n",
      "dense_16 (Dense)             (None, 8)                 128       \n",
      "_________________________________________________________________\n",
      "dense_17 (Dense)             (None, 1)                 9         \n",
      "=================================================================\n",
      "Total params: 137\n",
      "Trainable params: 137\n",
      "Non-trainable params: 0\n",
      "_________________________________________________________________\n",
      "('You must install pydot (`pip install pydot`) and install graphviz (see instructions at https://graphviz.gitlab.io/download/) ', 'for plot_model/model_to_dot to work.')\n",
      "Model: \"sequential_9\"\n",
      "_________________________________________________________________\n",
      "Layer (type)                 Output Shape              Param #   \n",
      "=================================================================\n",
      "dense_18 (Dense)             (None, 9)                 144       \n",
      "_________________________________________________________________\n",
      "dense_19 (Dense)             (None, 1)                 10        \n",
      "=================================================================\n",
      "Total params: 154\n",
      "Trainable params: 154\n",
      "Non-trainable params: 0\n",
      "_________________________________________________________________\n",
      "('You must install pydot (`pip install pydot`) and install graphviz (see instructions at https://graphviz.gitlab.io/download/) ', 'for plot_model/model_to_dot to work.')\n",
      "Model: \"sequential_10\"\n",
      "_________________________________________________________________\n",
      "Layer (type)                 Output Shape              Param #   \n",
      "=================================================================\n",
      "dense_20 (Dense)             (None, 10)                160       \n",
      "_________________________________________________________________\n",
      "dense_21 (Dense)             (None, 1)                 11        \n",
      "=================================================================\n",
      "Total params: 171\n",
      "Trainable params: 171\n",
      "Non-trainable params: 0\n",
      "_________________________________________________________________\n",
      "('You must install pydot (`pip install pydot`) and install graphviz (see instructions at https://graphviz.gitlab.io/download/) ', 'for plot_model/model_to_dot to work.')\n",
      "Model: \"sequential_11\"\n",
      "_________________________________________________________________\n",
      "Layer (type)                 Output Shape              Param #   \n",
      "=================================================================\n",
      "dense_22 (Dense)             (None, 11)                176       \n",
      "_________________________________________________________________\n",
      "dense_23 (Dense)             (None, 1)                 12        \n",
      "=================================================================\n",
      "Total params: 188\n",
      "Trainable params: 188\n",
      "Non-trainable params: 0\n",
      "_________________________________________________________________\n",
      "('You must install pydot (`pip install pydot`) and install graphviz (see instructions at https://graphviz.gitlab.io/download/) ', 'for plot_model/model_to_dot to work.')\n",
      "Model: \"sequential_12\"\n",
      "_________________________________________________________________\n",
      "Layer (type)                 Output Shape              Param #   \n",
      "=================================================================\n",
      "dense_24 (Dense)             (None, 12)                192       \n",
      "_________________________________________________________________\n",
      "dense_25 (Dense)             (None, 1)                 13        \n",
      "=================================================================\n",
      "Total params: 205\n",
      "Trainable params: 205\n",
      "Non-trainable params: 0\n",
      "_________________________________________________________________\n",
      "('You must install pydot (`pip install pydot`) and install graphviz (see instructions at https://graphviz.gitlab.io/download/) ', 'for plot_model/model_to_dot to work.')\n",
      "Model: \"sequential_13\"\n",
      "_________________________________________________________________\n",
      "Layer (type)                 Output Shape              Param #   \n",
      "=================================================================\n",
      "dense_26 (Dense)             (None, 13)                208       \n",
      "_________________________________________________________________\n",
      "dense_27 (Dense)             (None, 1)                 14        \n",
      "=================================================================\n",
      "Total params: 222\n",
      "Trainable params: 222\n",
      "Non-trainable params: 0\n",
      "_________________________________________________________________\n",
      "('You must install pydot (`pip install pydot`) and install graphviz (see instructions at https://graphviz.gitlab.io/download/) ', 'for plot_model/model_to_dot to work.')\n",
      "Model: \"sequential_14\"\n",
      "_________________________________________________________________\n",
      "Layer (type)                 Output Shape              Param #   \n",
      "=================================================================\n",
      "dense_28 (Dense)             (None, 14)                224       \n",
      "_________________________________________________________________\n",
      "dense_29 (Dense)             (None, 1)                 15        \n",
      "=================================================================\n",
      "Total params: 239\n",
      "Trainable params: 239\n",
      "Non-trainable params: 0\n",
      "_________________________________________________________________\n",
      "('You must install pydot (`pip install pydot`) and install graphviz (see instructions at https://graphviz.gitlab.io/download/) ', 'for plot_model/model_to_dot to work.')\n"
     ]
    }
   ],
   "source": [
    "hiddens_range = range(1,15)\n",
    "\n",
    "for num_hiddens in hiddens_range:\n",
    "    model = tf.keras.Sequential([\n",
    "        tf.keras.layers.Dense(num_hiddens, input_shape=(15,), activation='relu'), \n",
    "        tf.keras.layers.Dense(1, activation='sigmoid')\n",
    "    ])\n",
    "    model.compile(optimizer='nadam',\n",
    "              loss=tf.keras.losses.BinaryCrossentropy(),\n",
    "              metrics=['accuracy'])\n",
    "    model.summary()\n",
    "    tf.keras.utils.plot_model(model, show_shapes=True, show_layer_names=True)"
   ]
  },
  {
   "cell_type": "markdown",
   "id": "f72c0342",
   "metadata": {},
   "source": [
    "Compile the model by choosing an optimizer, a loss and a metric for evaluation."
   ]
  },
  {
   "cell_type": "code",
   "execution_count": null,
   "id": "03de6c13",
   "metadata": {},
   "outputs": [],
   "source": []
  },
  {
   "cell_type": "markdown",
   "id": "f64baba1",
   "metadata": {},
   "source": [
    "Now, train the model for 10 epochs and evaluate it simultaneously."
   ]
  },
  {
   "cell_type": "code",
   "execution_count": 44,
   "id": "a94e6ae7",
   "metadata": {
    "scrolled": false
   },
   "outputs": [
    {
     "name": "stdout",
     "output_type": "stream",
     "text": [
      "Epoch 1/10\n",
      "5277/5277 [==============================] - 21s 4ms/step - loss: 0.2353 - accuracy: 0.9102 - val_loss: 0.1929 - val_accuracy: 0.9272\n",
      "Epoch 2/10\n",
      "5277/5277 [==============================] - 20s 4ms/step - loss: 0.1928 - accuracy: 0.9271 - val_loss: 0.1907 - val_accuracy: 0.9269\n",
      "Epoch 3/10\n",
      "5277/5277 [==============================] - 19s 4ms/step - loss: 0.1910 - accuracy: 0.9270 - val_loss: 0.1888 - val_accuracy: 0.9281\n",
      "Epoch 4/10\n",
      "5277/5277 [==============================] - 20s 4ms/step - loss: 0.1895 - accuracy: 0.9276 - val_loss: 0.1881 - val_accuracy: 0.9282\n",
      "Epoch 5/10\n",
      "5277/5277 [==============================] - 13s 2ms/step - loss: 0.1884 - accuracy: 0.9279 - val_loss: 0.1868 - val_accuracy: 0.9284\n",
      "Epoch 6/10\n",
      "5277/5277 [==============================] - 16s 3ms/step - loss: 0.1877 - accuracy: 0.9280 - val_loss: 0.1860 - val_accuracy: 0.9283\n",
      "Epoch 7/10\n",
      "5277/5277 [==============================] - 20s 4ms/step - loss: 0.1870 - accuracy: 0.9281 - val_loss: 0.1852 - val_accuracy: 0.9286\n",
      "Epoch 8/10\n",
      "5277/5277 [==============================] - 20s 4ms/step - loss: 0.1864 - accuracy: 0.9283 - val_loss: 0.1862 - val_accuracy: 0.9277\n",
      "Epoch 9/10\n",
      "5277/5277 [==============================] - 21s 4ms/step - loss: 0.1858 - accuracy: 0.9281 - val_loss: 0.1850 - val_accuracy: 0.9283\n",
      "Epoch 10/10\n",
      "5277/5277 [==============================] - 21s 4ms/step - loss: 0.1855 - accuracy: 0.9285 - val_loss: 0.1849 - val_accuracy: 0.9283\n"
     ]
    }
   ],
   "source": [
    "history = model.fit(X_train_norm, y_train, epochs=10, validation_split=0.3)"
   ]
  },
  {
   "cell_type": "code",
   "execution_count": 45,
   "id": "474efd8f",
   "metadata": {},
   "outputs": [
    {
     "name": "stdout",
     "output_type": "stream",
     "text": [
      "2513/2513 [==============================] - 6s 2ms/step - loss: 0.1906 - accuracy: 0.9256\n"
     ]
    },
    {
     "data": {
      "text/plain": [
       "[0.19057807326316833, 0.9256435632705688]"
      ]
     },
     "execution_count": 45,
     "metadata": {},
     "output_type": "execute_result"
    }
   ],
   "source": [
    "model.evaluate(X_val_norm,  y_val)"
   ]
  },
  {
   "cell_type": "markdown",
   "id": "c7bb481d",
   "metadata": {},
   "source": [
    "Prediction and Confusion Matrices for Training, Validation and Test Set "
   ]
  },
  {
   "cell_type": "code",
   "execution_count": 46,
   "id": "4435e1c3",
   "metadata": {},
   "outputs": [],
   "source": [
    "y_pred_train_nn_tf = model.predict(X_train_norm)>=0.5\n",
    "y_pred_val_nn_tf = model.predict(X_val_norm)>=0.5\n",
    "y_pred_test_nn_tf = model.predict(X_test_norm)>=0.5\n",
    "\n",
    "cm_train_nn_tf = confusion_matrix(y_train, y_pred_train_nn_tf)\n",
    "cm_val_nn_tf = confusion_matrix(y_val, y_pred_val_nn_tf)\n",
    "cm_test_nn_tf = confusion_matrix(y_test, y_pred_test_nn_tf)"
   ]
  },
  {
   "cell_type": "markdown",
   "id": "45d11cd7",
   "metadata": {},
   "source": [
    "Metrics for accuracy of the model and plotting the confusion matrices for training, validation and test set"
   ]
  },
  {
   "cell_type": "code",
   "execution_count": 47,
   "id": "e771d5fb",
   "metadata": {},
   "outputs": [
    {
     "name": "stdout",
     "output_type": "stream",
     "text": [
      "Accuracy on training set: 0.928520\n",
      "Accuracy on validation set: 0.925644\n",
      "Accuracy on test set: 0.927347\n"
     ]
    },
    {
     "data": {
      "text/plain": [
       "<Figure size 432x288 with 0 Axes>"
      ]
     },
     "metadata": {},
     "output_type": "display_data"
    },
    {
     "data": {
      "image/png": "[encoded data removed]",
      "text/plain": [
       "<Figure size 1224x720 with 6 Axes>"
      ]
     },
     "metadata": {
      "needs_background": "light"
     },
     "output_type": "display_data"
    }
   ],
   "source": [
    "print(\"Accuracy on training set: %f\" %accuracy_score(y_train, y_pred_train_nn_tf))\n",
    "print(\"Accuracy on validation set: %f\" %accuracy_score(y_val, y_pred_val_nn_tf))\n",
    "print(\"Accuracy on test set: %f\" %accuracy_score(y_test, y_pred_test_nn_tf))\n",
    "plt.figure()\n",
    "fig, (ax1, ax2, ax3) = plt.subplots(1, 3, figsize=(17,10))\n",
    "fig.suptitle('Neural Network Tensorflow')\n",
    "disp = ConfusionMatrixDisplay(confusion_matrix=cm_train_nn_tf, display_labels=le.classes_)\n",
    "disp.plot(ax=ax1)\n",
    "ax1.set_title(\"Confusion matrix for training set\")\n",
    "disp = ConfusionMatrixDisplay(confusion_matrix=cm_val_nn_tf, display_labels=le.classes_)\n",
    "disp.plot(ax=ax2)\n",
    "ax2.set_title(\"Confusion matrix for validation set\")\n",
    "disp = ConfusionMatrixDisplay(confusion_matrix=cm_test_nn_tf, display_labels=le.classes_)\n",
    "disp.plot(ax=ax3)\n",
    "ax3.set_title(\"Confusion matrix for test set\")\n",
    "\n",
    "plt.grid(False)\n",
    "\n",
    "plt.show()"
   ]
  },
  {
   "cell_type": "markdown",
   "id": "cfabdb11",
   "metadata": {},
   "source": [
    "Plotting the accuracys over the epochs."
   ]
  },
  {
   "cell_type": "code",
   "execution_count": 48,
   "id": "34a91db3",
   "metadata": {},
   "outputs": [
    {
     "data": {
      "image/png": "[encoded data removed]",
      "text/plain": [
       "<Figure size 432x288 with 1 Axes>"
      ]
     },
     "metadata": {
      "needs_background": "light"
     },
     "output_type": "display_data"
    }
   ],
   "source": [
    "plt.plot(history.history['accuracy'])\n",
    "plt.plot(history.history['val_accuracy'])\n",
    "plt.title('Model accuracy')\n",
    "plt.ylabel('accuracy')\n",
    "plt.xlabel('epoch')\n",
    "plt.legend(['Training', 'Validation'], loc='upper left')\n",
    "plt.show()"
   ]
  },
  {
   "cell_type": "code",
   "execution_count": 49,
   "id": "91b1311a",
   "metadata": {},
   "outputs": [
    {
     "data": {
      "image/png": "[encoded data removed]",
      "text/plain": [
       "<Figure size 432x288 with 1 Axes>"
      ]
     },
     "metadata": {
      "needs_background": "light"
     },
     "output_type": "display_data"
    }
   ],
   "source": [
    "plt.plot(history.history['loss'])\n",
    "plt.plot(history.history['val_loss'])\n",
    "plt.title('Model loss')\n",
    "plt.ylabel('loss')\n",
    "plt.xlabel('epoch')\n",
    "plt.legend(['Training', 'Validation'], loc='upper left')\n",
    "plt.show()"
   ]
  },
  {
   "cell_type": "code",
   "execution_count": null,
   "id": "92fed4c3",
   "metadata": {},
   "outputs": [],
   "source": [
    "train_sizes_knn, train_scores_knn, test_scores_knn, fit_times_knn, _ = \\\n",
    "    learning_curve(knn_sklearn, X_train_norm, y_train, n_jobs=-1,\n",
    "                   return_times=True)"
   ]
  },
  {
   "cell_type": "code",
   "execution_count": null,
   "id": "781a023e",
   "metadata": {},
   "outputs": [],
   "source": [
    "pickle.dump(train_sizes_knn, open('train_sizes_knn.sav', 'wb'))\n",
    "pickle.dump(train_scores_knn, open('train_scores_knn.sav', 'wb'))\n",
    "pickle.dump(test_scores_knn, open('test_scores_knn.sav', 'wb'))\n",
    "pickle.dump(fit_times_knn, open('fit_times_knn.sav', 'wb'))"
   ]
  },
  {
   "cell_type": "code",
   "execution_count": null,
   "id": "85a55478",
   "metadata": {},
   "outputs": [],
   "source": [
    "train_sizes_knn = pickle.load(open('train_sizes_knn.sav', 'rb'))\n",
    "train_scores_knn = pickle.load(open('train_scores_knn.sav', 'rb'))\n",
    "test_scores_knn = pickle.load(open('test_scores_knn.sav', 'rb'))\n",
    "fit_times_knn = pickle.load(open('fit_times_knn.sav', 'rb'))"
   ]
  },
  {
   "cell_type": "code",
   "execution_count": null,
   "id": "a6a391c5",
   "metadata": {},
   "outputs": [],
   "source": [
    "train_scores_mean_knn = np.mean(train_scores_knn, axis=1)\n",
    "train_scores_std_knn = np.std(train_scores_knn, axis=1)\n",
    "test_scores_mean_knn = np.mean(test_scores_knn, axis=1)\n",
    "test_scores_std_knn = np.std(test_scores_knn, axis=1)\n",
    "fit_times_mean_knn = np.mean(fit_times_knn, axis=1)\n",
    "fit_times_std_knn = np.std(fit_times_knn, axis=1)\n",
    "\n",
    "# Plot learning curve\n",
    "fig = plt.figure(figsize=(7,5))\n",
    "ax = fig.add_axes([0,0,1,1])\n",
    "\n",
    "plt.xlabel(\"Training examples\")\n",
    "plt.ylabel(\"Score\")\n",
    "plt.grid()\n",
    "plt.xlim()\n",
    "plt.fill_between(train_sizes_knn, train_scores_mean_knn - train_scores_std_knn,\n",
    "                     train_scores_mean_knn + train_scores_std_knn, alpha=0.1,\n",
    "                     color=\"r\")\n",
    "plt.fill_between(train_sizes_knn, test_scores_mean_knn - test_scores_std_knn,\n",
    "                     test_scores_mean_knn + test_scores_std_knn, alpha=0.1,\n",
    "                     color=\"g\")\n",
    "plt.plot(train_sizes_knn, train_scores_mean_knn, 'o-', color=\"r\",\n",
    "             label=\"Training score\")\n",
    "plt.plot(train_sizes_knn, test_scores_mean_knn, 'o-', color=\"g\",\n",
    "             label=\"Cross-validation score\")\n",
    "plt.legend(loc=\"best\")\n",
    "plt.show()"
   ]
  },
  {
   "cell_type": "code",
   "execution_count": null,
   "id": "6b9ab526",
   "metadata": {
    "scrolled": true
   },
   "outputs": [],
   "source": [
    "train_sizes_nn, train_scores_nn, test_scores_nn, fit_times_nn, _ = \\\n",
    "    learning_curve(nn_sklearn, X_train_norm, y_train, n_jobs=-1,\n",
    "                   return_times=True)"
   ]
  },
  {
   "cell_type": "code",
   "execution_count": null,
   "id": "27b47a2f",
   "metadata": {},
   "outputs": [],
   "source": [
    "pickle.dump(train_sizes_nn, open('train_sizes_nn.sav', 'wb'))\n",
    "pickle.dump(train_scores_nn, open('train_scores_nn.sav', 'wb'))\n",
    "pickle.dump(test_scores_nn, open('test_scores_nn.sav', 'wb'))\n",
    "pickle.dump(fit_times_nn, open('fit_times_nn.sav', 'wb'))"
   ]
  },
  {
   "cell_type": "code",
   "execution_count": null,
   "id": "475ca61b",
   "metadata": {},
   "outputs": [],
   "source": [
    "train_scores_mean = np.mean(train_scores, axis=1)\n",
    "train_scores_std = np.std(train_scores, axis=1)\n",
    "test_scores_mean = np.mean(test_scores, axis=1)\n",
    "test_scores_std = np.std(test_scores, axis=1)\n",
    "fit_times_mean = np.mean(fit_times, axis=1)\n",
    "fit_times_std = np.std(fit_times, axis=1)\n",
    "\n",
    "# Plot learning curve\n",
    "fig = plt.figure(figsize=(7,5))\n",
    "ax = fig.add_axes([0,0,1,1])\n",
    "\n",
    "plt.xlabel(\"Training examples\")\n",
    "plt.ylabel(\"Score\")\n",
    "plt.grid()\n",
    "plt.xlim()\n",
    "plt.fill_between(train_sizes, train_scores_mean - train_scores_std,\n",
    "                     train_scores_mean + train_scores_std, alpha=0.1,\n",
    "                     color=\"r\")\n",
    "plt.fill_between(train_sizes, test_scores_mean - test_scores_std,\n",
    "                     test_scores_mean + test_scores_std, alpha=0.1,\n",
    "                     color=\"g\")\n",
    "plt.plot(train_sizes, train_scores_mean, 'o-', color=\"r\",\n",
    "             label=\"Training score\")\n",
    "plt.plot(train_sizes, test_scores_mean, 'o-', color=\"g\",\n",
    "             label=\"Cross-validation score\")\n",
    "plt.legend(loc=\"best\")\n",
    "plt.show()"
   ]
  },
  {
   "cell_type": "markdown",
   "id": "94af535f",
   "metadata": {},
   "source": [
    "### Independence, Seperation and Sufficiency"
   ]
  },
  {
   "cell_type": "code",
   "execution_count": null,
   "id": "8acc8804",
   "metadata": {},
   "outputs": [],
   "source": [
    "def independence(tn, fp, fn, tp):\n",
    "    # change the calculation of output\n",
    "    output = (tp + fp) / (tn + fp + fn + tp)\n",
    "    return output"
   ]
  },
  {
   "cell_type": "code",
   "execution_count": null,
   "id": "393301d3",
   "metadata": {},
   "outputs": [],
   "source": [
    "def separation(tn, fp, fn, tp):\n",
    "    # change the calculation of the seperation for the two conditions Y_1 and Y_0\n",
    "    Y_1 = tp / (tp + fp)\n",
    "    Y_0 = tn / (tn + fn)\n",
    "    return Y_1, Y_0"
   ]
  },
  {
   "cell_type": "code",
   "execution_count": null,
   "id": "6d61151f",
   "metadata": {},
   "outputs": [],
   "source": [
    "def sufficiency(tn, fp, fn, tp):\n",
    "    # change the calculation of the seperation for the two conditions R_1 and R_0\n",
    "    R_1 = tp / (tp + fn)\n",
    "    R_0 = fp / (fp + tn)\n",
    "    return R_1, R_0"
   ]
  },
  {
   "cell_type": "markdown",
   "id": "7ea99860",
   "metadata": {},
   "source": [
    "#### Race groups\n"
   ]
  },
  {
   "cell_type": "markdown",
   "id": "46d58175",
   "metadata": {},
   "source": [
    "using the knn classifier"
   ]
  },
  {
   "cell_type": "code",
   "execution_count": null,
   "id": "42f8c4c2",
   "metadata": {},
   "outputs": [],
   "source": [
    "group_asian = X_test['driver_race_Asian'] == 1\n",
    "group_black = X_test['driver_race_Black'] == 1\n",
    "group_white = X_test['driver_race_White'] == 1\n",
    "group_hispanic = X_test['driver_race_Hispanic'] == 1\n",
    "group_other = X_test['driver_race_Other'] == 1\n",
    "\n",
    "y_pred_asian = y_pred[group_asian]\n",
    "y_test_asian = y_test[group_asian]\n",
    "X_test_asian = X_test[group_asian]\n",
    "\n",
    "y_pred_black = y_pred[group_black]\n",
    "y_test_black = y_test[group_black]\n",
    "X_test_black = X_test[group_black]\n",
    "\n",
    "y_pred_white = y_pred[group_white]\n",
    "y_test_white = y_test[group_white]\n",
    "X_test_white = X_test[group_white]\n",
    "\n",
    "y_pred_hispanic = y_pred[group_hispanic]\n",
    "y_test_hispanic = y_test[group_hispanic]\n",
    "X_test_hispanic = X_test[group_hispanic]\n",
    "\n",
    "y_pred_other = y_pred[group_other]\n",
    "y_test_other = y_test[group_other]\n",
    "X_test_other = X_test[group_other]"
   ]
  },
  {
   "cell_type": "code",
   "execution_count": null,
   "id": "ec5807e1",
   "metadata": {},
   "outputs": [],
   "source": [
    "cm_asian = confusion_matrix(y_test_asian, y_pred_asian)\n",
    "cm_black = confusion_matrix(y_test_black, y_pred_black)\n",
    "cm_white = confusion_matrix(y_test_white, y_pred_white)\n",
    "cm_hispanic = confusion_matrix(y_test_hispanic, y_pred_hispanic)\n",
    "cm_other = confusion_matrix(y_test_other, y_pred_other)"
   ]
  },
  {
   "cell_type": "code",
   "execution_count": null,
   "id": "c62bda51",
   "metadata": {},
   "outputs": [],
   "source": [
    "fig, ((ax1, ax2), (ax3, ax4), (ax5, ax6)) = plt.subplots(3,2, figsize = (14,17))\n",
    "ax6.axis('off')\n",
    "fig.suptitle('Confusion Matrices for different Race Groups')\n",
    "\n",
    "plot_confusion_matrix(knn, X_test_asian, y_test_asian, display_labels=le.classes_, ax=ax1)\n",
    "ax1.set_title('Race Group: Asian')\n",
    "plot_confusion_matrix(knn, X_test_black, y_test_black, display_labels=le.classes_, ax=ax2)\n",
    "ax2.set_title('Race Group: Black')\n",
    "plot_confusion_matrix(knn, X_test_white, y_test_white, display_labels=le.classes_, ax=ax3)\n",
    "ax3.set_title('Race Group: White')\n",
    "plot_confusion_matrix(knn, X_test_hispanic, y_test_hispanic, display_labels=le.classes_, ax=ax4)\n",
    "ax4.set_title('Race Group: Hispanic')\n",
    "plot_confusion_matrix(knn, X_test_other, y_test_other, display_labels=le.classes_, ax=ax5)\n",
    "ax5.set_title('Race Group: Other')"
   ]
  },
  {
   "cell_type": "code",
   "execution_count": null,
   "id": "f8a7a518",
   "metadata": {},
   "outputs": [],
   "source": [
    "tn_asian, fp_asian, fn_asian, tp_asian = confusion_matrix(y_test_asian, y_pred_asian).ravel()\n",
    "tn_black, fp_black, fn_black, tp_black = confusion_matrix(y_test_black, y_pred_black).ravel()\n",
    "tn_white, fp_white, fn_white, tp_white = confusion_matrix(y_test_white, y_pred_white).ravel()\n",
    "tn_hispanic, fp_hispanic, fn_hispanic, tp_hispanic = confusion_matrix(y_test_hispanic, y_pred_hispanic).ravel()\n",
    "tn_other, fp_other, fn_other, tp_other = confusion_matrix(y_test_other, y_pred_other).ravel()"
   ]
  },
  {
   "cell_type": "code",
   "execution_count": null,
   "id": "15f5d8a6",
   "metadata": {},
   "outputs": [],
   "source": [
    "ind_asian = independence(tn_asian, fp_asian, fn_asian, tp_asian)\n",
    "ind_black = independence(tn_black, fp_black, fn_black, tp_black)\n",
    "ind_white = independence(tn_white, fp_white, fn_white, tp_white)\n",
    "ind_hispanic = independence(tn_hispanic, fp_hispanic, fn_hispanic, tp_hispanic)\n",
    "ind_other = independence(tn_other, fp_other, fn_other, tp_other)"
   ]
  },
  {
   "cell_type": "code",
   "execution_count": null,
   "id": "01409845",
   "metadata": {},
   "outputs": [],
   "source": [
    "print(ind_asian, ind_black, ind_white, ind_hispanic, ind_other)\n",
    "#hispanics are less likely to be classified as not-arrested than white people."
   ]
  },
  {
   "cell_type": "code",
   "execution_count": null,
   "id": "f3fc7547",
   "metadata": {},
   "outputs": [],
   "source": [
    "diff_asian_white_ind = abs(ind_asian - ind_white)\n",
    "diff_black_white_ind = abs(ind_black - ind_white)\n",
    "diff_hispanic_white_ind = abs(ind_hispanic - ind_white)\n",
    "diff_other_white_ind = abs(ind_other - ind_white)"
   ]
  },
  {
   "cell_type": "code",
   "execution_count": null,
   "id": "8380a721",
   "metadata": {},
   "outputs": [],
   "source": [
    "print(diff_asian_white_ind, diff_black_white_ind, diff_hispanic_white_ind, diff_other_white_ind )"
   ]
  },
  {
   "cell_type": "code",
   "execution_count": null,
   "id": "6c244c52",
   "metadata": {},
   "outputs": [],
   "source": [
    "sep_asian = separation(tn_asian, fp_asian, fn_asian, tp_asian)\n",
    "sep_black = separation(tn_black, fp_black, fn_black, tp_black)\n",
    "sep_white = separation(tn_white, fp_white, fn_white, tp_white)\n",
    "sep_hispanic = separation(tn_hispanic, fp_hispanic, fn_hispanic, tp_hispanic)\n",
    "sep_other = separation(tn_other, fp_other, fn_other, tp_other)"
   ]
  },
  {
   "cell_type": "code",
   "execution_count": null,
   "id": "8e7e13db",
   "metadata": {},
   "outputs": [],
   "source": [
    "print(sep_asian, sep_black, sep_white, sep_hispanic, sep_other)\n",
    "#hispanics have more tn part than tp\n",
    "#values between groups are close"
   ]
  },
  {
   "cell_type": "code",
   "execution_count": null,
   "id": "afa02797",
   "metadata": {},
   "outputs": [],
   "source": [
    "suf_asian = sufficiency(tn_asian, fp_asian, fn_asian, tp_asian)\n",
    "suf_black = sufficiency(tn_black, fp_black, fn_black, tp_black)\n",
    "suf_white = sufficiency(tn_white, fp_white, fn_white, tp_white)\n",
    "suf_hispanic = sufficiency(tn_hispanic, fp_hispanic, fn_hispanic, tp_hispanic)\n",
    "suf_other = sufficiency(tn_other, fp_other, fn_other, tp_other)"
   ]
  },
  {
   "cell_type": "code",
   "execution_count": null,
   "id": "6e947cd1",
   "metadata": {},
   "outputs": [],
   "source": [
    "print(suf_asian, suf_black, suf_white, suf_hispanic, suf_other)"
   ]
  },
  {
   "cell_type": "markdown",
   "id": "a91587ea",
   "metadata": {},
   "source": [
    "#### Age groups"
   ]
  },
  {
   "cell_type": "code",
   "execution_count": null,
   "id": "b340a6c9",
   "metadata": {},
   "outputs": [],
   "source": [
    "# Reference: https://www.sciencedirect.com/science/article/pii/S0386111214600315#:~:text=Three%20driver%20age%20groups%20(old,aged%20less%20than%2030%20years.\n",
    "group_young = X_test['driver_age'] < 30\n",
    "group_middle = (X_test['driver_age'] >= 30) & (X_test['driver_age'] < 65)\n",
    "group_elderly = X_test['driver_age'] >= 65"
   ]
  },
  {
   "cell_type": "code",
   "execution_count": null,
   "id": "dee6c088",
   "metadata": {},
   "outputs": [],
   "source": [
    "y_pred_young = y_pred[group_young]\n",
    "y_test_young = y_test[group_young]\n",
    "X_test_young = X_test[group_young]\n",
    "\n",
    "y_pred_middle = y_pred[group_middle]\n",
    "y_test_middle = y_test[group_middle]\n",
    "X_test_middle = X_test[group_middle]\n",
    "\n",
    "y_pred_elderly = y_pred[group_elderly]\n",
    "y_test_elderly = y_test[group_elderly]\n",
    "X_test_elderly = X_test[group_elderly]"
   ]
  },
  {
   "cell_type": "code",
   "execution_count": null,
   "id": "c64f3524",
   "metadata": {},
   "outputs": [],
   "source": [
    "cm_young = confusion_matrix(y_test_young, y_pred_young)\n",
    "cm_middle = confusion_matrix(y_test_middle, y_pred_middle)\n",
    "cm_elderly = confusion_matrix(y_test_elderly, y_pred_elderly)"
   ]
  },
  {
   "cell_type": "code",
   "execution_count": null,
   "id": "52600a29",
   "metadata": {},
   "outputs": [],
   "source": [
    "fig, (ax1, ax2, ax3) = plt.subplots(1,3, figsize = (20,7))\n",
    "fig.suptitle('Confusion Matrices for different Age Groups')\n",
    "plot_confusion_matrix(knn, X_test_young, y_test_young, display_labels=le.classes_, ax=ax1)\n",
    "ax1.set_title('Age Group: Young')\n",
    "plot_confusion_matrix(knn, X_test_middle, y_test_middle, display_labels=le.classes_, ax=ax2)\n",
    "ax2.set_title('Age Group: Middle Age')\n",
    "plot_confusion_matrix(knn, X_test_elderly, y_test_elderly, display_labels=le.classes_, ax=ax3)\n",
    "ax3.set_title('Age Group: Elderly')"
   ]
  },
  {
   "cell_type": "code",
   "execution_count": null,
   "id": "2324e1ed",
   "metadata": {},
   "outputs": [],
   "source": [
    "tn_young, fp_young, fn_young, tp_young = confusion_matrix(y_test_young, y_pred_young).ravel()\n",
    "tn_middle, fp_middle, fn_middle, tp_middle = confusion_matrix(y_test_middle, y_pred_middle).ravel()\n",
    "tn_elderly, fp_elderly, fn_elderly, tp_elderly = confusion_matrix(y_test_elderly, y_pred_elderly).ravel()"
   ]
  },
  {
   "cell_type": "code",
   "execution_count": null,
   "id": "f5aebd00",
   "metadata": {},
   "outputs": [],
   "source": [
    "ind_young = independence(tn_young, fp_young, fn_young, tp_young)\n",
    "ind_middle = independence(tn_middle, fp_middle, fn_middle, tp_middle)\n",
    "ind_elderly = independence(tn_elderly, fp_elderly, fn_elderly, tp_elderly)"
   ]
  },
  {
   "cell_type": "code",
   "execution_count": null,
   "id": "4abade49",
   "metadata": {},
   "outputs": [],
   "source": [
    "print(ind_young, ind_middle, ind_elderly) #youngest more likely to be arrested"
   ]
  },
  {
   "cell_type": "code",
   "execution_count": null,
   "id": "fd7bb1e8",
   "metadata": {},
   "outputs": [],
   "source": [
    "sep_young = separation(tn_young, fp_young, fn_young, tp_young)\n",
    "sep_middle = separation(tn_middle, fp_middle, fn_middle, tp_middle)\n",
    "sep_elderly = separation(tn_elderly, fp_elderly, fn_elderly, tp_elderly)"
   ]
  },
  {
   "cell_type": "code",
   "execution_count": null,
   "id": "09127b3f",
   "metadata": {},
   "outputs": [],
   "source": [
    "print(sep_young, sep_middle, sep_elderly) #percentage of correctly classified is high;\n",
    "#but when no action should have been done but wasn't is lower for young people\n",
    "#should have actually been arrested higher for old people"
   ]
  },
  {
   "cell_type": "code",
   "execution_count": null,
   "id": "a680cb3f",
   "metadata": {},
   "outputs": [],
   "source": [
    "suf_young = sufficiency(tn_young, fp_young, fn_young, tp_young)\n",
    "suf_middle = sufficiency(tn_middle, fp_middle, fn_middle, tp_middle)\n",
    "suf_elderly = sufficiency(tn_elderly, fp_elderly, fn_elderly, tp_elderly)"
   ]
  },
  {
   "cell_type": "code",
   "execution_count": null,
   "id": "0d3c1549",
   "metadata": {},
   "outputs": [],
   "source": [
    "print(suf_young, suf_middle, suf_elderly)"
   ]
  },
  {
   "cell_type": "markdown",
   "id": "80884d09",
   "metadata": {},
   "source": [
    "#### Gender"
   ]
  },
  {
   "cell_type": "code",
   "execution_count": null,
   "id": "7b301ef8",
   "metadata": {},
   "outputs": [],
   "source": [
    "group_female = X_test['driver_gender'] == 0\n",
    "group_male = X_test['driver_gender'] == 1"
   ]
  },
  {
   "cell_type": "code",
   "execution_count": null,
   "id": "1d7f0f90",
   "metadata": {},
   "outputs": [],
   "source": [
    "y_pred_female = y_pred[group_female]\n",
    "y_test_female = y_test[group_female]\n",
    "X_test_female = X_test[group_female]\n",
    "\n",
    "y_pred_male = y_pred[group_male]\n",
    "y_test_male = y_test[group_male]\n",
    "X_test_male = X_test[group_male]"
   ]
  },
  {
   "cell_type": "code",
   "execution_count": null,
   "id": "74ee9c88",
   "metadata": {},
   "outputs": [],
   "source": [
    "cm_female = confusion_matrix(y_test_female, y_pred_female)\n",
    "cm_male = confusion_matrix(y_test_male, y_pred_male)"
   ]
  },
  {
   "cell_type": "code",
   "execution_count": null,
   "id": "7bd36de0",
   "metadata": {},
   "outputs": [],
   "source": [
    "fig, (ax1, ax2) = plt.subplots(1,2, figsize = (20,7))\n",
    "fig.suptitle('Confusion Matrices for different Genders')\n",
    "plot_confusion_matrix(knn, X_test_female, y_test_female, display_labels=le.classes_, ax=ax1)\n",
    "ax1.set_title('Gender: Female')\n",
    "plot_confusion_matrix(knn, X_test_male, y_test_male, display_labels=le.classes_, ax=ax2)\n",
    "ax2.set_title('Gender: Male')"
   ]
  },
  {
   "cell_type": "code",
   "execution_count": null,
   "id": "79e4d889",
   "metadata": {},
   "outputs": [],
   "source": [
    "tn_female, fp_female, fn_female, tp_female = confusion_matrix(y_test_female, y_pred_female).ravel()\n",
    "tn_male, fp_male, fn_male, tp_male = confusion_matrix(y_test_male, y_pred_male).ravel()"
   ]
  },
  {
   "cell_type": "code",
   "execution_count": null,
   "id": "2afca4cc",
   "metadata": {},
   "outputs": [],
   "source": [
    "ind_female = independence(tn_female, fp_female, fn_female, tp_female)\n",
    "ind_male = independence(tn_male, fp_male, fn_male, tp_male)"
   ]
  },
  {
   "cell_type": "code",
   "execution_count": null,
   "id": "b467de48",
   "metadata": {},
   "outputs": [],
   "source": [
    "print(ind_female, ind_male) #men more likely to be arrested"
   ]
  },
  {
   "cell_type": "code",
   "execution_count": null,
   "id": "e4b10290",
   "metadata": {},
   "outputs": [],
   "source": [
    "sep_female = separation(tn_female, fp_female, fn_female, tp_female)\n",
    "sep_male = separation(tn_male, fp_male, fn_male, tp_male)"
   ]
  },
  {
   "cell_type": "code",
   "execution_count": null,
   "id": "a16338c6",
   "metadata": {},
   "outputs": [],
   "source": [
    "print(sep_female, sep_male) #classifier works better for men??"
   ]
  },
  {
   "cell_type": "code",
   "execution_count": null,
   "id": "815125b8",
   "metadata": {},
   "outputs": [],
   "source": [
    "suf_female = sufficiency(tn_female, fp_female, fn_female, tp_female)\n",
    "suf_male = sufficiency(tn_male, fp_male, fn_male, tp_male)"
   ]
  },
  {
   "cell_type": "code",
   "execution_count": null,
   "id": "4b5a689f",
   "metadata": {},
   "outputs": [],
   "source": [
    "print(suf_female, suf_male)"
   ]
  },
  {
   "cell_type": "markdown",
   "id": "f5388585",
   "metadata": {},
   "source": [
    "# Fairness through unawareness\n",
    "leaving out proteced attributes"
   ]
  },
  {
   "cell_type": "markdown",
   "id": "1d511a97",
   "metadata": {},
   "source": [
    "## Creating new datasets"
   ]
  },
  {
   "cell_type": "code",
   "execution_count": null,
   "id": "3d6ba481",
   "metadata": {},
   "outputs": [],
   "source": [
    "X_train_norm"
   ]
  },
  {
   "cell_type": "code",
   "execution_count": null,
   "id": "293eb4ea",
   "metadata": {},
   "outputs": [],
   "source": [
    "#dropping race:\n",
    "\n",
    "X_train_norace = X_train_norm.drop (columns=[\"driver_race_Asian\",\"driver_race_Black\",\"driver_race_Hispanic\",\"driver_race_Other\",\n",
    "                                             \"driver_race_White\" ])\n",
    "X_test_norace = X_test_norm.drop(columns=[\"driver_race_Asian\",\"driver_race_Black\",\"driver_race_Hispanic\",\"driver_race_Other\",\n",
    "                                             \"driver_race_White\" ]) "
   ]
  },
  {
   "cell_type": "code",
   "execution_count": null,
   "id": "518e1802",
   "metadata": {},
   "outputs": [],
   "source": [
    "print(driver_race_Asian_list)"
   ]
  },
  {
   "cell_type": "code",
   "execution_count": null,
   "id": "5a764fff",
   "metadata": {},
   "outputs": [],
   "source": [
    "X_train_norace"
   ]
  },
  {
   "cell_type": "code",
   "execution_count": null,
   "id": "436aadb2",
   "metadata": {},
   "outputs": [],
   "source": [
    "#dropping gender\n",
    "X_train_nogender = X_train_norm.drop (columns=[\"driver_gender\" ])\n",
    "X_test_nogender= X_test_norm.drop(columns=[\"driver_gender\" ])"
   ]
  },
  {
   "cell_type": "code",
   "execution_count": null,
   "id": "b48c340a",
   "metadata": {},
   "outputs": [],
   "source": [
    "X_train_nogender"
   ]
  },
  {
   "cell_type": "code",
   "execution_count": null,
   "id": "8a2a7d75",
   "metadata": {},
   "outputs": [],
   "source": [
    "#dropping age\n",
    "X_train_noage = X_train_norm.drop (columns=[\"driver_age\" ])\n",
    "X_test_noage= X_test_norm.drop(columns=[\"driver_age\" ])"
   ]
  },
  {
   "cell_type": "code",
   "execution_count": null,
   "id": "b7148605",
   "metadata": {},
   "outputs": [],
   "source": [
    "X_train_noage"
   ]
  },
  {
   "cell_type": "markdown",
   "id": "1ced50b0",
   "metadata": {},
   "source": [
    "## Repeat knn for new datasets"
   ]
  },
  {
   "cell_type": "code",
   "execution_count": null,
   "id": "da4ee828",
   "metadata": {},
   "outputs": [],
   "source": [
    "#without race\n",
    "# Create an instance of KNN with n_neighbors=5 \n",
    "knn = KNeighborsClassifier(n_neighbors=5, n_jobs=-1)\n",
    "print(\"Created an instance of KNN\")\n",
    "\n",
    "# Train the model on the training set with the encoded labels\n",
    "knn.fit(X_train_norace, y_train)\n",
    "print(\"Fitting complete\")\n",
    "\n",
    "y_pred_norace = knn.predict(X_test_norace)\n",
    "print(\"Prediction complete\")\n",
    "\n",
    "pred_score_knn_norace = accuracy_score(y_test, y_pred_norace)\n",
    "print(\"Accuracy score calculated\")"
   ]
  },
  {
   "cell_type": "code",
   "execution_count": null,
   "id": "ae87da27",
   "metadata": {},
   "outputs": [],
   "source": [
    "print(pred_score_knn_norace)"
   ]
  },
  {
   "cell_type": "code",
   "execution_count": null,
   "id": "c9521430",
   "metadata": {},
   "outputs": [],
   "source": [
    "print(pred_score_knn) #compare with model above"
   ]
  },
  {
   "cell_type": "code",
   "execution_count": null,
   "id": "6b4e224d",
   "metadata": {},
   "outputs": [],
   "source": [
    "# Plot the confusion matrix for the training set\n",
    "plt.figure()\n",
    "plot_confusion_matrix(knn, X_train_norace, y_train, display_labels=le.classes_[0:2])\n",
    "plt.title('Training set confusion matrix without race')\n",
    "plt.show() \n",
    "\n",
    "# Plot the confusion matrix for the test set\n",
    "plt.figure()\n",
    "plot_confusion_matrix(knn, X_test_norace, y_test, display_labels=le.classes_[0:2])\n",
    "plt.title('Test set confusion matrix without race')\n",
    "plt.show()"
   ]
  },
  {
   "cell_type": "code",
   "execution_count": null,
   "id": "db663993",
   "metadata": {},
   "outputs": [],
   "source": [
    "#without gender\n",
    "# Create an instance of KNN with n_neighbors=5\n",
    "knn = KNeighborsClassifier(n_neighbors=5, n_jobs=-1)\n",
    "print(\"Created an instance of KNN\")\n",
    "\n",
    "# Train the model on the training set with the encoded labels\n",
    "knn.fit(X_train_nogender, y_train)\n",
    "print(\"Fitting complete\")\n",
    "\n",
    "y_pred_nogender = knn.predict(X_test_nogender)\n",
    "print(\"Prediction complete\")\n",
    "\n",
    "pred_score_knn_nogender = accuracy_score(y_test, y_pred_nogender)\n",
    "print(\"Accuracy score calculated\")"
   ]
  },
  {
   "cell_type": "code",
   "execution_count": null,
   "id": "8501d98a",
   "metadata": {},
   "outputs": [],
   "source": [
    "print(pred_score_knn_nogender)"
   ]
  },
  {
   "cell_type": "code",
   "execution_count": null,
   "id": "f475fb06",
   "metadata": {},
   "outputs": [],
   "source": [
    "# Plot the confusion matrix for the training set\n",
    "plt.figure()\n",
    "plot_confusion_matrix(knn, X_train_nogender, y_train, display_labels=le.classes_[0:2])\n",
    "plt.title('Training set confusion matrix without gender')\n",
    "plt.show()\n",
    "\n",
    "# Plot the confusion matrix for the test set\n",
    "plt.figure()\n",
    "plot_confusion_matrix(knn, X_test_nogender, y_test, display_labels=le.classes_[0:2])\n",
    "plt.title('Test set confusion matrix without gender')\n",
    "plt.show()"
   ]
  },
  {
   "cell_type": "code",
   "execution_count": null,
   "id": "d2327b73",
   "metadata": {},
   "outputs": [],
   "source": [
    "#without age\n",
    "# Create an instance of KNN with n_neighbors=5\n",
    "knn = KNeighborsClassifier(n_neighbors=5, n_jobs=-1)\n",
    "print(\"Created an instance of KNN\")\n",
    "\n",
    "# Train the model on the training set with the encoded labels\n",
    "knn.fit(X_train_noage, y_train)\n",
    "print(\"Fitting complete\")\n",
    "\n",
    "y_pred_noage = knn.predict(X_test_noage)\n",
    "print(\"Prediction complete\")\n",
    "\n",
    "pred_score_knn_noage = accuracy_score(y_test, y_pred_noage)\n",
    "print(\"Accuracy score calculated\")"
   ]
  },
  {
   "cell_type": "code",
   "execution_count": null,
   "id": "dd47adbe",
   "metadata": {},
   "outputs": [],
   "source": [
    "print(pred_score_knn_noage)"
   ]
  },
  {
   "cell_type": "code",
   "execution_count": null,
   "id": "0e2dce09",
   "metadata": {},
   "outputs": [],
   "source": [
    "# Plot the confusion matrix for the training set\n",
    "plt.figure()\n",
    "plot_confusion_matrix(knn, X_train_noage, y_train, display_labels=le.classes_[0:2])\n",
    "plt.title('Training set confusion matrix without age')\n",
    "plt.show()\n",
    "\n",
    "# Plot the confusion matrix for the test set\n",
    "plt.figure()\n",
    "plot_confusion_matrix(knn, X_test_noage, y_test, display_labels=le.classes_[0:2])\n",
    "plt.title('Test set confusion matrix without age')\n",
    "plt.show()"
   ]
  },
  {
   "cell_type": "markdown",
   "id": "d0127121",
   "metadata": {},
   "source": [
    "## Repeat fairness criteria checks for new datasets\n"
   ]
  },
  {
   "cell_type": "markdown",
   "id": "5d0a023b",
   "metadata": {},
   "source": [
    "Race:"
   ]
  },
  {
   "cell_type": "code",
   "execution_count": null,
   "id": "779d9e82",
   "metadata": {},
   "outputs": [],
   "source": [
    "#split into races\n",
    "group_asian = X_test['driver_race_Asian'] == 1\n",
    "group_black = X_test['driver_race_Black'] == 1\n",
    "group_white = X_test['driver_race_White'] == 1\n",
    "group_hispanic = X_test['driver_race_Hispanic'] == 1\n",
    "group_other = X_test['driver_race_Other'] == 1 \n",
    "\n",
    "#define variable for each race\n",
    "y_pred_asian_norace = y_pred_norace[group_asian]\n",
    "y_test_asian = y_test[group_asian]\n",
    "X_test_asian_norace = X_test_norace[group_asian]\n",
    "\n",
    "y_pred_black_norace = y_pred_norace[group_black]\n",
    "y_test_black = y_test[group_black]\n",
    "X_test_black_norace = X_test_norace[group_black]\n",
    "\n",
    "y_pred_white_norace = y_pred_norace[group_white]\n",
    "y_test_white = y_test[group_white]\n",
    "X_test_white_norace = X_test_norace[group_white]\n",
    "\n",
    "y_pred_hispanic_norace = y_pred_norace[group_hispanic]\n",
    "y_test_hispanic = y_test[group_hispanic]\n",
    "X_test_hispanic_norace = X_test_norace[group_hispanic]\n",
    "\n",
    "y_pred_other_norace = y_pred_norace[group_other]\n",
    "y_test_other = y_test[group_other]\n",
    "X_test_other_norace = X_test_norace[group_other]"
   ]
  },
  {
   "cell_type": "code",
   "execution_count": null,
   "id": "0ce7afe4",
   "metadata": {},
   "outputs": [],
   "source": [
    "#calculate confusion matrix values\n",
    "cm_asian_norace = confusion_matrix(y_test_asian, y_pred_asian_norace)\n",
    "cm_black_norace = confusion_matrix(y_test_black, y_pred_black_norace)\n",
    "cm_white_norace = confusion_matrix(y_test_white, y_pred_white_norace)\n",
    "cm_hispanic_norace = confusion_matrix(y_test_hispanic, y_pred_hispanic_norace)\n",
    "cm_other_norace = confusion_matrix(y_test_other, y_pred_other_norace)"
   ]
  },
  {
   "cell_type": "code",
   "execution_count": null,
   "id": "a63d2e0c",
   "metadata": {},
   "outputs": [],
   "source": [
    "print(cm_asian_norace)\n",
    "print(cm_black_norace)\n",
    "print(cm_white_norace)\n",
    "print(cm_hispanic_norace)\n",
    "print(cm_other_norace)"
   ]
  },
  {
   "cell_type": "code",
   "execution_count": null,
   "id": "f123b259",
   "metadata": {},
   "outputs": [],
   "source": [
    "#plot the confusion matrix\n",
    "plt.figure() \n",
    "disp = ConfusionMatrixDisplay(confusion_matrix=cm_asian_norace , display_labels=['Arrest','no Action'])\n",
    "disp.plot()\n",
    "plt.xticks(rotation=45)\n",
    "plt.grid(False)\n",
    "plt.title(\"Confusion matrix for classifying Asians\")\n",
    "plt.show()\n",
    "\n",
    "plt.figure()\n",
    "disp = ConfusionMatrixDisplay(confusion_matrix=cm_black_norace, display_labels=['Arrest','no Action'])\n",
    "disp.plot()\n",
    "plt.xticks(rotation=45)\n",
    "plt.grid(False)\n",
    "plt.title(\"Confusion matrix for classifying Black people\")\n",
    "plt.show()"
   ]
  },
  {
   "cell_type": "code",
   "execution_count": null,
   "id": "4843cded",
   "metadata": {},
   "outputs": [],
   "source": [
    "#calculate true negative, false positive, false negative and true positive\n",
    "tn_asian_norace, fp_asian_norace, fn_asian_norace, tp_asian_norace = confusion_matrix(y_test_asian, y_pred_asian_norace).ravel()\n",
    "tn_black_norace, fp_black_norace, fn_black_norace, tp_black_norace = confusion_matrix(y_test_black, y_pred_black_norace).ravel()\n",
    "tn_white_norace, fp_white_norace, fn_white_norace, tp_white_norace = confusion_matrix(y_test_white, y_pred_white_norace).ravel()\n",
    "tn_hispanic_norace, fp_hispanic_norace, fn_hispanic_norace, tp_hispanic_norace = confusion_matrix(y_test_hispanic, y_pred_hispanic_norace).ravel()\n",
    "tn_other_norace, fp_other_norace, fn_other_norace, tp_other_norace = confusion_matrix(y_test_other, y_pred_other_norace).ravel()"
   ]
  },
  {
   "cell_type": "code",
   "execution_count": null,
   "id": "eec19b3f",
   "metadata": {},
   "outputs": [],
   "source": [
    "#independence:\n",
    "ind_asian_norace = independence(tn_asian_norace, fp_asian_norace, fn_asian_norace, tp_asian_norace)\n",
    "ind_black_norace = independence(tn_black_norace, fp_black_norace, fn_black_norace, tp_black_norace)\n",
    "ind_white_norace = independence(tn_white_norace, fp_white_norace, fn_white_norace, tp_white_norace)\n",
    "ind_hispanic_norace = independence(tn_hispanic_norace, fp_hispanic_norace, fn_hispanic_norace, tp_hispanic_norace)\n",
    "ind_other_norace = independence(tn_other_norace, fp_other_norace, fn_other_norace, tp_other_norace)"
   ]
  },
  {
   "cell_type": "code",
   "execution_count": null,
   "id": "f7b63e86",
   "metadata": {},
   "outputs": [],
   "source": [
    "print(ind_asian_norace, ind_black_norace, ind_white_norace, ind_hispanic_norace, ind_other_norace) #hispanics still less"
   ]
  },
  {
   "cell_type": "code",
   "execution_count": null,
   "id": "9285d954",
   "metadata": {},
   "outputs": [],
   "source": [
    "diff_asian_white_ind_norace = abs(ind_asian_norace - ind_white_norace)\n",
    "diff_black_white_ind_norace = abs(ind_black_norace - ind_white_norace)\n",
    "diff_hispanic_white_ind_norace = abs(ind_hispanic_norace - ind_white_norace)\n",
    "diff_other_white_ind_norace = abs(ind_other_norace - ind_white_norace)"
   ]
  },
  {
   "cell_type": "code",
   "execution_count": null,
   "id": "1e99e6c7",
   "metadata": {},
   "outputs": [],
   "source": [
    "print(diff_asian_white_ind_norace, diff_black_white_ind_norace, diff_hispanic_white_ind_norace, diff_other_white_ind_norace )"
   ]
  },
  {
   "cell_type": "code",
   "execution_count": null,
   "id": "fc9fdacf",
   "metadata": {},
   "outputs": [],
   "source": [
    "print(diff_asian_white_ind, diff_black_white_ind, diff_hispanic_white_ind, diff_other_white_ind) #difference minimaly bigger with race"
   ]
  },
  {
   "cell_type": "code",
   "execution_count": null,
   "id": "e21c25ad",
   "metadata": {},
   "outputs": [],
   "source": [
    "#separation:\n",
    "sep_asian_norace = separation(tn_asian_norace, fp_asian_norace, fn_asian_norace, tp_asian_norace)\n",
    "sep_black_norace = separation(tn_black_norace, fp_black_norace, fn_black_norace, tp_black_norace)\n",
    "sep_white_norace = separation(tn_white_norace, fp_white_norace, fn_white_norace, tp_white_norace)\n",
    "sep_hispanic_norace = separation(tn_hispanic_norace, fp_hispanic_norace, fn_hispanic_norace, tp_hispanic_norace)\n",
    "sep_other_norace = separation(tn_other_norace, fp_other_norace, fn_other_norace, tp_other_norace)"
   ]
  },
  {
   "cell_type": "code",
   "execution_count": null,
   "id": "02a8dff8",
   "metadata": {},
   "outputs": [],
   "source": [
    "#compare:\n",
    "print(sep_asian_norace, sep_black_norace, sep_white_norace, sep_hispanic_norace, sep_other_norace)\n",
    "print(sep_asian, sep_black, sep_white, sep_hispanic, sep_other) #no big difference"
   ]
  },
  {
   "cell_type": "code",
   "execution_count": null,
   "id": "7a30b46c",
   "metadata": {},
   "outputs": [],
   "source": [
    "#sufficiency\n",
    "suf_asian_norace = sufficiency(tn_asian_norace, fp_asian_norace, fn_asian_norace, tp_asian_norace)\n",
    "suf_black_norace = sufficiency(tn_black_norace, fp_black_norace, fn_black_norace, tp_black_norace)\n",
    "suf_white_norace = sufficiency(tn_white_norace, fp_white_norace, fn_white_norace, tp_white_norace)\n",
    "suf_hispanic_norace = sufficiency(tn_hispanic_norace, fp_hispanic_norace, fn_hispanic_norace, tp_hispanic_norace)\n",
    "suf_other_norace = sufficiency(tn_other_norace, fp_other_norace, fn_other_norace, tp_other_norace)"
   ]
  },
  {
   "cell_type": "code",
   "execution_count": null,
   "id": "d514b94e",
   "metadata": {},
   "outputs": [],
   "source": [
    "#compare\n",
    "print(suf_asian_norace, suf_black_norace, suf_white_norace, suf_hispanic_norace, suf_other_norace)"
   ]
  },
  {
   "cell_type": "code",
   "execution_count": null,
   "id": "d51ae84f",
   "metadata": {},
   "outputs": [],
   "source": [
    "print(suf_asian, suf_black, suf_white, suf_hispanic, suf_other) #biggest change for asians"
   ]
  },
  {
   "cell_type": "markdown",
   "id": "6317f9f6",
   "metadata": {},
   "source": [
    "Age:"
   ]
  },
  {
   "cell_type": "code",
   "execution_count": null,
   "id": "c787c942",
   "metadata": {},
   "outputs": [],
   "source": [
    "#split into age groups (see above)\n",
    "group_young = X_test['driver_age'] < 30\n",
    "group_middle = (X_test['driver_age'] >= 30) & (X_test['driver_age'] < 65)\n",
    "group_elderly = X_test['driver_age'] >= 65"
   ]
  },
  {
   "cell_type": "code",
   "execution_count": null,
   "id": "5e5537af",
   "metadata": {},
   "outputs": [],
   "source": [
    "y_pred_young_noage = y_pred_noage[group_young]\n",
    "y_test_young = y_test[group_young]\n",
    "X_test_young_noage = X_test_noage[group_young]\n",
    "\n",
    "y_pred_middle_noage = y_pred_noage[group_middle]\n",
    "y_test_middle = y_test[group_middle]\n",
    "X_test_middle_noage = X_test_noage[group_middle]\n",
    "\n",
    "y_pred_elderly_noage = y_pred_noage[group_elderly]\n",
    "y_test_elderly = y_test[group_elderly]\n",
    "X_test_elderly_noage = X_test_noage[group_elderly]"
   ]
  },
  {
   "cell_type": "code",
   "execution_count": null,
   "id": "a4d579a5",
   "metadata": {},
   "outputs": [],
   "source": [
    "#confusion matrix\n",
    "cm_young_noage = confusion_matrix(y_test_young, y_pred_young_noage)\n",
    "cm_middle_noage = confusion_matrix(y_test_middle, y_pred_middle_noage)\n",
    "cm_elderly_noage = confusion_matrix(y_test_elderly, y_pred_elderly_noage)"
   ]
  },
  {
   "cell_type": "code",
   "execution_count": null,
   "id": "fbc6ceb1",
   "metadata": {},
   "outputs": [],
   "source": [
    "#plot confusion matrix\n",
    "plt.figure() \n",
    "disp = ConfusionMatrixDisplay(confusion_matrix=cm_young_noage , display_labels=['Arrest','no Action'])\n",
    "disp.plot()\n",
    "plt.xticks(rotation=45)\n",
    "plt.grid(False)\n",
    "plt.title(\"Confusion matrix for classifying young people\")\n",
    "plt.show()\n",
    "\n",
    "plt.figure()\n",
    "disp = ConfusionMatrixDisplay(confusion_matrix=cm_middle_noage, display_labels=['Arrest','no Action'])\n",
    "disp.plot()\n",
    "plt.xticks(rotation=45)\n",
    "plt.grid(False)\n",
    "plt.title(\"Confusion matrix for classifying adults\")\n",
    "plt.show()\n",
    "\n",
    "plt.figure()\n",
    "disp = ConfusionMatrixDisplay(confusion_matrix=cm_elderly_noage, display_labels=['Arrest','no Action'])\n",
    "disp.plot()\n",
    "plt.xticks(rotation=45)\n",
    "plt.grid(False)\n",
    "plt.title(\"Confusion matrix for classifying elderly\")\n",
    "plt.show()"
   ]
  },
  {
   "cell_type": "code",
   "execution_count": null,
   "id": "9e6216ca",
   "metadata": {},
   "outputs": [],
   "source": [
    "#calculate true negative, false positive, false negative and true positive\n",
    "tn_young_noage, fp_young_noage, fn_young_noage, tp_young_noage = confusion_matrix(y_test_young, y_pred_young_noage).ravel()\n",
    "tn_middle_noage, fp_middle_noage, fn_middle_noage, tp_middle_noage = confusion_matrix(y_test_middle, y_pred_middle_noage).ravel()\n",
    "tn_elderly_noage, fp_elderly_noage, fn_elderly_noage, tp_elderly_noage = confusion_matrix(y_test_elderly, y_pred_elderly_noage)"
   ]
  },
  {
   "cell_type": "code",
   "execution_count": null,
   "id": "471c4460",
   "metadata": {},
   "outputs": [],
   "source": [
    "#independence\n",
    "ind_young_noage = independence(tn_young_noage, fp_young_noage, fn_young_noage, tp_young_noage)\n",
    "ind_middle_noage = independence(tn_middle_noage, fp_middle_noage, fn_middle_noage, tp_middle_noage)\n",
    "ind_elderly_noage = independence(tn_elderly_noage, fp_elderly_noage, fn_elderly_noage, tp_elderly_noage)"
   ]
  },
  {
   "cell_type": "code",
   "execution_count": null,
   "id": "50240309",
   "metadata": {},
   "outputs": [],
   "source": [
    "print(ind_young, ind_middle, ind_elderly)"
   ]
  },
  {
   "cell_type": "code",
   "execution_count": null,
   "id": "820c908f",
   "metadata": {},
   "outputs": [],
   "source": [
    "print(ind_young_noage, ind_middle_noage, ind_elderly_noage) #biggest change in elderly -> discriminated towards elderly?"
   ]
  },
  {
   "cell_type": "code",
   "execution_count": null,
   "id": "83522517",
   "metadata": {},
   "outputs": [],
   "source": [
    "#separation\n",
    "sep_young_noage = separation(tn_young_noage, fp_young_noage, fn_young_noage, tp_young_noage)\n",
    "sep_middle_noage = separation(tn_middle_noage, fp_middle_noage, fn_middle_noage, tp_middle_noage)\n",
    "sep_elderly_noage = separation(tn_elderly_noage, fp_elderly_noage, fn_elderly_noage, tp_elderly_noage)"
   ]
  },
  {
   "cell_type": "code",
   "execution_count": null,
   "id": "e851a8b0",
   "metadata": {},
   "outputs": [],
   "source": [
    "print(sep_young_noage, sep_middle_noage, sep_elderly_noage)"
   ]
  },
  {
   "cell_type": "code",
   "execution_count": null,
   "id": "b987a1c7",
   "metadata": {},
   "outputs": [],
   "source": [
    "print(sep_young, sep_middle, sep_elderly)"
   ]
  },
  {
   "cell_type": "code",
   "execution_count": null,
   "id": "1e92b64f",
   "metadata": {},
   "outputs": [],
   "source": [
    "#sufficiency\n",
    "suf_young_noage = sufficiency(tn_young_noage, fp_young_noage, fn_young_noage, tp_young_noage)\n",
    "suf_middle_noage = sufficiency(tn_middle_noage, fp_middle_noage, fn_middle_noage, tp_middle_noage)\n",
    "suf_elderly_noage = sufficiency(tn_elderly_noage, fp_elderly_noage, fn_elderly_noage, tp_elderly_noage)"
   ]
  },
  {
   "cell_type": "code",
   "execution_count": null,
   "id": "4981611b",
   "metadata": {},
   "outputs": [],
   "source": [
    "print(suf_young, suf_middle, suf_elderly)"
   ]
  },
  {
   "cell_type": "code",
   "execution_count": null,
   "id": "e7644f16",
   "metadata": {},
   "outputs": [],
   "source": [
    "print(suf_young_noage, suf_middle_noage, suf_elderly_noage)"
   ]
  },
  {
   "cell_type": "markdown",
   "id": "52c2df02",
   "metadata": {},
   "source": [
    "Gender:"
   ]
  },
  {
   "cell_type": "code",
   "execution_count": null,
   "id": "18ade274",
   "metadata": {},
   "outputs": [],
   "source": [
    "#gender:\n",
    "y_pred_nogender"
   ]
  },
  {
   "cell_type": "code",
   "execution_count": null,
   "id": "9b4e039f",
   "metadata": {},
   "outputs": [],
   "source": [
    "#gender groups:\n",
    "group_female = X_test['driver_gender'] == 0\n",
    "group_male = X_test['driver_gender'] == 1"
   ]
  },
  {
   "cell_type": "code",
   "execution_count": null,
   "id": "626d7138",
   "metadata": {},
   "outputs": [],
   "source": [
    "y_pred_female_nogender = y_pred_nogender[group_female]\n",
    "y_test_female = y_test[group_female]\n",
    "X_test_female_nogender = X_test_nogender[group_female]\n",
    "\n",
    "y_pred_male_nogender = y_pred_nogender[group_male]\n",
    "y_test_male = y_test[group_male]\n",
    "X_test_male_nogender = X_test_nogender[group_male]"
   ]
  },
  {
   "cell_type": "code",
   "execution_count": null,
   "id": "ac784109",
   "metadata": {},
   "outputs": [],
   "source": [
    "#confusion matrix\n",
    "cm_female_nogender = confusion_matrix(y_test_female, y_pred_female_nogender)\n",
    "cm_male_nogender = confusion_matrix(y_test_male, y_pred_male_nogender)"
   ]
  },
  {
   "cell_type": "code",
   "execution_count": null,
   "id": "f3c05073",
   "metadata": {},
   "outputs": [],
   "source": [
    "#plot the confusion matrix\n",
    "plt.figure()\n",
    "disp = ConfusionMatrixDisplay(confusion_matrix=cm_female_nogender, display_labels=['Arrest','no Action'])\n",
    "disp.plot()\n",
    "plt.xticks(rotation=45)\n",
    "plt.grid(False)\n",
    "plt.title(\"Confusion matrix for classifying women\")\n",
    "plt.show()\n",
    "\n",
    "plt.figure()\n",
    "disp = ConfusionMatrixDisplay(confusion_matrix=cm_male_nogender, display_labels=['Arrest','no Action'])\n",
    "disp.plot()\n",
    "plt.xticks(rotation=45)\n",
    "plt.grid(False)\n",
    "plt.title(\"Confusion matrix for classifying men\")\n",
    "plt.show()"
   ]
  },
  {
   "cell_type": "code",
   "execution_count": null,
   "id": "b80107df",
   "metadata": {},
   "outputs": [],
   "source": [
    "#calculate true negative, false positive, false negative and true positive\n",
    "tn_female_nogender, fp_female_nogender, fn_female_nogender, tp_female_nogender = confusion_matrix(y_test_female, y_pred_female_nogender).ravel()\n",
    "tn_male_nogender, fp_male_nogender, fn_male_nogender, tp_male_nogender = confusion_matrix(y_test_male, y_pred_male_nogender).ravel()"
   ]
  },
  {
   "cell_type": "code",
   "execution_count": null,
   "id": "6dd11d1e",
   "metadata": {},
   "outputs": [],
   "source": [
    "#independence\n",
    "ind_female_nogender = independence(tn_female_nogender, fp_female_nogender, fn_female_nogender, tp_female_nogender)\n",
    "ind_male_nogender = independence(tn_male_nogender, fp_male_nogender, fn_male_nogender, tp_male_nogender)"
   ]
  },
  {
   "cell_type": "code",
   "execution_count": null,
   "id": "8862b401",
   "metadata": {},
   "outputs": [],
   "source": [
    "print(ind_female, ind_male)"
   ]
  },
  {
   "cell_type": "code",
   "execution_count": null,
   "id": "1c3bb111",
   "metadata": {},
   "outputs": [],
   "source": [
    "print(ind_female_nogender, ind_male_nogender) #no big diff."
   ]
  },
  {
   "cell_type": "code",
   "execution_count": null,
   "id": "513e321c",
   "metadata": {},
   "outputs": [],
   "source": [
    "#separation\n",
    "sep_female_nogender = separation(tn_female_nogender, fp_female_nogender, fn_female_nogender, tp_female_nogender)\n",
    "sep_male_nogender = separation(tn_male_nogender, fp_male_nogender, fn_male_nogender, tp_male_nogender)"
   ]
  },
  {
   "cell_type": "code",
   "execution_count": null,
   "id": "3873fea0",
   "metadata": {},
   "outputs": [],
   "source": [
    "print(sep_female_nogender, sep_male_nogender)"
   ]
  },
  {
   "cell_type": "code",
   "execution_count": null,
   "id": "6d85fb2b",
   "metadata": {},
   "outputs": [],
   "source": [
    "print(sep_female, sep_male)"
   ]
  },
  {
   "cell_type": "code",
   "execution_count": null,
   "id": "9812fd1c",
   "metadata": {},
   "outputs": [],
   "source": [
    "#sufficiency\n",
    "suf_female_nogender = sufficiency(tn_female_nogender, fp_female_nogender, fn_female_nogender, tp_female_nogender)\n",
    "suf_male_nogender = sufficiency(tn_male_nogender, fp_male_nogender, fn_male_nogender, tp_male_nogender)"
   ]
  },
  {
   "cell_type": "code",
   "execution_count": null,
   "id": "491c2dab",
   "metadata": {},
   "outputs": [],
   "source": [
    "print(suf_female_nogender, suf_male_nogender)"
   ]
  },
  {
   "cell_type": "code",
   "execution_count": null,
   "id": "d075b1ef",
   "metadata": {},
   "outputs": [],
   "source": [
    "print(suf_female, suf_male)"
   ]
  },
  {
   "cell_type": "code",
   "execution_count": null,
   "id": "35ecf1f0",
   "metadata": {},
   "outputs": [],
   "source": [
    "#race lists\n",
    "independence_list_race = [ind_white, ind_black, ind_hispanic, ind_asian, ind_other]\n",
    "separation_list_race = [sep_white, sep_black, sep_hispanic, sep_asian, sep_other]\n",
    "sufficiency_list_race = [suf_white, suf_black, suf_hispanic, suf_asian, suf_other]\n",
    "#age lists\n",
    "independence_list_age = [ind_young, ind_middle, ind_elderly]\n",
    "separation_list_age = [sep_young, sep_middle, sep_elderly]\n",
    "sufficiency_list_age = [suf_young, suf_middle, suf_elderly]\n",
    "#gender lists\n",
    "independence_list_gender = [ind_male, ind_female]\n",
    "separation_list_gender = [sep_male, sep_female]\n",
    "sufficiency_list_gender = [suf_male, suf_female]\n",
    "#no race lists\n",
    "independence_list_norace = [ind_white_norace, ind_black_norace, ind_hispanic_norace, ind_asian_norace, ind_other_norace]\n",
    "separation_list_norace = [sep_white_norace, sep_black_norace, sep_hispanic_norace, sep_asian_norace, sep_other_norace]\n",
    "sufficiency_list_norace = [suf_white_norace, suf_black_norace, suf_hispanic_norace, suf_asian_norace, suf_other_norace]\n",
    "#no age lists\n",
    "independence_list_noage = [ind_young_noage, ind_middle_noage, ind_elderly_noage]\n",
    "separation_list_noage = [sep_young_noage, sep_middle_noage, sep_elderly_noage]\n",
    "sufficiency_list_noage = [suf_young_noage, suf_middle_noage, suf_elderly_noage]\n",
    "#no gender lists\n",
    "independence_list_nogender = [ind_male_nogender, ind_female_nogender]\n",
    "separation_list_nogender = [sep_male_nogender, sep_female_nogender]\n",
    "sufficiency_list_nogender = [suf_male_nogender, suf_female_nogender]"
   ]
  },
  {
   "cell_type": "code",
   "execution_count": null,
   "id": "f9335358",
   "metadata": {},
   "outputs": [],
   "source": [
    "#create table to store fairness value for race\n",
    "race_columns = ['White','Black','Hispanic','Asian','Other']\n",
    "fairness_index = ['Independency','Separation','Sufficiency']\n",
    "fairness_table_race = pd.DataFrame(columns = race_columns, index = fairness_index)\n",
    "fairness_table_race_drop = fairness_table_race\n",
    "\n",
    "#create table to store fairness value for gender\n",
    "gender_columns = ['Male','Female']\n",
    "fairness_table_gender = pd.DataFrame(columns = gender_columns, index = fairness_index)\n",
    "fairness_table_gender_drop = fairness_table_gender\n",
    "\n",
    "#create table to store fairness value for age\n",
    "age_columns = ['Young','Middle age','Elderly']\n",
    "fairness_table_age = pd.DataFrame(columns = age_columns, index = fairness_index)\n",
    "fairness_table_age_drop = fairness_table_age\n",
    "\n",
    "print(fairness_table_race_drop)\n",
    "print(fairness_table_race)"
   ]
  },
  {
   "cell_type": "code",
   "execution_count": null,
   "id": "0709ddb5",
   "metadata": {},
   "outputs": [],
   "source": [
    "#adding values for fairness table with and without dropping race\n",
    "#fairness_table_race\n",
    "#fairness_table_race_drop\n",
    "    \n",
    "fairness_table_race.loc['Independence'] = [independence_list_race[0], independence_list_race[1], independence_list_race[2], independence_list_race[3], independence_list_race[4]]\n",
    "fairness_table_race.loc['Separation'] = [separation_list_race[0], separation_list_race[1], separation_list_race[2], separation_list_race[3],separation_list_race[4]]\n",
    "fairness_table_race.loc['Sufficiency'] = [sufficiency_list_race[0], sufficiency_list_race[1], sufficiency_list_race[2], sufficiency_list_race[3],sufficiency_list_race[4]]\n",
    "print(fairness_table_race)\n",
    "\n",
    "fairness_table_race_drop.loc['Independence'] = [independence_list_norace[0], independence_list_norace[1], independence_list_norace[2], independence_list_norace[3], independence_list_norace[4]]\n",
    "fairness_table_race_drop.loc['Separation'] = [separation_list_norace[0], separation_list_norace[1], separation_list_norace[2], separation_list_norace[3],separation_list_norace[4]]\n",
    "fairness_table_race_drop.loc['Sufficiency'] = [sufficiency_list_norace[0], sufficiency_list_norace[1], sufficiency_list_norace[2], sufficiency_list_norace[3],sufficiency_list_norace[4]]\n",
    "print(fairness_table_race_drop)"
   ]
  },
  {
   "cell_type": "code",
   "execution_count": null,
   "id": "e2af03b8",
   "metadata": {},
   "outputs": [],
   "source": [
    "#adding values for fairness table with and without dropping gender\n",
    "#fairness_table_gender\n",
    "#fairness_table_gender_drop\n",
    "\n",
    "fairness_table_gender.loc['Independence'] = [independence_list_gender[0], independence_list_gender[1], independence_list_gender[2], independence_list_gender[3], independence_list_gender[4]]\n",
    "fairness_table_gender.loc['Separation'] = [separation_list_gender[0], separation_list_gender[1], separation_list_gender[2], separation_list_gender[3],separation_list_gender[4]]\n",
    "fairness_table_gender.loc['Sufficiency'] = [sufficiency_list_gender[0], sufficiency_list_gender[1], sufficiency_list_gender[2], sufficiency_list_gender[3],sufficiency_list_gender[4]]\n",
    "print(fairness_table_gender)\n",
    "\n",
    "fairness_table_gender_drop.loc['Independence'] = [independence_list_nogender[0], independence_list_nogender[1], independence_list_nogender[2], independence_list_nogender[3], independence_list_nogender[4]]\n",
    "fairness_table_gender_drop.loc['Separation'] = [separation_list_nogender[0], separation_list_nogender[1], separation_list_nogender[2], separation_list_nogender[3],separation_list_nogender[4]]\n",
    "fairness_table_gender_drop.loc['Sufficiency'] = [sufficiency_list_nogender[0], sufficiency_list_nogender[1], sufficiency_list_nogender[2], sufficiency_list_nogender[3],sufficiency_list_nogender[4]]\n",
    "print(fairness_table_gender_drop)"
   ]
  },
  {
   "cell_type": "markdown",
   "id": "7513428f",
   "metadata": {},
   "source": [
    "# USING DIFFERENT THRESHOLDS TO PREDICT STOP OUTCOME\n",
    "\n",
    "The 'violation' feature is used to predict whether or not the outcome is arrest. "
   ]
  },
  {
   "cell_type": "markdown",
   "id": "e0851528",
   "metadata": {},
   "source": [
    "From the Original Data, we see the different types of violation and their counts"
   ]
  },
  {
   "cell_type": "code",
   "execution_count": null,
   "id": "e7ce319d",
   "metadata": {},
   "outputs": [],
   "source": [
    "data['violation'].value_counts()"
   ]
  },
  {
   "cell_type": "markdown",
   "id": "1fd7254c",
   "metadata": {},
   "source": [
    "To determine the severeness of each violation, the percentage that leads to an arrest is calculated for all violations.\n",
    "\n",
    "This percentage is obtained by:\n",
    "\n",
    "(the number of that particular violation where 'stop_outcome' = arrest) * 100 / (total number of that particular violation)"
   ]
  },
  {
   "cell_type": "code",
   "execution_count": null,
   "id": "decb9805",
   "metadata": {},
   "outputs": [],
   "source": [
    "#calculating percentage of arrestments in regard to each violation\n",
    "data_violation = data[['violation','stop_outcome']]\n",
    "\n",
    "list_violations = ['Speeding','DUI','Equipment', 'Seat belt', 'Other', 'Registration/plates', 'Safe movement', 'Stop sign/light']\n",
    "\n",
    "arrestment_statistics = data_violation['stop_outcome'].value_counts()\n",
    "print('Total number of arrestments in data set: ', arrestment_statistics)\n",
    "\n",
    "\n",
    "for element in list_violations:\n",
    "    frames = data_violation[data_violation['violation']==element]\n",
    "    counts = frames['stop_outcome'].value_counts()\n",
    "    print('Count of {}'.format(element))\n",
    "    print(counts)\n",
    "    print('Percentage of arrestments in {} is: '.format(element), counts['Arrest']/(counts[0]+counts[1])*100, '%')"
   ]
  },
  {
   "cell_type": "markdown",
   "id": "dc2e555d",
   "metadata": {},
   "source": [
    "After measuring the percentage of each violation that leads to an arrest, these values help in ordering the violations.\n",
    "\n",
    "Ranking from the worst violation to the least serious violation, the orders are:\n",
    "\n",
    "- DUI\n",
    "- Stop sign/light\n",
    "- Safe movement\n",
    "- Speeding\n",
    "- Seat belt\n",
    "- Equipment \n",
    "- Registration/plates\n",
    "- Other\n",
    "\n",
    "It is then decided that the 4 worst violations (DUI, Stop sign/light, Safe movement, Speeding) would lead to arrest, while the others would lead to no action."
   ]
  },
  {
   "cell_type": "markdown",
   "id": "59691748",
   "metadata": {},
   "source": [
    "Create a new dataframe, where the violation will be encoded with 1-8 (1 for the least serious violation, and 8 is the worst violation)"
   ]
  },
  {
   "cell_type": "code",
   "execution_count": 74,
   "id": "1530e42a",
   "metadata": {},
   "outputs": [],
   "source": [
    "data_thr = data\n",
    "\n",
    "data_thr = data_thr.replace('DUI', 8)\n",
    "data_thr = data_thr.replace('Stop sign/light', 7)\n",
    "data_thr = data_thr.replace('Safe movement', 6)\n",
    "data_thr = data_thr.replace('Speeding', 5)\n",
    "data_thr = data_thr.replace('Seat belt', 4)\n",
    "data_thr = data_thr.replace('Equipment', 3)\n",
    "data_thr = data_thr.replace('Registration/plates', 2)\n",
    "data_thr = data_thr.replace('Other', 1)\n",
    "\n",
    "data_thr['violation'].value_counts()\n",
    "data_thr['driver_race'] = data['driver_race']"
   ]
  },
  {
   "cell_type": "markdown",
   "id": "27bd2dfc",
   "metadata": {},
   "source": [
    "Create the list which will be the target variable. This list is created by determining that any violations with value bigger than 4 would lead to arrest, while any violations with value equal to or less than 4 would lead to no action"
   ]
  },
  {
   "cell_type": "code",
   "execution_count": 52,
   "id": "480dc907",
   "metadata": {},
   "outputs": [],
   "source": [
    "y_thr_list = []\n",
    "\n",
    "for i in range(len(data_thr['violation'])):\n",
    "    v = data_thr.iloc[i].loc['violation'] #v stands for violation\n",
    "    if v > 4:\n",
    "        y_thr_list.append('Arrest Threshold')\n",
    "    if v <= 4:\n",
    "        y_thr_list.append('No Action Threshold')\n",
    "        \n",
    "data_thr['stop_outcome_threshold'] = y_thr_list\n",
    "\n",
    "le = LabelEncoder()\n",
    "y_thr_encoded = le.fit_transform(y_thr_list)"
   ]
  },
  {
   "cell_type": "code",
   "execution_count": 53,
   "id": "2e328cb0",
   "metadata": {},
   "outputs": [
    {
     "data": {
      "text/html": [
       "<div>\n",
       "<style scoped>\n",
       "    .dataframe tbody tr th:only-of-type {\n",
       "        vertical-align: middle;\n",
       "    }\n",
       "\n",
       "    .dataframe tbody tr th {\n",
       "        vertical-align: top;\n",
       "    }\n",
       "\n",
       "    .dataframe thead th {\n",
       "        text-align: right;\n",
       "    }\n",
       "</style>\n",
       "<table border=\"1\" class=\"dataframe\">\n",
       "  <thead>\n",
       "    <tr style=\"text-align: right;\">\n",
       "      <th></th>\n",
       "      <th>driver_gender</th>\n",
       "      <th>driver_age</th>\n",
       "      <th>driver_race</th>\n",
       "      <th>violation</th>\n",
       "      <th>search_type</th>\n",
       "      <th>contraband_found</th>\n",
       "      <th>search_basis</th>\n",
       "      <th>officer_id</th>\n",
       "      <th>drugs_related_stop</th>\n",
       "      <th>district</th>\n",
       "      <th>stop_date:day_of_week</th>\n",
       "    </tr>\n",
       "  </thead>\n",
       "  <tbody>\n",
       "    <tr>\n",
       "      <th>0</th>\n",
       "      <td>M</td>\n",
       "      <td>23.0</td>\n",
       "      <td>White</td>\n",
       "      <td>5</td>\n",
       "      <td>No Search Conducted</td>\n",
       "      <td>False</td>\n",
       "      <td>No Search Conducted</td>\n",
       "      <td>10606</td>\n",
       "      <td>False</td>\n",
       "      <td>E3</td>\n",
       "      <td>0</td>\n",
       "    </tr>\n",
       "    <tr>\n",
       "      <th>1</th>\n",
       "      <td>F</td>\n",
       "      <td>29.0</td>\n",
       "      <td>White</td>\n",
       "      <td>5</td>\n",
       "      <td>No Search Conducted</td>\n",
       "      <td>False</td>\n",
       "      <td>No Search Conducted</td>\n",
       "      <td>10606</td>\n",
       "      <td>False</td>\n",
       "      <td>E3</td>\n",
       "      <td>0</td>\n",
       "    </tr>\n",
       "    <tr>\n",
       "      <th>2</th>\n",
       "      <td>F</td>\n",
       "      <td>49.0</td>\n",
       "      <td>Black</td>\n",
       "      <td>5</td>\n",
       "      <td>No Search Conducted</td>\n",
       "      <td>False</td>\n",
       "      <td>No Search Conducted</td>\n",
       "      <td>10606</td>\n",
       "      <td>False</td>\n",
       "      <td>E3</td>\n",
       "      <td>0</td>\n",
       "    </tr>\n",
       "    <tr>\n",
       "      <th>3</th>\n",
       "      <td>M</td>\n",
       "      <td>29.0</td>\n",
       "      <td>Black</td>\n",
       "      <td>5</td>\n",
       "      <td>No Search Conducted</td>\n",
       "      <td>False</td>\n",
       "      <td>No Search Conducted</td>\n",
       "      <td>10606</td>\n",
       "      <td>False</td>\n",
       "      <td>E3</td>\n",
       "      <td>0</td>\n",
       "    </tr>\n",
       "    <tr>\n",
       "      <th>4</th>\n",
       "      <td>M</td>\n",
       "      <td>24.0</td>\n",
       "      <td>Hispanic</td>\n",
       "      <td>5</td>\n",
       "      <td>No Search Conducted</td>\n",
       "      <td>False</td>\n",
       "      <td>No Search Conducted</td>\n",
       "      <td>10606</td>\n",
       "      <td>False</td>\n",
       "      <td>E3</td>\n",
       "      <td>0</td>\n",
       "    </tr>\n",
       "  </tbody>\n",
       "</table>\n",
       "</div>"
      ],
      "text/plain": [
       "  driver_gender  driver_age driver_race  violation          search_type  \\\n",
       "0             M        23.0       White          5  No Search Conducted   \n",
       "1             F        29.0       White          5  No Search Conducted   \n",
       "2             F        49.0       Black          5  No Search Conducted   \n",
       "3             M        29.0       Black          5  No Search Conducted   \n",
       "4             M        24.0    Hispanic          5  No Search Conducted   \n",
       "\n",
       "   contraband_found         search_basis  officer_id  drugs_related_stop  \\\n",
       "0             False  No Search Conducted       10606               False   \n",
       "1             False  No Search Conducted       10606               False   \n",
       "2             False  No Search Conducted       10606               False   \n",
       "3             False  No Search Conducted       10606               False   \n",
       "4             False  No Search Conducted       10606               False   \n",
       "\n",
       "  district  stop_date:day_of_week  \n",
       "0       E3                      0  \n",
       "1       E3                      0  \n",
       "2       E3                      0  \n",
       "3       E3                      0  \n",
       "4       E3                      0  "
      ]
     },
     "execution_count": 53,
     "metadata": {},
     "output_type": "execute_result"
    }
   ],
   "source": [
    "#drop unnecessary features as done before in the data processing part for the X matrix\n",
    "#drop the target variables for the X matrix\n",
    "\n",
    "X_thr = data_thr.drop(columns=[\"state\", \"stop_date\", \"driver_race_raw\", \"stop_outcome\", \"stop_outcome_threshold\"])\n",
    "X_thr.head()"
   ]
  },
  {
   "cell_type": "markdown",
   "id": "02beeda1",
   "metadata": {},
   "source": [
    "Aside from 'driver_age', 'stop_date:day_of_week', 'driver_race' and 'violation', the features are encoded using LabelEncoder from Scikit Learn"
   ]
  },
  {
   "cell_type": "code",
   "execution_count": 54,
   "id": "5769e385",
   "metadata": {},
   "outputs": [
    {
     "data": {
      "text/html": [
       "<div>\n",
       "<style scoped>\n",
       "    .dataframe tbody tr th:only-of-type {\n",
       "        vertical-align: middle;\n",
       "    }\n",
       "\n",
       "    .dataframe tbody tr th {\n",
       "        vertical-align: top;\n",
       "    }\n",
       "\n",
       "    .dataframe thead th {\n",
       "        text-align: right;\n",
       "    }\n",
       "</style>\n",
       "<table border=\"1\" class=\"dataframe\">\n",
       "  <thead>\n",
       "    <tr style=\"text-align: right;\">\n",
       "      <th></th>\n",
       "      <th>driver_gender</th>\n",
       "      <th>driver_age</th>\n",
       "      <th>driver_race</th>\n",
       "      <th>violation</th>\n",
       "      <th>search_type</th>\n",
       "      <th>contraband_found</th>\n",
       "      <th>search_basis</th>\n",
       "      <th>officer_id</th>\n",
       "      <th>drugs_related_stop</th>\n",
       "      <th>district</th>\n",
       "      <th>stop_date:day_of_week</th>\n",
       "    </tr>\n",
       "  </thead>\n",
       "  <tbody>\n",
       "    <tr>\n",
       "      <th>0</th>\n",
       "      <td>1</td>\n",
       "      <td>23.0</td>\n",
       "      <td>White</td>\n",
       "      <td>5</td>\n",
       "      <td>2</td>\n",
       "      <td>0</td>\n",
       "      <td>18</td>\n",
       "      <td>722</td>\n",
       "      <td>0</td>\n",
       "      <td>34</td>\n",
       "      <td>0</td>\n",
       "    </tr>\n",
       "    <tr>\n",
       "      <th>1</th>\n",
       "      <td>0</td>\n",
       "      <td>29.0</td>\n",
       "      <td>White</td>\n",
       "      <td>5</td>\n",
       "      <td>2</td>\n",
       "      <td>0</td>\n",
       "      <td>18</td>\n",
       "      <td>722</td>\n",
       "      <td>0</td>\n",
       "      <td>34</td>\n",
       "      <td>0</td>\n",
       "    </tr>\n",
       "    <tr>\n",
       "      <th>2</th>\n",
       "      <td>0</td>\n",
       "      <td>49.0</td>\n",
       "      <td>Black</td>\n",
       "      <td>5</td>\n",
       "      <td>2</td>\n",
       "      <td>0</td>\n",
       "      <td>18</td>\n",
       "      <td>722</td>\n",
       "      <td>0</td>\n",
       "      <td>34</td>\n",
       "      <td>0</td>\n",
       "    </tr>\n",
       "    <tr>\n",
       "      <th>3</th>\n",
       "      <td>1</td>\n",
       "      <td>29.0</td>\n",
       "      <td>Black</td>\n",
       "      <td>5</td>\n",
       "      <td>2</td>\n",
       "      <td>0</td>\n",
       "      <td>18</td>\n",
       "      <td>722</td>\n",
       "      <td>0</td>\n",
       "      <td>34</td>\n",
       "      <td>0</td>\n",
       "    </tr>\n",
       "    <tr>\n",
       "      <th>4</th>\n",
       "      <td>1</td>\n",
       "      <td>24.0</td>\n",
       "      <td>Hispanic</td>\n",
       "      <td>5</td>\n",
       "      <td>2</td>\n",
       "      <td>0</td>\n",
       "      <td>18</td>\n",
       "      <td>722</td>\n",
       "      <td>0</td>\n",
       "      <td>34</td>\n",
       "      <td>0</td>\n",
       "    </tr>\n",
       "  </tbody>\n",
       "</table>\n",
       "</div>"
      ],
      "text/plain": [
       "   driver_gender  driver_age driver_race  violation  search_type  \\\n",
       "0              1        23.0       White          5            2   \n",
       "1              0        29.0       White          5            2   \n",
       "2              0        49.0       Black          5            2   \n",
       "3              1        29.0       Black          5            2   \n",
       "4              1        24.0    Hispanic          5            2   \n",
       "\n",
       "   contraband_found  search_basis  officer_id  drugs_related_stop  district  \\\n",
       "0                 0            18         722                   0        34   \n",
       "1                 0            18         722                   0        34   \n",
       "2                 0            18         722                   0        34   \n",
       "3                 0            18         722                   0        34   \n",
       "4                 0            18         722                   0        34   \n",
       "\n",
       "   stop_date:day_of_week  \n",
       "0                      0  \n",
       "1                      0  \n",
       "2                      0  \n",
       "3                      0  \n",
       "4                      0  "
      ]
     },
     "execution_count": 54,
     "metadata": {},
     "output_type": "execute_result"
    }
   ],
   "source": [
    "for col in X_thr:\n",
    "    if col=='driver_age' or col=='stop_date:day_of_week' or col=='driver_race' or col=='violation':\n",
    "        pass\n",
    "    else:\n",
    "        X_thr[col] = le.fit_transform(X[col])\n",
    "\n",
    "X_thr.head()"
   ]
  },
  {
   "cell_type": "markdown",
   "id": "e7ad83ae",
   "metadata": {},
   "source": [
    "'driver_race' is one hot encoded"
   ]
  },
  {
   "cell_type": "code",
   "execution_count": 55,
   "id": "38f71395",
   "metadata": {},
   "outputs": [
    {
     "data": {
      "text/html": [
       "<div>\n",
       "<style scoped>\n",
       "    .dataframe tbody tr th:only-of-type {\n",
       "        vertical-align: middle;\n",
       "    }\n",
       "\n",
       "    .dataframe tbody tr th {\n",
       "        vertical-align: top;\n",
       "    }\n",
       "\n",
       "    .dataframe thead th {\n",
       "        text-align: right;\n",
       "    }\n",
       "</style>\n",
       "<table border=\"1\" class=\"dataframe\">\n",
       "  <thead>\n",
       "    <tr style=\"text-align: right;\">\n",
       "      <th></th>\n",
       "      <th>driver_gender</th>\n",
       "      <th>driver_age</th>\n",
       "      <th>violation</th>\n",
       "      <th>search_type</th>\n",
       "      <th>contraband_found</th>\n",
       "      <th>search_basis</th>\n",
       "      <th>officer_id</th>\n",
       "      <th>drugs_related_stop</th>\n",
       "      <th>district</th>\n",
       "      <th>stop_date:day_of_week</th>\n",
       "      <th>driver_race_1</th>\n",
       "      <th>driver_race_Asian</th>\n",
       "      <th>driver_race_Black</th>\n",
       "      <th>driver_race_Hispanic</th>\n",
       "      <th>driver_race_White</th>\n",
       "    </tr>\n",
       "  </thead>\n",
       "  <tbody>\n",
       "    <tr>\n",
       "      <th>0</th>\n",
       "      <td>1</td>\n",
       "      <td>23.0</td>\n",
       "      <td>5</td>\n",
       "      <td>2</td>\n",
       "      <td>0</td>\n",
       "      <td>18</td>\n",
       "      <td>722</td>\n",
       "      <td>0</td>\n",
       "      <td>34</td>\n",
       "      <td>0</td>\n",
       "      <td>0</td>\n",
       "      <td>0</td>\n",
       "      <td>0</td>\n",
       "      <td>0</td>\n",
       "      <td>1</td>\n",
       "    </tr>\n",
       "    <tr>\n",
       "      <th>1</th>\n",
       "      <td>0</td>\n",
       "      <td>29.0</td>\n",
       "      <td>5</td>\n",
       "      <td>2</td>\n",
       "      <td>0</td>\n",
       "      <td>18</td>\n",
       "      <td>722</td>\n",
       "      <td>0</td>\n",
       "      <td>34</td>\n",
       "      <td>0</td>\n",
       "      <td>0</td>\n",
       "      <td>0</td>\n",
       "      <td>0</td>\n",
       "      <td>0</td>\n",
       "      <td>1</td>\n",
       "    </tr>\n",
       "    <tr>\n",
       "      <th>2</th>\n",
       "      <td>0</td>\n",
       "      <td>49.0</td>\n",
       "      <td>5</td>\n",
       "      <td>2</td>\n",
       "      <td>0</td>\n",
       "      <td>18</td>\n",
       "      <td>722</td>\n",
       "      <td>0</td>\n",
       "      <td>34</td>\n",
       "      <td>0</td>\n",
       "      <td>0</td>\n",
       "      <td>0</td>\n",
       "      <td>1</td>\n",
       "      <td>0</td>\n",
       "      <td>0</td>\n",
       "    </tr>\n",
       "    <tr>\n",
       "      <th>3</th>\n",
       "      <td>1</td>\n",
       "      <td>29.0</td>\n",
       "      <td>5</td>\n",
       "      <td>2</td>\n",
       "      <td>0</td>\n",
       "      <td>18</td>\n",
       "      <td>722</td>\n",
       "      <td>0</td>\n",
       "      <td>34</td>\n",
       "      <td>0</td>\n",
       "      <td>0</td>\n",
       "      <td>0</td>\n",
       "      <td>1</td>\n",
       "      <td>0</td>\n",
       "      <td>0</td>\n",
       "    </tr>\n",
       "    <tr>\n",
       "      <th>4</th>\n",
       "      <td>1</td>\n",
       "      <td>24.0</td>\n",
       "      <td>5</td>\n",
       "      <td>2</td>\n",
       "      <td>0</td>\n",
       "      <td>18</td>\n",
       "      <td>722</td>\n",
       "      <td>0</td>\n",
       "      <td>34</td>\n",
       "      <td>0</td>\n",
       "      <td>0</td>\n",
       "      <td>0</td>\n",
       "      <td>0</td>\n",
       "      <td>1</td>\n",
       "      <td>0</td>\n",
       "    </tr>\n",
       "  </tbody>\n",
       "</table>\n",
       "</div>"
      ],
      "text/plain": [
       "   driver_gender  driver_age  violation  search_type  contraband_found  \\\n",
       "0              1        23.0          5            2                 0   \n",
       "1              0        29.0          5            2                 0   \n",
       "2              0        49.0          5            2                 0   \n",
       "3              1        29.0          5            2                 0   \n",
       "4              1        24.0          5            2                 0   \n",
       "\n",
       "   search_basis  officer_id  drugs_related_stop  district  \\\n",
       "0            18         722                   0        34   \n",
       "1            18         722                   0        34   \n",
       "2            18         722                   0        34   \n",
       "3            18         722                   0        34   \n",
       "4            18         722                   0        34   \n",
       "\n",
       "   stop_date:day_of_week  driver_race_1  driver_race_Asian  driver_race_Black  \\\n",
       "0                      0              0                  0                  0   \n",
       "1                      0              0                  0                  0   \n",
       "2                      0              0                  0                  1   \n",
       "3                      0              0                  0                  1   \n",
       "4                      0              0                  0                  0   \n",
       "\n",
       "   driver_race_Hispanic  driver_race_White  \n",
       "0                     0                  1  \n",
       "1                     0                  1  \n",
       "2                     0                  0  \n",
       "3                     0                  0  \n",
       "4                     1                  0  "
      ]
     },
     "execution_count": 55,
     "metadata": {},
     "output_type": "execute_result"
    }
   ],
   "source": [
    "tmp_thr = X_thr[['driver_race']]\n",
    "tmp_thr = pd.get_dummies(tmp_thr)\n",
    "X_thr = X_thr.drop(columns=['driver_race'])\n",
    "X_thr = pd.concat([X_thr, tmp_thr], axis=1)\n",
    "X_thr.head()"
   ]
  },
  {
   "cell_type": "markdown",
   "id": "e37a88af",
   "metadata": {},
   "source": [
    "### KNN Model is built using the data that uses 'violation' as threshold\n",
    "\n",
    "In general, these codes are the same codes used for the KNN model built before (with the 'stop_outcome' as target variables)"
   ]
  },
  {
   "cell_type": "code",
   "execution_count": null,
   "id": "66ea5172",
   "metadata": {},
   "outputs": [],
   "source": [
    "#for standard scaling later, we convert all data types to float32\n",
    "X_thr = X_thr.astype(np.float32)\n",
    "\n",
    "# Split the data into training and test set\n",
    "# test_size=0.3: 70% training set, 30% test set\n",
    "# random_state=350: fix the random set to get the same result every time you run the code (for tutorial purposes)\n",
    "X_thr_train, X_thr_test, y_thr_train, y_thr_test = train_test_split(X_thr, y_thr_encoded, test_size=0.3, random_state=350)"
   ]
  },
  {
   "cell_type": "code",
   "execution_count": null,
   "id": "7c19488e",
   "metadata": {},
   "outputs": [],
   "source": [
    "# Creating a scaler object (here with default settings)\n",
    "scaler = StandardScaler()\n",
    "\n",
    "# Replacing the values in our X_train by the normalized ones\n",
    "X_thr_train_norm = X_thr_train.copy()\n",
    "X_thr_train_norm.values[:] = scaler.fit_transform(X_thr_train)\n",
    "# Replacing the values in our X_test by the normalized ones\n",
    "X_thr_test_norm = X_thr_test.copy()\n",
    "X_thr_test_norm.values[:] = scaler.transform(X_thr_test)\n",
    "\n",
    "X_thr_train_norm.head()"
   ]
  },
  {
   "cell_type": "code",
   "execution_count": null,
   "id": "53c1c2f6",
   "metadata": {},
   "outputs": [],
   "source": [
    "# Create an instance of KNN with n_neighbors=5\n",
    "knn_thr = KNeighborsClassifier(n_neighbors=5, n_jobs=-1)\n",
    "print(\"Created an instance of KNN\")\n",
    "\n",
    "# Train the model on the training set with the encoded labels\n",
    "knn_thr.fit(X_thr_train_norm, y_thr_train)\n",
    "print(\"Fitting complete\")\n",
    "\n",
    "y_thr_pred = knn_thr.predict(X_thr_test_norm)\n",
    "print(\"Prediction complete\")\n",
    "\n",
    "pred_score_knn_thr = accuracy_score(y_thr_test, y_thr_pred)\n",
    "print(\"Accuracy score calculated\")"
   ]
  },
  {
   "cell_type": "code",
   "execution_count": null,
   "id": "a3b1e709",
   "metadata": {},
   "outputs": [],
   "source": [
    "print(f\"The score of the KNN model with the threshold is: {pred_score_knn_thr}\")"
   ]
  },
  {
   "cell_type": "code",
   "execution_count": null,
   "id": "8d6c24ef",
   "metadata": {},
   "outputs": [],
   "source": [
    "# Plot the confusion matrix for the training set\n",
    "plt.figure()\n",
    "plot_confusion_matrix(knn_sklearn, X_thr_train_norm, y_thr_train, display_labels=le.classes_[0:2])\n",
    "plt.title('Training set confusion matrix')\n",
    "plt.show()\n",
    "\n",
    "# Plot the confusion matrix for the test set\n",
    "plt.figure()\n",
    "plot_confusion_matrix(knn_sklearn, X_thr_test_norm, y_thr_test, display_labels=le.classes_[0:2])\n",
    "plt.title('Test set confusion matrix')\n",
    "plt.show()"
   ]
  },
  {
   "cell_type": "markdown",
   "id": "6d95730b",
   "metadata": {},
   "source": [
    "### Measuring Fairness for sensitive features from the model built using threshold"
   ]
  },
  {
   "cell_type": "markdown",
   "id": "20bcbdd1",
   "metadata": {},
   "source": [
    "### Race groups"
   ]
  },
  {
   "cell_type": "code",
   "execution_count": null,
   "id": "4a2f9f32",
   "metadata": {},
   "outputs": [],
   "source": [
    "group_asian = X_thr_test['driver_race_Asian'] == 1\n",
    "group_black = X_thr_test['driver_race_Black'] == 1\n",
    "group_white = X_thr_test['driver_race_White'] == 1\n",
    "group_hispanic = X_thr_test['driver_race_Hispanic'] == 1\n",
    "group_other = X_thr_test['driver_race_Other'] == 1\n",
    "\n",
    "y_thr_pred_asian = y_thr_pred[group_asian]\n",
    "y_thr_test_asian = y_thr_test[group_asian]\n",
    "X_thr_test_asian = X_thr_test[group_asian]\n",
    "\n",
    "y_thr_pred_black = y_thr_pred[group_black]\n",
    "y_thr_test_black = y_thr_test[group_black]\n",
    "X_thr_test_black = X_thr_test[group_black]\n",
    "\n",
    "y_thr_pred_white = y_thr_pred[group_white]\n",
    "y_thr_test_white = y_thr_test[group_white]\n",
    "X_thr_test_white = X_thr_test[group_white]\n",
    "\n",
    "y_thr_pred_hispanic = y_thr_pred[group_hispanic]\n",
    "y_thr_test_hispanic = y_thr_test[group_hispanic]\n",
    "X_thr_test_hispanic = X_thr_test[group_hispanic]\n",
    "\n",
    "y_thr_pred_other = y_thr_pred[group_other]\n",
    "y_thr_test_other = y_thr_test[group_other]\n",
    "X_thr_test_other = X_thr_test[group_other]"
   ]
  },
  {
   "cell_type": "code",
   "execution_count": null,
   "id": "aebefa52",
   "metadata": {},
   "outputs": [],
   "source": [
    "cm_thr_asian = confusion_matrix(y_thr_test_asian, y_thr_pred_asian)\n",
    "cm_thr_black = confusion_matrix(y_thr_test_black, y_thr_pred_black)\n",
    "cm_thr_white = confusion_matrix(y_thr_test_white, y_thr_pred_white)\n",
    "cm_thr_hispanic = confusion_matrix(y_thr_test_hispanic, y_thr_pred_hispanic)\n",
    "cm_thr_other = confusion_matrix(y_thr_test_other, y_thr_pred_other)\n",
    "\n",
    "fig, ((ax1, ax2, ax3), (ax4, ax5, ax6)) = plt.subplots(2,3, figsize = (17,10))\n",
    "ax6.axis('off')\n",
    "fig.suptitle('Confusion Matrices for different Race Groups')\n",
    "\n",
    "disp = ConfusionMatrixDisplay(confusion_matrix=cm_thr_asian, display_labels=le.classes_[0:2])\n",
    "disp.plot(ax=ax1)\n",
    "ax1.set_title('Race Group: Asian')\n",
    "disp = ConfusionMatrixDisplay(confusion_matrix=cm_thr_black, display_labels=le.classes_[0:2])\n",
    "disp.plot(ax=ax2)\n",
    "ax2.set_title('Race Group: Black')\n",
    "disp = ConfusionMatrixDisplay(confusion_matrix=cm_thr_white, display_labels=le.classes_[0:2])\n",
    "disp.plot(ax=ax3)\n",
    "ax3.set_title('Race Group: White')\n",
    "disp = ConfusionMatrixDisplay(confusion_matrix=cm_thr_hispanic, display_labels=le.classes_[0:2])\n",
    "disp.plot(ax=ax4)\n",
    "ax4.set_title('Race Group: Hispanic')\n",
    "disp = ConfusionMatrixDisplay(confusion_matrix=cm_thr_other, display_labels=le.classes_[0:2])\n",
    "disp.plot(ax=ax5)\n",
    "ax5.set_title('Race Group: Other')\n",
    "plt.show()"
   ]
  },
  {
   "cell_type": "code",
   "execution_count": null,
   "id": "1c695e50",
   "metadata": {},
   "outputs": [],
   "source": [
    "tn_thr_asian, fp_thr_asian, fn_thr_asian, tp_thr_asian = confusion_matrix(y_thr_test_asian, y_thr_pred_asian).ravel()\n",
    "tn_thr_black, fp_thr_black, fn_thr_black, tp_thr_black = confusion_matrix(y_thr_test_black, y_thr_pred_black).ravel()\n",
    "tn_thr_white, fp_thr_white, fn_thr_white, tp_thr_white = confusion_matrix(y_thr_test_white, y_thr_pred_white).ravel()\n",
    "tn_thr_hispanic, fp_thr_hispanic, fn_thr_hispanic, tp_thr_hispanic = confusion_matrix(y_thr_test_hispanic, y_thr_pred_hispanic).ravel()\n",
    "tn_thr_other, fp_thr_other, fn_thr_other, tp_thr_other = confusion_matrix(y_thr_test_other, y_thr_pred_other).ravel()"
   ]
  },
  {
   "cell_type": "code",
   "execution_count": null,
   "id": "fb4cf989",
   "metadata": {},
   "outputs": [],
   "source": [
    "sep_asian_thr = separation(tn_thr_asian, fp_thr_asian, fn_thr_asian, tp_thr_asian)\n",
    "sep_black_thr = separation(tn_thr_black, fp_thr_black, fn_thr_black, tp_thr_black)\n",
    "sep_white_thr = separation(tn_thr_white, fp_thr_white, fn_thr_white, tp_thr_white)\n",
    "sep_hispanic_thr = separation(tn_thr_hispanic, fp_thr_hispanic, fn_thr_hispanic, tp_thr_hispanic)\n",
    "sep_other_thr = separation(tn_thr_other, fp_thr_other, fn_thr_other, tp_thr_other)"
   ]
  },
  {
   "cell_type": "code",
   "execution_count": null,
   "id": "386f61de",
   "metadata": {},
   "outputs": [],
   "source": [
    "suf_asian_thr = sufficiency(tn_thr_asian, fp_thr_asian, fn_thr_asian, tp_thr_asian)\n",
    "suf_black_thr = sufficiency(tn_thr_black, fp_thr_black, fn_thr_black, tp_thr_black)\n",
    "suf_white_thr = sufficiency(tn_thr_white, fp_thr_white, fn_thr_white, tp_thr_white)\n",
    "suf_hispanic_thr = sufficiency(tn_thr_hispanic, fp_thr_hispanic, fn_thr_hispanic, tp_thr_hispanic)\n",
    "suf_other_thr = sufficiency(tn_thr_other, fp_thr_other, fn_thr_other, tp_thr_other)"
   ]
  },
  {
   "cell_type": "markdown",
   "id": "228cbdb0",
   "metadata": {},
   "source": [
    "### Age groups"
   ]
  },
  {
   "cell_type": "code",
   "execution_count": null,
   "id": "22b91861",
   "metadata": {},
   "outputs": [],
   "source": [
    " # Reference: https://www.sciencedirect.com/science/article/pii/S0386111214600315#:~:text=Three%20driver%20age%20groups%20(old,aged%20less%20than%2030%20years.\n",
    "group_young = X_thr_test['driver_age'] < 30\n",
    "group_middle = (X_thr_test['driver_age'] >= 30) & (X_thr_test['driver_age'] < 65)\n",
    "group_elderly = X_thr_test['driver_age'] >= 65"
   ]
  },
  {
   "cell_type": "code",
   "execution_count": null,
   "id": "3c015c88",
   "metadata": {},
   "outputs": [],
   "source": [
    "y_thr_pred_young = y_thr_pred[group_young]\n",
    "y_thr_test_young = y_thr_test[group_young]\n",
    "X_thr_test_young = X_thr_test[group_young]\n",
    "\n",
    "y_thr_pred_middle = y_thr_pred[group_middle]\n",
    "y_thr_test_middle = y_thr_test[group_middle]\n",
    "X_thr_test_middle = X_thr_test[group_middle]\n",
    "\n",
    "y_thr_pred_elderly = y_thr_pred[group_elderly]\n",
    "y_thr_test_elderly = y_thr_test[group_elderly]\n",
    "X_thr_test_elderly = X_thr_test[group_elderly]"
   ]
  },
  {
   "cell_type": "code",
   "execution_count": null,
   "id": "b3ffb7de",
   "metadata": {},
   "outputs": [],
   "source": [
    "cm_young = confusion_matrix(y_thr_test_young, y_thr_pred_young)\n",
    "cm_middle = confusion_matrix(y_thr_test_middle, y_thr_pred_middle)\n",
    "cm_elderly = confusion_matrix(y_thr_test_elderly, y_thr_pred_elderly)\n",
    "\n",
    "fig, (ax1, ax2, ax3) = plt.subplots(1, 3, figsize = (17,5))\n",
    "fig.suptitle('Confusion Matrices for Different Age Groups')\n",
    "\n",
    "disp = ConfusionMatrixDisplay(confusion_matrix=cm_young, display_labels=le.classes_[0:2])\n",
    "disp.plot(ax=ax1)\n",
    "ax1.set_title('Age Group: Young')\n",
    "disp = ConfusionMatrixDisplay(confusion_matrix=cm_middle, display_labels=le.classes_[0:2])\n",
    "disp.plot(ax=ax2)\n",
    "ax2.set_title('Age Group: Middle Age')\n",
    "disp = ConfusionMatrixDisplay(confusion_matrix=cm_elderly, display_labels=le.classes_[0:2])\n",
    "disp.plot(ax=ax3)\n",
    "ax3.set_title('Age Group: Elderly')\n",
    "plt.show()"
   ]
  },
  {
   "cell_type": "code",
   "execution_count": null,
   "id": "0fd7cffe",
   "metadata": {},
   "outputs": [],
   "source": [
    "tn_thr_young, fp_thr_young, fn_thr_young, tp_thr_young = confusion_matrix(y_thr_test_young, y_thr_pred_young).ravel()\n",
    "tn_thr_middle, fp_thr_middle, fn_thr_middle, tp_thr_middle = confusion_matrix(y_thr_test_middle, y_thr_pred_middle).ravel()\n",
    "tn_thr_elderly, fp_thr_elderly, fn_thr_elderly, tp_thr_elderly = confusion_matrix(y_thr_test_elderly, y_thr_pred_elderly).ravel()"
   ]
  },
  {
   "cell_type": "code",
   "execution_count": null,
   "id": "b3effc9e",
   "metadata": {},
   "outputs": [],
   "source": [
    "ind_young_thr = independence(tn_thr_young, fp_thr_young, fn_thr_young, tp_thr_young)\n",
    "ind_middle_thr = independence(tn_thr_middle, fp_thr_middle, fn_thr_middle, tp_thr_middle)\n",
    "ind_elderly_thr = independence(tn_thr_elderly, fp_thr_elderly, fn_thr_elderly, tp_thr_elderly)"
   ]
  },
  {
   "cell_type": "code",
   "execution_count": null,
   "id": "98c20f5c",
   "metadata": {},
   "outputs": [],
   "source": [
    "sep_young_thr = separation(tn_thr_young, fp_thr_young, fn_thr_young, tp_thr_young)\n",
    "sep_middle_thr = separation(tn_thr_middle, fp_thr_middle, fn_thr_middle, tp_thr_middle)\n",
    "sep_elderly_thr = separation(tn_thr_elderly, fp_thr_elderly, fn_thr_elderly, tp_thr_elderly)"
   ]
  },
  {
   "cell_type": "code",
   "execution_count": null,
   "id": "69c10630",
   "metadata": {},
   "outputs": [],
   "source": [
    "suf_young_thr = sufficiency(tn_thr_young, fp_thr_young, fn_thr_young, tp_thr_young)\n",
    "suf_middle_thr = sufficiency(tn_thr_middle, fp_thr_middle, fn_thr_middle, tp_thr_middle)\n",
    "suf_elderly_thr = sufficiency(tn_thr_elderly, fp_thr_elderly, fn_thr_elderly, tp_thr_elderly)"
   ]
  },
  {
   "cell_type": "markdown",
   "id": "62226187",
   "metadata": {},
   "source": [
    "### Gender Groups"
   ]
  },
  {
   "cell_type": "code",
   "execution_count": null,
   "id": "ee316a91",
   "metadata": {},
   "outputs": [],
   "source": [
    "group_female = X_thr_test['driver_gender'] == 0\n",
    "group_male = X_thr_test['driver_gender'] == 1"
   ]
  },
  {
   "cell_type": "code",
   "execution_count": null,
   "id": "1a968d21",
   "metadata": {},
   "outputs": [],
   "source": [
    "y_pred_thr_female = y_thr_pred[group_female]\n",
    "y_test_thr_female = y_thr_test[group_female]\n",
    "X_test_thr_female = X_thr_test[group_female]\n",
    "\n",
    "y_pred_thr_male = y_thr_pred[group_male]\n",
    "y_test_thr_male = y_thr_test[group_male]\n",
    "X_test_thr_male = X_thr_test[group_male]"
   ]
  },
  {
   "cell_type": "code",
   "execution_count": null,
   "id": "6cca1e47",
   "metadata": {},
   "outputs": [],
   "source": [
    "cm_female = confusion_matrix(y_thr_test_female, y_thr_pred_female)\n",
    "cm_male = confusion_matrix(y_thr_test_male, y_thr_pred_male)"
   ]
  },
  {
   "cell_type": "code",
   "execution_count": null,
   "id": "f3ff5285",
   "metadata": {},
   "outputs": [],
   "source": [
    " #confusion matrix\n",
    "fig, (ax1, ax2, ax3) = plt.subplots(1, 3, figsize = (17,5))\n",
    "fig.suptitle('Confusion Matrices for Gender')\n",
    "\n",
    "disp = ConfusionMatrixDisplay(confusion_matrix=cm_female, display_labels=le.classes_[0:2])\n",
    "disp.plot(ax=ax1)\n",
    "ax1.set_title('Female')\n",
    "disp = ConfusionMatrixDisplay(confusion_matrix=cm_male, display_labels=le.classes_[0:2])\n",
    "disp.plot(ax=ax2)\n",
    "ax2.set_title('Male')\n",
    "\n",
    "plt.show()"
   ]
  },
  {
   "cell_type": "code",
   "execution_count": null,
   "id": "e462f9fa",
   "metadata": {},
   "outputs": [],
   "source": [
    "tn_thr_female, fp_thr_female, fn_thr_female, tp_thr_female = confusion_matrix(y_thr_test_female, y_thr_pred_female).ravel()\n",
    "tn_thr_male, fp_thr_male, fn_thr_male, tp_thr_male = confusion_matrix(y_thr_test_male, y_thr_pred_male).ravel()"
   ]
  },
  {
   "cell_type": "code",
   "execution_count": null,
   "id": "816ee590",
   "metadata": {},
   "outputs": [],
   "source": [
    "ind_female_thr = independence(tn_thr_female, fp_thr_female, fn_thr_female, tp_thr_female)\n",
    "ind_male_thr = independence(tn_thr_male, fp_thr_male, fn_thr_male, tp_thr_male)"
   ]
  },
  {
   "cell_type": "code",
   "execution_count": null,
   "id": "70747476",
   "metadata": {},
   "outputs": [],
   "source": [
    "sep_female_thr = separation(tn_thr_female, fp_thr_female, fn_thr_female, tp_thr_female)\n",
    "sep_male_thr = separation(tn_thr_male, fp_thr_male, fn_thr_male, tp_thr_male)"
   ]
  },
  {
   "cell_type": "code",
   "execution_count": null,
   "id": "c85ee5f9",
   "metadata": {},
   "outputs": [],
   "source": [
    "suf_female_thr = sufficiency(tn_thr_female, fp_thr_female, fn_thr_female, tp_thr_female)\n",
    "suf_male_thr = sufficiency(tn_thr_male, fp_thr_male, fn_thr_male, tp_thr_male)"
   ]
  },
  {
   "cell_type": "markdown",
   "id": "22e636fe",
   "metadata": {},
   "source": [
    "### Fairness Metrics for different sensitive features"
   ]
  },
  {
   "cell_type": "code",
   "execution_count": null,
   "id": "d003fc6f",
   "metadata": {},
   "outputs": [],
   "source": [
    "#create table to store fairness value for race\n",
    "race_columns = ['White','Black','Hispanic','Asian','Other']\n",
    "fairness_index = ['Independency','Separation','Sufficiency']\n",
    "fairness_table_race = pd.DataFrame(columns = race_columns, index = fairness_index)\n",
    "fairness_table_race_drop = fairness_table_race\n",
    "\n",
    "#create table to store fairness value for gender\n",
    "gender_columns = ['Male','Female']\n",
    "fairness_table_gender = pd.DataFrame(columns = gender_columns, index = fairness_index)\n",
    "fairness_table_gender_drop = fairness_table_gender\n",
    "\n",
    "#create table to store fairness value for age\n",
    "age_columns = ['Young','Middle age','Elderly']\n",
    "fairness_table_age = pd.DataFrame(columns = age_columns, index = fairness_index)\n",
    "fairness_table_age_drop = fairness_table_age\n",
    "\n",
    "print(fairness_table_race_drop)\n",
    "print(fairness_table_race)"
   ]
  },
  {
   "cell_type": "markdown",
   "id": "6444d407",
   "metadata": {},
   "source": [
    "# PCA"
   ]
  },
  {
   "cell_type": "code",
   "execution_count": null,
   "id": "e74b0e1f",
   "metadata": {},
   "outputs": [],
   "source": [
    "[U,s,VT] = np.linalg.svd(X, full_matrices=False)\n",
    "P = VT.T@np.diag(s)\n",
    "T = U\n",
    "\n",
    "x = np.arange(1, len(s)+1)\n",
    "\n",
    "fig = plt.figure(figsize=(7,5))\n",
    "ax = fig.add_axes([0,0,1,1])\n",
    "\n",
    "plt.scatter(x, np.cumsum(s) / sum(s) * 100, marker='x', color='k')\n",
    "plt.plot(x, np.cumsum(s) / sum(s) * 100)\n",
    "plt.title('Explained Variance')\n",
    "plt.xlabel('Factor No.')\n",
    "plt.ylabel('Accumulated Singular Values')\n",
    "plt.xticks(x)\n",
    "plt.grid()"
   ]
  },
  {
   "cell_type": "code",
   "execution_count": null,
   "id": "79f30564",
   "metadata": {},
   "outputs": [],
   "source": [
    "x = np.arange(1, len(s)+1)\n",
    "\n",
    "fig = plt.figure(figsize=(7,5))\n",
    "ax = fig.add_axes([0,0,1,1])\n",
    "\n",
    "plt.plot(x, s / sum(s) * 100)\n",
    "plt.scatter(x, s / sum(s) * 100, marker='x', color='k')\n",
    "plt.xlabel('Number of components')\n",
    "plt.ylabel('Percentage of variability explained')\n",
    "plt.xticks(x)\n",
    "plt.grid()"
   ]
  },
  {
   "cell_type": "code",
   "execution_count": null,
   "id": "ee44b468",
   "metadata": {},
   "outputs": [],
   "source": [
    "x = np.arange(1, len(s)+1)\n",
    "\n",
    "fig, axs = plt.subplots(1, 2, figsize=(30,10))\n",
    "axs = axs.ravel()\n",
    "axs[0].plot(P[:,0],P[:,1], marker='o')\n",
    "axs[0].set_title('Loadings Plot: p1 vs. p2')\n",
    "axs[0].set_xlabel('Loading p1')\n",
    "axs[0].set_ylabel('Loading p2')\n",
    "\n",
    "axs[1].plot(P[:,2],P[:,3], marker='o')\n",
    "axs[1].set_title('Loadings Plot: p3 vs. p4')\n",
    "axs[1].set_xlabel('Loading p3')\n",
    "axs[1].set_ylabel('Loading p4')\n",
    "\n",
    "for i in range(len(X_train_norm.columns)):\n",
    "    axs[0].annotate(f'#{i+1}', xy=(P[i,0], P[i,1]))\n",
    "    axs[1].annotate(f'#{i+1}', xy=(P[i,2], P[i,3]))\n",
    "plt.show()"
   ]
  },
  {
   "cell_type": "code",
   "execution_count": null,
   "id": "b680051a",
   "metadata": {},
   "outputs": [],
   "source": [
    "x = np.arange(1, len(s)+1)\n",
    "\n",
    "fig, axs = plt.subplots(1, 2, figsize=(30,10))\n",
    "axs = axs.ravel()\n",
    "axs[0].plot(x, P[:,0:2], marker='o')\n",
    "axs[0].grid()\n",
    "axs[0].set_title('Loading vectors p1, p2')\n",
    "axs[0].set_xlabel('Component')\n",
    "axs[0].set_ylabel('Loading')\n",
    "axs[0].legend(['p1', 'p2'])\n",
    "axs[0].set_xticks(x)\n",
    "\n",
    "axs[1].plot(x, P[:,2:4], marker='o')\n",
    "axs[1].grid()\n",
    "axs[1].set_title('Loading vectors p3, p4')\n",
    "axs[1].set_xlabel('Component')\n",
    "axs[1].set_ylabel('Loading')\n",
    "axs[1].legend(['p3', 'p4'])\n",
    "axs[1].set_xticks(x)\n",
    "\n",
    "plt.show()"
   ]
  },
  {
   "cell_type": "code",
   "execution_count": null,
   "id": "3f6ed182",
   "metadata": {},
   "outputs": [],
   "source": [
    "[U,s,VT] = np.linalg.svd(X, full_matrices=False)\n",
    "P = VT.T@np.diag(s)\n",
    "T = U\n",
    "X_c = tmp - np.mean(X)\n",
    "X_hat = T[:,0:10]@P[:,0:10].T\n",
    "E = X_c - X_hat"
   ]
  },
  {
   "cell_type": "code",
   "execution_count": null,
   "id": "dbc388b9",
   "metadata": {},
   "outputs": [],
   "source": [
    "plt.figure(figsize=(7,5))\n",
    "plt.plot(np.arange(E.shape[1]), E[0:1000].T)\n",
    "plt.xticks(np.arange(E.shape[1]))\n",
    "plt.grid()\n",
    "plt.title('Residual')\n",
    "plt.show()"
   ]
  },
  {
   "cell_type": "code",
   "execution_count": null,
   "id": "d57b457b",
   "metadata": {},
   "outputs": [],
   "source": []
  }
 ],
 "metadata": {
  "interpreter": {
   "hash": "1464b977bbd82ffd90f0095c181f5d664a6d98c7ef63f737fcc0d21529f50dfc"
  },
  "kernelspec": {
   "display_name": "Python 3 (ipykernel)",
   "language": "python",
   "name": "python3"
  },
  "language_info": {
   "codemirror_mode": {
    "name": "ipython",
    "version": 3
   },
   "file_extension": ".py",
   "mimetype": "text/x-python",
   "name": "python",
   "nbconvert_exporter": "python",
   "pygments_lexer": "ipython3",
   "version": "3.8.7"
  }
 },
 "nbformat": 4,
 "nbformat_minor": 5
}
